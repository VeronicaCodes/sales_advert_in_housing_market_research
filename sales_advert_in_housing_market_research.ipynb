{
 "cells": [
  {
   "cell_type": "markdown",
   "metadata": {},
   "source": [
    "# Research of sales advertising in the housing market "
   ]
  },
  {
   "cell_type": "markdown",
   "metadata": {},
   "source": [
    "The data is provided by Yandex.Realty, the real estate agency. The dataset is an archive of sales advertising in the housing market in St. Petersburg (Russia) and the surrounding areas collected over the past few years. The goal is to research how to determine the market value of the real estate (set parameters that will help to determine it). This will allow to build an automated system that will track anomalies and fraudulent activity.\n",
    "\n",
    "There are two types of data available for each apartment set for sale. The first type is entered by the user, the second type is received automatically based upon the map data. For example, the distance from the downtown area, airport, the nearest park or body of water."
   ]
  },
  {
   "cell_type": "markdown",
   "metadata": {},
   "source": [
    "# Data Description"
   ]
  },
  {
   "cell_type": "markdown",
   "metadata": {},
   "source": [
    "**Note:** the data provided by the Yandex.Realty is about the housing market in Russia, thus some contents of the dataset might be in Russian language.\n",
    "\n",
    "airports_nearest — distance to the nearest airport in meters (m)<br>\n",
    "balcony - number of balconies<br>\n",
    "ceiling_height – ceiling height (m)<br>\n",
    "cityCenters_nearest — distance to the city center (m)<br>\n",
    "days_exposition — how many days the ad was placed (from publication to removal)<br>\n",
    "first_day_exposition - date of publication<br>\n",
    "floor - which floor<br>\n",
    "floors_total - total floors in the house<br>\n",
    "is_apartment - apartments (boolean type)<br>\n",
    "kitchen_area - kitchen area in square meters (m²)<br>\n",
    "last_price - price at the time of removal from publication<br>\n",
    "living_area - living area in square meters (m²)<br>\n",
    "locality_name - name of the locality<br>\n",
    "open_plan - free layout (boolean type)<br>\n",
    "parks_around3000 — number of parks within a radius of 3 km<br>\n",
    "parks_nearest — distance to the nearest park (m)<br>\n",
    "ponds_around3000 — the number of ponds within a radius of 3 km<br>\n",
    "ponds_nearest — distance to the nearest body of water (m)<br>\n",
    "rooms - number of rooms<br>\n",
    "studio - studio apartment (boolean type)<br>\n",
    "total_area — area of ​​the apartment in square meters (m²)<br>\n",
    "total_images — the number of photos of the apartment in the ad<br>"
   ]
  },
  {
   "cell_type": "markdown",
   "metadata": {},
   "source": [
    "## Step 1. Data quality assessment"
   ]
  },
  {
   "cell_type": "code",
   "execution_count": 748,
   "metadata": {},
   "outputs": [],
   "source": [
    "# importing libraries\n",
    "import pandas as pd\n",
    "import matplotlib.pyplot as plt\n",
    "import numpy as np\n",
    "from collections import Counter\n",
    "from pymystem3 import Mystem # for stemming/lemmatization of Russian words\n",
    "\n",
    "m = Mystem()"
   ]
  },
  {
   "cell_type": "code",
   "execution_count": 749,
   "metadata": {},
   "outputs": [],
   "source": [
    "# opening the data file\n",
    "df = pd.read_csv('real_estate_data.csv', sep='\\t', decimal='.')"
   ]
  },
  {
   "cell_type": "code",
   "execution_count": 750,
   "metadata": {},
   "outputs": [
    {
     "data": {
      "text/html": [
       "<div>\n",
       "<style scoped>\n",
       "    .dataframe tbody tr th:only-of-type {\n",
       "        vertical-align: middle;\n",
       "    }\n",
       "\n",
       "    .dataframe tbody tr th {\n",
       "        vertical-align: top;\n",
       "    }\n",
       "\n",
       "    .dataframe thead th {\n",
       "        text-align: right;\n",
       "    }\n",
       "</style>\n",
       "<table border=\"1\" class=\"dataframe\">\n",
       "  <thead>\n",
       "    <tr style=\"text-align: right;\">\n",
       "      <th></th>\n",
       "      <th>total_images</th>\n",
       "      <th>last_price</th>\n",
       "      <th>total_area</th>\n",
       "      <th>first_day_exposition</th>\n",
       "      <th>rooms</th>\n",
       "      <th>ceiling_height</th>\n",
       "      <th>floors_total</th>\n",
       "      <th>living_area</th>\n",
       "      <th>floor</th>\n",
       "      <th>is_apartment</th>\n",
       "      <th>...</th>\n",
       "      <th>kitchen_area</th>\n",
       "      <th>balcony</th>\n",
       "      <th>locality_name</th>\n",
       "      <th>airports_nearest</th>\n",
       "      <th>cityCenters_nearest</th>\n",
       "      <th>parks_around3000</th>\n",
       "      <th>parks_nearest</th>\n",
       "      <th>ponds_around3000</th>\n",
       "      <th>ponds_nearest</th>\n",
       "      <th>days_exposition</th>\n",
       "    </tr>\n",
       "  </thead>\n",
       "  <tbody>\n",
       "    <tr>\n",
       "      <th>0</th>\n",
       "      <td>20</td>\n",
       "      <td>13000000.0</td>\n",
       "      <td>108.0</td>\n",
       "      <td>2019-03-07T00:00:00</td>\n",
       "      <td>3</td>\n",
       "      <td>2.70</td>\n",
       "      <td>16.0</td>\n",
       "      <td>51.0</td>\n",
       "      <td>8</td>\n",
       "      <td>NaN</td>\n",
       "      <td>...</td>\n",
       "      <td>25.0</td>\n",
       "      <td>NaN</td>\n",
       "      <td>Санкт-Петербург</td>\n",
       "      <td>18863.0</td>\n",
       "      <td>16028.0</td>\n",
       "      <td>1.0</td>\n",
       "      <td>482.0</td>\n",
       "      <td>2.0</td>\n",
       "      <td>755.0</td>\n",
       "      <td>NaN</td>\n",
       "    </tr>\n",
       "    <tr>\n",
       "      <th>1</th>\n",
       "      <td>7</td>\n",
       "      <td>3350000.0</td>\n",
       "      <td>40.4</td>\n",
       "      <td>2018-12-04T00:00:00</td>\n",
       "      <td>1</td>\n",
       "      <td>NaN</td>\n",
       "      <td>11.0</td>\n",
       "      <td>18.6</td>\n",
       "      <td>1</td>\n",
       "      <td>NaN</td>\n",
       "      <td>...</td>\n",
       "      <td>11.0</td>\n",
       "      <td>2.0</td>\n",
       "      <td>посёлок Шушары</td>\n",
       "      <td>12817.0</td>\n",
       "      <td>18603.0</td>\n",
       "      <td>0.0</td>\n",
       "      <td>NaN</td>\n",
       "      <td>0.0</td>\n",
       "      <td>NaN</td>\n",
       "      <td>81.0</td>\n",
       "    </tr>\n",
       "    <tr>\n",
       "      <th>2</th>\n",
       "      <td>10</td>\n",
       "      <td>5196000.0</td>\n",
       "      <td>56.0</td>\n",
       "      <td>2015-08-20T00:00:00</td>\n",
       "      <td>2</td>\n",
       "      <td>NaN</td>\n",
       "      <td>5.0</td>\n",
       "      <td>34.3</td>\n",
       "      <td>4</td>\n",
       "      <td>NaN</td>\n",
       "      <td>...</td>\n",
       "      <td>8.3</td>\n",
       "      <td>0.0</td>\n",
       "      <td>Санкт-Петербург</td>\n",
       "      <td>21741.0</td>\n",
       "      <td>13933.0</td>\n",
       "      <td>1.0</td>\n",
       "      <td>90.0</td>\n",
       "      <td>2.0</td>\n",
       "      <td>574.0</td>\n",
       "      <td>558.0</td>\n",
       "    </tr>\n",
       "    <tr>\n",
       "      <th>3</th>\n",
       "      <td>0</td>\n",
       "      <td>64900000.0</td>\n",
       "      <td>159.0</td>\n",
       "      <td>2015-07-24T00:00:00</td>\n",
       "      <td>3</td>\n",
       "      <td>NaN</td>\n",
       "      <td>14.0</td>\n",
       "      <td>NaN</td>\n",
       "      <td>9</td>\n",
       "      <td>NaN</td>\n",
       "      <td>...</td>\n",
       "      <td>NaN</td>\n",
       "      <td>0.0</td>\n",
       "      <td>Санкт-Петербург</td>\n",
       "      <td>28098.0</td>\n",
       "      <td>6800.0</td>\n",
       "      <td>2.0</td>\n",
       "      <td>84.0</td>\n",
       "      <td>3.0</td>\n",
       "      <td>234.0</td>\n",
       "      <td>424.0</td>\n",
       "    </tr>\n",
       "    <tr>\n",
       "      <th>4</th>\n",
       "      <td>2</td>\n",
       "      <td>10000000.0</td>\n",
       "      <td>100.0</td>\n",
       "      <td>2018-06-19T00:00:00</td>\n",
       "      <td>2</td>\n",
       "      <td>3.03</td>\n",
       "      <td>14.0</td>\n",
       "      <td>32.0</td>\n",
       "      <td>13</td>\n",
       "      <td>NaN</td>\n",
       "      <td>...</td>\n",
       "      <td>41.0</td>\n",
       "      <td>NaN</td>\n",
       "      <td>Санкт-Петербург</td>\n",
       "      <td>31856.0</td>\n",
       "      <td>8098.0</td>\n",
       "      <td>2.0</td>\n",
       "      <td>112.0</td>\n",
       "      <td>1.0</td>\n",
       "      <td>48.0</td>\n",
       "      <td>121.0</td>\n",
       "    </tr>\n",
       "  </tbody>\n",
       "</table>\n",
       "<p>5 rows × 22 columns</p>\n",
       "</div>"
      ],
      "text/plain": [
       "   total_images  last_price  total_area first_day_exposition  rooms  \\\n",
       "0            20  13000000.0       108.0  2019-03-07T00:00:00      3   \n",
       "1             7   3350000.0        40.4  2018-12-04T00:00:00      1   \n",
       "2            10   5196000.0        56.0  2015-08-20T00:00:00      2   \n",
       "3             0  64900000.0       159.0  2015-07-24T00:00:00      3   \n",
       "4             2  10000000.0       100.0  2018-06-19T00:00:00      2   \n",
       "\n",
       "   ceiling_height  floors_total  living_area  floor is_apartment  ...  \\\n",
       "0            2.70          16.0         51.0      8          NaN  ...   \n",
       "1             NaN          11.0         18.6      1          NaN  ...   \n",
       "2             NaN           5.0         34.3      4          NaN  ...   \n",
       "3             NaN          14.0          NaN      9          NaN  ...   \n",
       "4            3.03          14.0         32.0     13          NaN  ...   \n",
       "\n",
       "   kitchen_area  balcony    locality_name  airports_nearest  \\\n",
       "0          25.0      NaN  Санкт-Петербург           18863.0   \n",
       "1          11.0      2.0   посёлок Шушары           12817.0   \n",
       "2           8.3      0.0  Санкт-Петербург           21741.0   \n",
       "3           NaN      0.0  Санкт-Петербург           28098.0   \n",
       "4          41.0      NaN  Санкт-Петербург           31856.0   \n",
       "\n",
       "  cityCenters_nearest  parks_around3000  parks_nearest  ponds_around3000  \\\n",
       "0             16028.0               1.0          482.0               2.0   \n",
       "1             18603.0               0.0            NaN               0.0   \n",
       "2             13933.0               1.0           90.0               2.0   \n",
       "3              6800.0               2.0           84.0               3.0   \n",
       "4              8098.0               2.0          112.0               1.0   \n",
       "\n",
       "   ponds_nearest  days_exposition  \n",
       "0          755.0              NaN  \n",
       "1            NaN             81.0  \n",
       "2          574.0            558.0  \n",
       "3          234.0            424.0  \n",
       "4           48.0            121.0  \n",
       "\n",
       "[5 rows x 22 columns]"
      ]
     },
     "execution_count": 750,
     "metadata": {},
     "output_type": "execute_result"
    }
   ],
   "source": [
    "# getting the first 5 table strings.\n",
    "df.head()"
   ]
  },
  {
   "cell_type": "code",
   "execution_count": 751,
   "metadata": {},
   "outputs": [
    {
     "name": "stdout",
     "output_type": "stream",
     "text": [
      "<class 'pandas.core.frame.DataFrame'>\n",
      "RangeIndex: 23699 entries, 0 to 23698\n",
      "Data columns (total 22 columns):\n",
      " #   Column                Non-Null Count  Dtype  \n",
      "---  ------                --------------  -----  \n",
      " 0   total_images          23699 non-null  int64  \n",
      " 1   last_price            23699 non-null  float64\n",
      " 2   total_area            23699 non-null  float64\n",
      " 3   first_day_exposition  23699 non-null  object \n",
      " 4   rooms                 23699 non-null  int64  \n",
      " 5   ceiling_height        14504 non-null  float64\n",
      " 6   floors_total          23613 non-null  float64\n",
      " 7   living_area           21796 non-null  float64\n",
      " 8   floor                 23699 non-null  int64  \n",
      " 9   is_apartment          2775 non-null   object \n",
      " 10  studio                23699 non-null  bool   \n",
      " 11  open_plan             23699 non-null  bool   \n",
      " 12  kitchen_area          21421 non-null  float64\n",
      " 13  balcony               12180 non-null  float64\n",
      " 14  locality_name         23650 non-null  object \n",
      " 15  airports_nearest      18157 non-null  float64\n",
      " 16  cityCenters_nearest   18180 non-null  float64\n",
      " 17  parks_around3000      18181 non-null  float64\n",
      " 18  parks_nearest         8079 non-null   float64\n",
      " 19  ponds_around3000      18181 non-null  float64\n",
      " 20  ponds_nearest         9110 non-null   float64\n",
      " 21  days_exposition       20518 non-null  float64\n",
      "dtypes: bool(2), float64(14), int64(3), object(3)\n",
      "memory usage: 3.7+ MB\n"
     ]
    }
   ],
   "source": [
    "# looking at the general information\n",
    "df.info()"
   ]
  },
  {
   "cell_type": "code",
   "execution_count": 752,
   "metadata": {},
   "outputs": [
    {
     "data": {
      "text/plain": [
       "total_images                0\n",
       "last_price                  0\n",
       "total_area                  0\n",
       "first_day_exposition        0\n",
       "rooms                       0\n",
       "ceiling_height           9195\n",
       "floors_total               86\n",
       "living_area              1903\n",
       "floor                       0\n",
       "is_apartment            20924\n",
       "studio                      0\n",
       "open_plan                   0\n",
       "kitchen_area             2278\n",
       "balcony                 11519\n",
       "locality_name              49\n",
       "airports_nearest         5542\n",
       "cityCenters_nearest      5519\n",
       "parks_around3000         5518\n",
       "parks_nearest           15620\n",
       "ponds_around3000         5518\n",
       "ponds_nearest           14589\n",
       "days_exposition          3181\n",
       "dtype: int64"
      ]
     },
     "execution_count": 752,
     "metadata": {},
     "output_type": "execute_result"
    }
   ],
   "source": [
    "# checking for at the NaN values\n",
    "df.isnull().sum()"
   ]
  },
  {
   "cell_type": "code",
   "execution_count": 753,
   "metadata": {},
   "outputs": [
    {
     "data": {
      "text/plain": [
       "['ceiling_height',\n",
       " 'floors_total',\n",
       " 'living_area',\n",
       " 'is_apartment',\n",
       " 'kitchen_area',\n",
       " 'balcony',\n",
       " 'locality_name',\n",
       " 'airports_nearest',\n",
       " 'cityCenters_nearest',\n",
       " 'parks_around3000',\n",
       " 'parks_nearest',\n",
       " 'ponds_around3000',\n",
       " 'ponds_nearest',\n",
       " 'days_exposition']"
      ]
     },
     "execution_count": 753,
     "metadata": {},
     "output_type": "execute_result"
    }
   ],
   "source": [
    "# finding the list of columns with NaN\n",
    "df.columns[df.isna().any()].tolist()"
   ]
  },
  {
   "cell_type": "code",
   "execution_count": 754,
   "metadata": {},
   "outputs": [
    {
     "data": {
      "text/plain": [
       "0"
      ]
     },
     "execution_count": 754,
     "metadata": {},
     "output_type": "execute_result"
    }
   ],
   "source": [
    "# checking for duplicates\n",
    "df.duplicated().sum()"
   ]
  },
  {
   "cell_type": "code",
   "execution_count": 755,
   "metadata": {},
   "outputs": [
    {
     "data": {
      "text/html": [
       "<div>\n",
       "<style scoped>\n",
       "    .dataframe tbody tr th:only-of-type {\n",
       "        vertical-align: middle;\n",
       "    }\n",
       "\n",
       "    .dataframe tbody tr th {\n",
       "        vertical-align: top;\n",
       "    }\n",
       "\n",
       "    .dataframe thead th {\n",
       "        text-align: right;\n",
       "    }\n",
       "</style>\n",
       "<table border=\"1\" class=\"dataframe\">\n",
       "  <thead>\n",
       "    <tr style=\"text-align: right;\">\n",
       "      <th></th>\n",
       "      <th>total_images</th>\n",
       "      <th>last_price</th>\n",
       "      <th>total_area</th>\n",
       "      <th>rooms</th>\n",
       "      <th>ceiling_height</th>\n",
       "      <th>floors_total</th>\n",
       "      <th>living_area</th>\n",
       "      <th>floor</th>\n",
       "      <th>kitchen_area</th>\n",
       "      <th>balcony</th>\n",
       "      <th>airports_nearest</th>\n",
       "      <th>cityCenters_nearest</th>\n",
       "      <th>parks_around3000</th>\n",
       "      <th>parks_nearest</th>\n",
       "      <th>ponds_around3000</th>\n",
       "      <th>ponds_nearest</th>\n",
       "      <th>days_exposition</th>\n",
       "    </tr>\n",
       "  </thead>\n",
       "  <tbody>\n",
       "    <tr>\n",
       "      <th>count</th>\n",
       "      <td>23699.000000</td>\n",
       "      <td>2.369900e+04</td>\n",
       "      <td>23699.000000</td>\n",
       "      <td>23699.000000</td>\n",
       "      <td>14504.000000</td>\n",
       "      <td>23613.000000</td>\n",
       "      <td>21796.000000</td>\n",
       "      <td>23699.000000</td>\n",
       "      <td>21421.000000</td>\n",
       "      <td>12180.000000</td>\n",
       "      <td>18157.000000</td>\n",
       "      <td>18180.000000</td>\n",
       "      <td>18181.000000</td>\n",
       "      <td>8079.000000</td>\n",
       "      <td>18181.000000</td>\n",
       "      <td>9110.000000</td>\n",
       "      <td>20518.000000</td>\n",
       "    </tr>\n",
       "    <tr>\n",
       "      <th>mean</th>\n",
       "      <td>9.858475</td>\n",
       "      <td>6.541549e+06</td>\n",
       "      <td>60.348651</td>\n",
       "      <td>2.070636</td>\n",
       "      <td>2.771499</td>\n",
       "      <td>10.673824</td>\n",
       "      <td>34.457852</td>\n",
       "      <td>5.892358</td>\n",
       "      <td>10.569807</td>\n",
       "      <td>1.150082</td>\n",
       "      <td>28793.672193</td>\n",
       "      <td>14191.277833</td>\n",
       "      <td>0.611408</td>\n",
       "      <td>490.804555</td>\n",
       "      <td>0.770255</td>\n",
       "      <td>517.980900</td>\n",
       "      <td>180.888634</td>\n",
       "    </tr>\n",
       "    <tr>\n",
       "      <th>std</th>\n",
       "      <td>5.682529</td>\n",
       "      <td>1.088701e+07</td>\n",
       "      <td>35.654083</td>\n",
       "      <td>1.078405</td>\n",
       "      <td>1.261056</td>\n",
       "      <td>6.597173</td>\n",
       "      <td>22.030445</td>\n",
       "      <td>4.885249</td>\n",
       "      <td>5.905438</td>\n",
       "      <td>1.071300</td>\n",
       "      <td>12630.880622</td>\n",
       "      <td>8608.386210</td>\n",
       "      <td>0.802074</td>\n",
       "      <td>342.317995</td>\n",
       "      <td>0.938346</td>\n",
       "      <td>277.720643</td>\n",
       "      <td>219.727988</td>\n",
       "    </tr>\n",
       "    <tr>\n",
       "      <th>min</th>\n",
       "      <td>0.000000</td>\n",
       "      <td>1.219000e+04</td>\n",
       "      <td>12.000000</td>\n",
       "      <td>0.000000</td>\n",
       "      <td>1.000000</td>\n",
       "      <td>1.000000</td>\n",
       "      <td>2.000000</td>\n",
       "      <td>1.000000</td>\n",
       "      <td>1.300000</td>\n",
       "      <td>0.000000</td>\n",
       "      <td>0.000000</td>\n",
       "      <td>181.000000</td>\n",
       "      <td>0.000000</td>\n",
       "      <td>1.000000</td>\n",
       "      <td>0.000000</td>\n",
       "      <td>13.000000</td>\n",
       "      <td>1.000000</td>\n",
       "    </tr>\n",
       "    <tr>\n",
       "      <th>25%</th>\n",
       "      <td>6.000000</td>\n",
       "      <td>3.400000e+06</td>\n",
       "      <td>40.000000</td>\n",
       "      <td>1.000000</td>\n",
       "      <td>2.520000</td>\n",
       "      <td>5.000000</td>\n",
       "      <td>18.600000</td>\n",
       "      <td>2.000000</td>\n",
       "      <td>7.000000</td>\n",
       "      <td>0.000000</td>\n",
       "      <td>18585.000000</td>\n",
       "      <td>9238.000000</td>\n",
       "      <td>0.000000</td>\n",
       "      <td>288.000000</td>\n",
       "      <td>0.000000</td>\n",
       "      <td>294.000000</td>\n",
       "      <td>45.000000</td>\n",
       "    </tr>\n",
       "    <tr>\n",
       "      <th>50%</th>\n",
       "      <td>9.000000</td>\n",
       "      <td>4.650000e+06</td>\n",
       "      <td>52.000000</td>\n",
       "      <td>2.000000</td>\n",
       "      <td>2.650000</td>\n",
       "      <td>9.000000</td>\n",
       "      <td>30.000000</td>\n",
       "      <td>4.000000</td>\n",
       "      <td>9.100000</td>\n",
       "      <td>1.000000</td>\n",
       "      <td>26726.000000</td>\n",
       "      <td>13098.500000</td>\n",
       "      <td>0.000000</td>\n",
       "      <td>455.000000</td>\n",
       "      <td>1.000000</td>\n",
       "      <td>502.000000</td>\n",
       "      <td>95.000000</td>\n",
       "    </tr>\n",
       "    <tr>\n",
       "      <th>75%</th>\n",
       "      <td>14.000000</td>\n",
       "      <td>6.800000e+06</td>\n",
       "      <td>69.900000</td>\n",
       "      <td>3.000000</td>\n",
       "      <td>2.800000</td>\n",
       "      <td>16.000000</td>\n",
       "      <td>42.300000</td>\n",
       "      <td>8.000000</td>\n",
       "      <td>12.000000</td>\n",
       "      <td>2.000000</td>\n",
       "      <td>37273.000000</td>\n",
       "      <td>16293.000000</td>\n",
       "      <td>1.000000</td>\n",
       "      <td>612.000000</td>\n",
       "      <td>1.000000</td>\n",
       "      <td>729.000000</td>\n",
       "      <td>232.000000</td>\n",
       "    </tr>\n",
       "    <tr>\n",
       "      <th>max</th>\n",
       "      <td>50.000000</td>\n",
       "      <td>7.630000e+08</td>\n",
       "      <td>900.000000</td>\n",
       "      <td>19.000000</td>\n",
       "      <td>100.000000</td>\n",
       "      <td>60.000000</td>\n",
       "      <td>409.700000</td>\n",
       "      <td>33.000000</td>\n",
       "      <td>112.000000</td>\n",
       "      <td>5.000000</td>\n",
       "      <td>84869.000000</td>\n",
       "      <td>65968.000000</td>\n",
       "      <td>3.000000</td>\n",
       "      <td>3190.000000</td>\n",
       "      <td>3.000000</td>\n",
       "      <td>1344.000000</td>\n",
       "      <td>1580.000000</td>\n",
       "    </tr>\n",
       "  </tbody>\n",
       "</table>\n",
       "</div>"
      ],
      "text/plain": [
       "       total_images    last_price    total_area         rooms  ceiling_height  \\\n",
       "count  23699.000000  2.369900e+04  23699.000000  23699.000000    14504.000000   \n",
       "mean       9.858475  6.541549e+06     60.348651      2.070636        2.771499   \n",
       "std        5.682529  1.088701e+07     35.654083      1.078405        1.261056   \n",
       "min        0.000000  1.219000e+04     12.000000      0.000000        1.000000   \n",
       "25%        6.000000  3.400000e+06     40.000000      1.000000        2.520000   \n",
       "50%        9.000000  4.650000e+06     52.000000      2.000000        2.650000   \n",
       "75%       14.000000  6.800000e+06     69.900000      3.000000        2.800000   \n",
       "max       50.000000  7.630000e+08    900.000000     19.000000      100.000000   \n",
       "\n",
       "       floors_total   living_area         floor  kitchen_area       balcony  \\\n",
       "count  23613.000000  21796.000000  23699.000000  21421.000000  12180.000000   \n",
       "mean      10.673824     34.457852      5.892358     10.569807      1.150082   \n",
       "std        6.597173     22.030445      4.885249      5.905438      1.071300   \n",
       "min        1.000000      2.000000      1.000000      1.300000      0.000000   \n",
       "25%        5.000000     18.600000      2.000000      7.000000      0.000000   \n",
       "50%        9.000000     30.000000      4.000000      9.100000      1.000000   \n",
       "75%       16.000000     42.300000      8.000000     12.000000      2.000000   \n",
       "max       60.000000    409.700000     33.000000    112.000000      5.000000   \n",
       "\n",
       "       airports_nearest  cityCenters_nearest  parks_around3000  parks_nearest  \\\n",
       "count      18157.000000         18180.000000      18181.000000    8079.000000   \n",
       "mean       28793.672193         14191.277833          0.611408     490.804555   \n",
       "std        12630.880622          8608.386210          0.802074     342.317995   \n",
       "min            0.000000           181.000000          0.000000       1.000000   \n",
       "25%        18585.000000          9238.000000          0.000000     288.000000   \n",
       "50%        26726.000000         13098.500000          0.000000     455.000000   \n",
       "75%        37273.000000         16293.000000          1.000000     612.000000   \n",
       "max        84869.000000         65968.000000          3.000000    3190.000000   \n",
       "\n",
       "       ponds_around3000  ponds_nearest  days_exposition  \n",
       "count      18181.000000    9110.000000     20518.000000  \n",
       "mean           0.770255     517.980900       180.888634  \n",
       "std            0.938346     277.720643       219.727988  \n",
       "min            0.000000      13.000000         1.000000  \n",
       "25%            0.000000     294.000000        45.000000  \n",
       "50%            1.000000     502.000000        95.000000  \n",
       "75%            1.000000     729.000000       232.000000  \n",
       "max            3.000000    1344.000000      1580.000000  "
      ]
     },
     "execution_count": 755,
     "metadata": {},
     "output_type": "execute_result"
    }
   ],
   "source": [
    "# checking numeric values\n",
    "df.describe()"
   ]
  },
  {
   "cell_type": "markdown",
   "metadata": {},
   "source": [
    "The available data types include bool(2), float64(14), int64(3), object(3), we can check more information about object and bool dtypes"
   ]
  },
  {
   "cell_type": "code",
   "execution_count": 756,
   "metadata": {},
   "outputs": [
    {
     "data": {
      "text/html": [
       "<div>\n",
       "<style scoped>\n",
       "    .dataframe tbody tr th:only-of-type {\n",
       "        vertical-align: middle;\n",
       "    }\n",
       "\n",
       "    .dataframe tbody tr th {\n",
       "        vertical-align: top;\n",
       "    }\n",
       "\n",
       "    .dataframe thead th {\n",
       "        text-align: right;\n",
       "    }\n",
       "</style>\n",
       "<table border=\"1\" class=\"dataframe\">\n",
       "  <thead>\n",
       "    <tr style=\"text-align: right;\">\n",
       "      <th></th>\n",
       "      <th>first_day_exposition</th>\n",
       "      <th>is_apartment</th>\n",
       "      <th>studio</th>\n",
       "      <th>open_plan</th>\n",
       "      <th>locality_name</th>\n",
       "    </tr>\n",
       "  </thead>\n",
       "  <tbody>\n",
       "    <tr>\n",
       "      <th>count</th>\n",
       "      <td>23699</td>\n",
       "      <td>2775</td>\n",
       "      <td>23699</td>\n",
       "      <td>23699</td>\n",
       "      <td>23650</td>\n",
       "    </tr>\n",
       "    <tr>\n",
       "      <th>unique</th>\n",
       "      <td>1491</td>\n",
       "      <td>2</td>\n",
       "      <td>2</td>\n",
       "      <td>2</td>\n",
       "      <td>364</td>\n",
       "    </tr>\n",
       "    <tr>\n",
       "      <th>top</th>\n",
       "      <td>2018-02-01T00:00:00</td>\n",
       "      <td>False</td>\n",
       "      <td>False</td>\n",
       "      <td>False</td>\n",
       "      <td>Санкт-Петербург</td>\n",
       "    </tr>\n",
       "    <tr>\n",
       "      <th>freq</th>\n",
       "      <td>368</td>\n",
       "      <td>2725</td>\n",
       "      <td>23550</td>\n",
       "      <td>23632</td>\n",
       "      <td>15721</td>\n",
       "    </tr>\n",
       "  </tbody>\n",
       "</table>\n",
       "</div>"
      ],
      "text/plain": [
       "       first_day_exposition is_apartment studio open_plan    locality_name\n",
       "count                 23699         2775  23699     23699            23650\n",
       "unique                 1491            2      2         2              364\n",
       "top     2018-02-01T00:00:00        False  False     False  Санкт-Петербург\n",
       "freq                    368         2725  23550     23632            15721"
      ]
     },
     "execution_count": 756,
     "metadata": {},
     "output_type": "execute_result"
    }
   ],
   "source": [
    "# checking quantitative values of object & bool data type\n",
    "df.describe(include=['object','bool'])"
   ]
  },
  {
   "cell_type": "markdown",
   "metadata": {},
   "source": [
    "**Summary:** We have a table with the total of 23699 rows and 22 columns of data. Data types include float64, int64, bool and object. Findings:\n",
    "\n",
    "1. Missing values in columns: ['ceiling_height',\n",
    " 'floors_total',\n",
    " 'living_area',\n",
    " 'is_apartment',\n",
    " 'kitchen_area',\n",
    " 'balcony',\n",
    " 'locality_name',\n",
    " 'airports_nearest',\n",
    " 'cityCenters_nearest',\n",
    " 'parks_around3000',\n",
    " 'parks_nearest',\n",
    " 'ponds_around3000',\n",
    " 'ponds_nearest',\n",
    " 'days_exposition']\n",
    " 2. Wrong data type in the following columns (and what it must be changed to): \n",
    "<br>first_day_exposition - change to datetime.\n",
    "<br>floors_total - change to int.\n",
    "<br>is_apartment - change to bool.\n",
    "<br>balcony - change to int.\n",
    "<br>parks_around3000 - change to int.\n",
    "<br>ponds_around3000 - change to int.\n",
    "<br>days_exposition - change to int.\n",
    "3. Uneven letter case in 'locality_name'\n",
    "4. Rooms have minimum value of 0 (should be 1)\n",
    "5. Ceiling height has a minimum of 1m and max of 100 (check for data outliers)"
   ]
  },
  {
   "cell_type": "markdown",
   "metadata": {},
   "source": [
    "## Step 2. Data preprocessing"
   ]
  },
  {
   "cell_type": "markdown",
   "metadata": {},
   "source": [
    "### Processing the missing values"
   ]
  },
  {
   "cell_type": "markdown",
   "metadata": {},
   "source": [
    "**- Processing 'balcony', 'parks_around3000', 'ponds_around3000', 'parks_nearest','ponds_nearest' columns**"
   ]
  },
  {
   "cell_type": "markdown",
   "metadata": {},
   "source": [
    "There are missing values in the columns ('balcony', 'parks_around3000', 'ponds_around3000', 'parks_nearest','ponds_nearest'). Since we have no way of checking the reason behind the missing values in these column, we can hypothesize that the missing values here represent 0, e.g. NaN in 'balcony' means that there are 0 balconies in the apartment."
   ]
  },
  {
   "cell_type": "code",
   "execution_count": 757,
   "metadata": {},
   "outputs": [],
   "source": [
    "# Filling the missing values with 0\n",
    "df[['balcony', 'parks_around3000', \n",
    "    'ponds_around3000', 'parks_nearest','ponds_nearest']] = df[['balcony','parks_around3000',\n",
    "                                                                'ponds_around3000','parks_nearest','ponds_nearest']].fillna(0)"
   ]
  },
  {
   "cell_type": "markdown",
   "metadata": {},
   "source": [
    "**- Processing 'ceiling_height', 'floors_total', 'airports_nearest', 'cityCenters_nearest' columns**"
   ]
  },
  {
   "cell_type": "markdown",
   "metadata": {},
   "source": [
    "Do the similar action for 'ceiling_height',\n",
    "    'floors_total',\n",
    "    'airports_nearest',\n",
    "    'cityCenters_nearest' but fill the missing values with *median* in each column. We replace them with median value because the median is resistant to the outliers in the data."
   ]
  },
  {
   "cell_type": "code",
   "execution_count": 758,
   "metadata": {},
   "outputs": [],
   "source": [
    "fill_with_median = ['ceiling_height',\n",
    "    'floors_total',\n",
    "    'airports_nearest',\n",
    "    'cityCenters_nearest']\n",
    "for i in fill_with_median:\n",
    "    df[i] = df[i].fillna(df[i].median())"
   ]
  },
  {
   "cell_type": "markdown",
   "metadata": {},
   "source": [
    "**- Processing 'ceiling_height' column**"
   ]
  },
  {
   "cell_type": "code",
   "execution_count": 759,
   "metadata": {},
   "outputs": [
    {
     "data": {
      "text/plain": [
       "count    23699.000000\n",
       "mean         2.724358\n",
       "std          0.988298\n",
       "min          1.000000\n",
       "25%          2.600000\n",
       "50%          2.650000\n",
       "75%          2.700000\n",
       "max        100.000000\n",
       "Name: ceiling_height, dtype: float64"
      ]
     },
     "execution_count": 759,
     "metadata": {},
     "output_type": "execute_result"
    }
   ],
   "source": [
    "df['ceiling_height'].describe()"
   ]
  },
  {
   "cell_type": "markdown",
   "metadata": {},
   "source": [
    "We can see that there are 25% or the data that represent the rooms with the ceiling height of above 2.7 meters and that the height might go up to 100 meters, which seems unrealistic.\n",
    "Let's check how many apartments have a ceiling height beyond 10 meters:"
   ]
  },
  {
   "cell_type": "code",
   "execution_count": 760,
   "metadata": {},
   "outputs": [
    {
     "data": {
      "text/plain": [
       "25"
      ]
     },
     "execution_count": 760,
     "metadata": {},
     "output_type": "execute_result"
    }
   ],
   "source": [
    "# count the number of height above 10 m\n",
    "df.query('ceiling_height >= 10')['ceiling_height'].count()"
   ]
  },
  {
   "cell_type": "markdown",
   "metadata": {},
   "source": [
    "So we have a total of 25 apartments with the ceiling height more than 10 m. We replace them with median value because the median is resistant to the data outliers."
   ]
  },
  {
   "cell_type": "code",
   "execution_count": 761,
   "metadata": {},
   "outputs": [],
   "source": [
    "# count mean for \"ceiling_height\" column\n",
    "median_height = df['ceiling_height'].median() \n",
    "\n",
    "# replace values > 10 with \"median_height\"\n",
    "df.loc[df['ceiling_height'] >= 10, 'ceiling_height'] = median_height"
   ]
  },
  {
   "cell_type": "markdown",
   "metadata": {},
   "source": [
    "**- Processing 'days_exposition' column**"
   ]
  },
  {
   "cell_type": "markdown",
   "metadata": {},
   "source": [
    "Fill rhe column 'days_exposition' with the max values (number of days) in this column, hypothesizing that the missing values here represent that the apartment hasn't been sold yet and is still being advertised: "
   ]
  },
  {
   "cell_type": "code",
   "execution_count": 762,
   "metadata": {},
   "outputs": [
    {
     "name": "stdout",
     "output_type": "stream",
     "text": [
      "Max number of days displayed: 1580.0\n",
      "Max number of days converted to years 4\n"
     ]
    }
   ],
   "source": [
    "max_days_exp = df['days_exposition'].max()\n",
    "print('Max number of days displayed:', max_days_exp)\n",
    "print('Max number of days converted to years',round(max_days_exp/365)) #number of years of the apartment being sold on real estate agency (up to current date)\n",
    "\n",
    "# filling in the missing values\n",
    "df['days_exposition'] = df['days_exposition'].fillna(max_days_exp)"
   ]
  },
  {
   "cell_type": "markdown",
   "metadata": {},
   "source": [
    "**- Processing 'rooms' column**"
   ]
  },
  {
   "cell_type": "markdown",
   "metadata": {},
   "source": [
    "In the Step 1 we found that the 'rooms' column had an abnormality of having 0 rooms. We can hypothesize that the 0 might represent the values such as 'studio' apartment or 'open_plan':"
   ]
  },
  {
   "cell_type": "code",
   "execution_count": 763,
   "metadata": {},
   "outputs": [
    {
     "data": {
      "text/plain": [
       "1     8047\n",
       "2     7940\n",
       "3     5814\n",
       "4     1180\n",
       "5      326\n",
       "0      197\n",
       "6      105\n",
       "7       59\n",
       "8       12\n",
       "9        8\n",
       "10       3\n",
       "11       2\n",
       "14       2\n",
       "15       1\n",
       "19       1\n",
       "16       1\n",
       "12       1\n",
       "Name: rooms, dtype: int64"
      ]
     },
     "execution_count": 763,
     "metadata": {},
     "output_type": "execute_result"
    }
   ],
   "source": [
    "# checking the values\n",
    "df['rooms'].value_counts() "
   ]
  },
  {
   "cell_type": "markdown",
   "metadata": {},
   "source": [
    "We have 197 \"rooms\" = 0. Check how many of these represent 'studio' or 'open_plan' apartment type:"
   ]
  },
  {
   "cell_type": "code",
   "execution_count": 764,
   "metadata": {},
   "outputs": [
    {
     "data": {
      "text/plain": [
       "197"
      ]
     },
     "execution_count": 764,
     "metadata": {},
     "output_type": "execute_result"
    }
   ],
   "source": [
    "# using .query() to obtain the necessary information\n",
    "df.query('rooms == 0 and (studio == True or open_plan == True)')['rooms'].count() "
   ]
  },
  {
   "cell_type": "markdown",
   "metadata": {},
   "source": [
    "We got the number that is exactly equal to the number of the variables in 'rooms' with the value 0. Now check if there're any rooms in 'studio' or 'open_plan' where number of rooms is *not* 0:"
   ]
  },
  {
   "cell_type": "code",
   "execution_count": 765,
   "metadata": {},
   "outputs": [
    {
     "data": {
      "text/plain": [
       "19"
      ]
     },
     "execution_count": 765,
     "metadata": {},
     "output_type": "execute_result"
    }
   ],
   "source": [
    "# using .query() to obtain the necessary information\n",
    "df.query('rooms != 0 and (studio == True or open_plan == True)')['rooms'].count() "
   ]
  },
  {
   "cell_type": "markdown",
   "metadata": {},
   "source": [
    "We can safely replace these remaining 19 values with 0s, and from now on we will be aware that '0' rooms represent either the 'studio' apartments or 'open_plan ' "
   ]
  },
  {
   "cell_type": "code",
   "execution_count": 766,
   "metadata": {},
   "outputs": [],
   "source": [
    "# replacing to 0 for 'studio'\n",
    "df.loc[(df['rooms'] != 0) & (df['studio'] == True), 'rooms'] = 0\n",
    "\n",
    "#replacing to 0 for 'open_area'\n",
    "df.loc[(df['rooms'] != 0) & (df['open_plan'] == True), 'rooms'] = 0"
   ]
  },
  {
   "cell_type": "markdown",
   "metadata": {},
   "source": [
    "**- Processing 'living_area','kitchen_area' columns**"
   ]
  },
  {
   "cell_type": "markdown",
   "metadata": {},
   "source": [
    "Because 'living_area' and 'kitchen_area' rooms' sizes are both related to the number of rooms in the apartment (the more there are rooms, the bigger the apartment), group these by the room numbers and fill in the missing values with median as it is resistant to the outliers in the data:"
   ]
  },
  {
   "cell_type": "code",
   "execution_count": 767,
   "metadata": {},
   "outputs": [
    {
     "name": "stdout",
     "output_type": "stream",
     "text": [
      "living area 216\n",
      "kitchen 216\n"
     ]
    },
    {
     "name": "stderr",
     "output_type": "stream",
     "text": [
      "C:\\Python310\\lib\\site-packages\\numpy\\lib\\nanfunctions.py:1117: RuntimeWarning: Mean of empty slice\n",
      "  return np.nanmean(a, axis, out=out, keepdims=keepdims)\n"
     ]
    }
   ],
   "source": [
    "\n",
    "df['living_area'] = df.groupby('rooms')['living_area'].apply(lambda x: x.fillna(x.median()))\n",
    "df['kitchen_area'] = df.groupby('rooms')['kitchen_area'].apply(lambda x: x.fillna(x.median()))\n",
    "\n",
    "    # check the values\n",
    "print('living area', df['kitchen_area'].isnull().sum())\n",
    "print('kitchen',df['kitchen_area'].isnull().sum())"
   ]
  },
  {
   "cell_type": "markdown",
   "metadata": {},
   "source": [
    "It can be seen that there were some values in the 'kitchen_area' that didn't fall into any group. We hypothesize that these values are the 'studio' and 'open_plan': "
   ]
  },
  {
   "cell_type": "code",
   "execution_count": 768,
   "metadata": {},
   "outputs": [
    {
     "data": {
      "text/plain": [
       "216"
      ]
     },
     "execution_count": 768,
     "metadata": {},
     "output_type": "execute_result"
    }
   ],
   "source": [
    "# check the values again with \"rooms\" == 0 and \"studio\" == True or \"open_plan\" == True\n",
    "len(df[(df['kitchen_area'].isnull()) & ((df['studio'] == True) | (df['open_plan'] == True))])"
   ]
  },
  {
   "cell_type": "markdown",
   "metadata": {},
   "source": [
    "Our theory was correct, so we can replace these NaN values with \"0\" in the \"kitchen_area\" because this belongs to the 'studio' and 'open_plan' and there's no kitchen in these apartment types:"
   ]
  },
  {
   "cell_type": "code",
   "execution_count": 769,
   "metadata": {},
   "outputs": [],
   "source": [
    "df['kitchen_area'] = df['kitchen_area'].fillna(0)"
   ]
  },
  {
   "cell_type": "markdown",
   "metadata": {},
   "source": [
    "**- Processing 'is_apartment' column**"
   ]
  },
  {
   "cell_type": "markdown",
   "metadata": {},
   "source": [
    "The column 'is_apartment' is a column with boolean values that represents whether the realty set for sales is apartment or not. We can hypothesize that the missing values represent the 'False':"
   ]
  },
  {
   "cell_type": "code",
   "execution_count": 770,
   "metadata": {},
   "outputs": [
    {
     "name": "stdout",
     "output_type": "stream",
     "text": [
      "False    2725\n",
      "True       50\n",
      "Name: is_apartment, dtype: int64\n",
      "False    20924\n",
      "False     2725\n",
      "True        50\n",
      "Name: is_apartment, dtype: int64\n"
     ]
    }
   ],
   "source": [
    "#  checking he values\n",
    "print(df['is_apartment'].value_counts()) \n",
    "\n",
    "#filling the missing values with False\n",
    "df['is_apartment'] = df['is_apartment'].fillna('False')\n",
    "print(df['is_apartment'].value_counts())"
   ]
  },
  {
   "cell_type": "markdown",
   "metadata": {},
   "source": [
    "**- Processing 'locality_name' column**"
   ]
  },
  {
   "cell_type": "markdown",
   "metadata": {},
   "source": [
    "We don't know exactly what localities could there be in the missing values in 'locality_name' but we could check the appropriate values in another column:'cityCenters_nearest' (whether the apartment is far from the city center):"
   ]
  },
  {
   "cell_type": "code",
   "execution_count": 771,
   "metadata": {},
   "outputs": [
    {
     "name": "stdout",
     "output_type": "stream",
     "text": [
      "Locality missing 49\n",
      "Nearest to city center 25\n"
     ]
    }
   ],
   "source": [
    "# check the total number of missing values in 'locality_name'\n",
    "locality_missing = df[df['locality_name'].isnull()]['cityCenters_nearest'].count()\n",
    "print('Locality missing',locality_missing)\n",
    "\n",
    "# checking how many of the missing values in 'locality_name' are within 10km from the city center \n",
    "cc_nearest = df[df['locality_name'].isnull()].query('cityCenters_nearest < 10000')['cityCenters_nearest'].count()\n",
    "print('Nearest to city center',cc_nearest)"
   ]
  },
  {
   "cell_type": "markdown",
   "metadata": {},
   "source": [
    "There are slightly more than 50% of the missing values are within the city center and we cannot simply assume what those places are. However, we can still fill in the missing value with the variable that represents 'Unknown'('Неизвестно'):"
   ]
  },
  {
   "cell_type": "code",
   "execution_count": 772,
   "metadata": {},
   "outputs": [],
   "source": [
    "#filling in the rest of the missing values with 'Unknown'\n",
    "df['locality_name'] = df['locality_name'].fillna('Неизвестно')"
   ]
  },
  {
   "cell_type": "code",
   "execution_count": 773,
   "metadata": {},
   "outputs": [
    {
     "name": "stdout",
     "output_type": "stream",
     "text": [
      "<class 'pandas.core.frame.DataFrame'>\n",
      "RangeIndex: 23699 entries, 0 to 23698\n",
      "Data columns (total 22 columns):\n",
      " #   Column                Non-Null Count  Dtype  \n",
      "---  ------                --------------  -----  \n",
      " 0   total_images          23699 non-null  int64  \n",
      " 1   last_price            23699 non-null  float64\n",
      " 2   total_area            23699 non-null  float64\n",
      " 3   first_day_exposition  23699 non-null  object \n",
      " 4   rooms                 23699 non-null  int64  \n",
      " 5   ceiling_height        23699 non-null  float64\n",
      " 6   floors_total          23699 non-null  float64\n",
      " 7   living_area           23699 non-null  float64\n",
      " 8   floor                 23699 non-null  int64  \n",
      " 9   is_apartment          23699 non-null  object \n",
      " 10  studio                23699 non-null  bool   \n",
      " 11  open_plan             23699 non-null  bool   \n",
      " 12  kitchen_area          23699 non-null  float64\n",
      " 13  balcony               23699 non-null  float64\n",
      " 14  locality_name         23699 non-null  object \n",
      " 15  airports_nearest      23699 non-null  float64\n",
      " 16  cityCenters_nearest   23699 non-null  float64\n",
      " 17  parks_around3000      23699 non-null  float64\n",
      " 18  parks_nearest         23699 non-null  float64\n",
      " 19  ponds_around3000      23699 non-null  float64\n",
      " 20  ponds_nearest         23699 non-null  float64\n",
      " 21  days_exposition       23699 non-null  float64\n",
      "dtypes: bool(2), float64(14), int64(3), object(3)\n",
      "memory usage: 3.7+ MB\n"
     ]
    }
   ],
   "source": [
    "# Checking the results\n",
    "df.info()"
   ]
  },
  {
   "cell_type": "code",
   "execution_count": 774,
   "metadata": {},
   "outputs": [
    {
     "data": {
      "text/html": [
       "<div>\n",
       "<style scoped>\n",
       "    .dataframe tbody tr th:only-of-type {\n",
       "        vertical-align: middle;\n",
       "    }\n",
       "\n",
       "    .dataframe tbody tr th {\n",
       "        vertical-align: top;\n",
       "    }\n",
       "\n",
       "    .dataframe thead th {\n",
       "        text-align: right;\n",
       "    }\n",
       "</style>\n",
       "<table border=\"1\" class=\"dataframe\">\n",
       "  <thead>\n",
       "    <tr style=\"text-align: right;\">\n",
       "      <th></th>\n",
       "      <th>total_images</th>\n",
       "      <th>last_price</th>\n",
       "      <th>total_area</th>\n",
       "      <th>first_day_exposition</th>\n",
       "      <th>rooms</th>\n",
       "      <th>ceiling_height</th>\n",
       "      <th>floors_total</th>\n",
       "      <th>living_area</th>\n",
       "      <th>floor</th>\n",
       "      <th>is_apartment</th>\n",
       "      <th>...</th>\n",
       "      <th>kitchen_area</th>\n",
       "      <th>balcony</th>\n",
       "      <th>locality_name</th>\n",
       "      <th>airports_nearest</th>\n",
       "      <th>cityCenters_nearest</th>\n",
       "      <th>parks_around3000</th>\n",
       "      <th>parks_nearest</th>\n",
       "      <th>ponds_around3000</th>\n",
       "      <th>ponds_nearest</th>\n",
       "      <th>days_exposition</th>\n",
       "    </tr>\n",
       "  </thead>\n",
       "  <tbody>\n",
       "    <tr>\n",
       "      <th>0</th>\n",
       "      <td>20</td>\n",
       "      <td>13000000.0</td>\n",
       "      <td>108.0</td>\n",
       "      <td>2019-03-07T00:00:00</td>\n",
       "      <td>3</td>\n",
       "      <td>2.70</td>\n",
       "      <td>16.0</td>\n",
       "      <td>51.0</td>\n",
       "      <td>8</td>\n",
       "      <td>False</td>\n",
       "      <td>...</td>\n",
       "      <td>25.0</td>\n",
       "      <td>0.0</td>\n",
       "      <td>Санкт-Петербург</td>\n",
       "      <td>18863.0</td>\n",
       "      <td>16028.0</td>\n",
       "      <td>1.0</td>\n",
       "      <td>482.0</td>\n",
       "      <td>2.0</td>\n",
       "      <td>755.0</td>\n",
       "      <td>1580.0</td>\n",
       "    </tr>\n",
       "    <tr>\n",
       "      <th>1</th>\n",
       "      <td>7</td>\n",
       "      <td>3350000.0</td>\n",
       "      <td>40.4</td>\n",
       "      <td>2018-12-04T00:00:00</td>\n",
       "      <td>1</td>\n",
       "      <td>2.65</td>\n",
       "      <td>11.0</td>\n",
       "      <td>18.6</td>\n",
       "      <td>1</td>\n",
       "      <td>False</td>\n",
       "      <td>...</td>\n",
       "      <td>11.0</td>\n",
       "      <td>2.0</td>\n",
       "      <td>посёлок Шушары</td>\n",
       "      <td>12817.0</td>\n",
       "      <td>18603.0</td>\n",
       "      <td>0.0</td>\n",
       "      <td>0.0</td>\n",
       "      <td>0.0</td>\n",
       "      <td>0.0</td>\n",
       "      <td>81.0</td>\n",
       "    </tr>\n",
       "    <tr>\n",
       "      <th>2</th>\n",
       "      <td>10</td>\n",
       "      <td>5196000.0</td>\n",
       "      <td>56.0</td>\n",
       "      <td>2015-08-20T00:00:00</td>\n",
       "      <td>2</td>\n",
       "      <td>2.65</td>\n",
       "      <td>5.0</td>\n",
       "      <td>34.3</td>\n",
       "      <td>4</td>\n",
       "      <td>False</td>\n",
       "      <td>...</td>\n",
       "      <td>8.3</td>\n",
       "      <td>0.0</td>\n",
       "      <td>Санкт-Петербург</td>\n",
       "      <td>21741.0</td>\n",
       "      <td>13933.0</td>\n",
       "      <td>1.0</td>\n",
       "      <td>90.0</td>\n",
       "      <td>2.0</td>\n",
       "      <td>574.0</td>\n",
       "      <td>558.0</td>\n",
       "    </tr>\n",
       "    <tr>\n",
       "      <th>3</th>\n",
       "      <td>0</td>\n",
       "      <td>64900000.0</td>\n",
       "      <td>159.0</td>\n",
       "      <td>2015-07-24T00:00:00</td>\n",
       "      <td>3</td>\n",
       "      <td>2.65</td>\n",
       "      <td>14.0</td>\n",
       "      <td>45.0</td>\n",
       "      <td>9</td>\n",
       "      <td>False</td>\n",
       "      <td>...</td>\n",
       "      <td>9.5</td>\n",
       "      <td>0.0</td>\n",
       "      <td>Санкт-Петербург</td>\n",
       "      <td>28098.0</td>\n",
       "      <td>6800.0</td>\n",
       "      <td>2.0</td>\n",
       "      <td>84.0</td>\n",
       "      <td>3.0</td>\n",
       "      <td>234.0</td>\n",
       "      <td>424.0</td>\n",
       "    </tr>\n",
       "    <tr>\n",
       "      <th>4</th>\n",
       "      <td>2</td>\n",
       "      <td>10000000.0</td>\n",
       "      <td>100.0</td>\n",
       "      <td>2018-06-19T00:00:00</td>\n",
       "      <td>2</td>\n",
       "      <td>3.03</td>\n",
       "      <td>14.0</td>\n",
       "      <td>32.0</td>\n",
       "      <td>13</td>\n",
       "      <td>False</td>\n",
       "      <td>...</td>\n",
       "      <td>41.0</td>\n",
       "      <td>0.0</td>\n",
       "      <td>Санкт-Петербург</td>\n",
       "      <td>31856.0</td>\n",
       "      <td>8098.0</td>\n",
       "      <td>2.0</td>\n",
       "      <td>112.0</td>\n",
       "      <td>1.0</td>\n",
       "      <td>48.0</td>\n",
       "      <td>121.0</td>\n",
       "    </tr>\n",
       "  </tbody>\n",
       "</table>\n",
       "<p>5 rows × 22 columns</p>\n",
       "</div>"
      ],
      "text/plain": [
       "   total_images  last_price  total_area first_day_exposition  rooms  \\\n",
       "0            20  13000000.0       108.0  2019-03-07T00:00:00      3   \n",
       "1             7   3350000.0        40.4  2018-12-04T00:00:00      1   \n",
       "2            10   5196000.0        56.0  2015-08-20T00:00:00      2   \n",
       "3             0  64900000.0       159.0  2015-07-24T00:00:00      3   \n",
       "4             2  10000000.0       100.0  2018-06-19T00:00:00      2   \n",
       "\n",
       "   ceiling_height  floors_total  living_area  floor is_apartment  ...  \\\n",
       "0            2.70          16.0         51.0      8        False  ...   \n",
       "1            2.65          11.0         18.6      1        False  ...   \n",
       "2            2.65           5.0         34.3      4        False  ...   \n",
       "3            2.65          14.0         45.0      9        False  ...   \n",
       "4            3.03          14.0         32.0     13        False  ...   \n",
       "\n",
       "   kitchen_area  balcony    locality_name  airports_nearest  \\\n",
       "0          25.0      0.0  Санкт-Петербург           18863.0   \n",
       "1          11.0      2.0   посёлок Шушары           12817.0   \n",
       "2           8.3      0.0  Санкт-Петербург           21741.0   \n",
       "3           9.5      0.0  Санкт-Петербург           28098.0   \n",
       "4          41.0      0.0  Санкт-Петербург           31856.0   \n",
       "\n",
       "  cityCenters_nearest  parks_around3000  parks_nearest  ponds_around3000  \\\n",
       "0             16028.0               1.0          482.0               2.0   \n",
       "1             18603.0               0.0            0.0               0.0   \n",
       "2             13933.0               1.0           90.0               2.0   \n",
       "3              6800.0               2.0           84.0               3.0   \n",
       "4              8098.0               2.0          112.0               1.0   \n",
       "\n",
       "   ponds_nearest  days_exposition  \n",
       "0          755.0           1580.0  \n",
       "1            0.0             81.0  \n",
       "2          574.0            558.0  \n",
       "3          234.0            424.0  \n",
       "4           48.0            121.0  \n",
       "\n",
       "[5 rows x 22 columns]"
      ]
     },
     "metadata": {},
     "output_type": "display_data"
    }
   ],
   "source": [
    "# Checking the results\n",
    "display(df.head())"
   ]
  },
  {
   "cell_type": "markdown",
   "metadata": {},
   "source": [
    "**Summary:** We've completed the first step in data preprocessing and filled in all the missing values in the dataset accordingly."
   ]
  },
  {
   "cell_type": "markdown",
   "metadata": {},
   "source": [
    "### Data type replacement"
   ]
  },
  {
   "cell_type": "markdown",
   "metadata": {},
   "source": [
    "Reminder what columns' data types need to be replaced and to what value (as mentioned in Step 1):\n",
    "\n",
    "first_day_exposition - change to datetime.\n",
    "<br>floors_total - change to int.\n",
    "<br>is_apartment - change to bool.\n",
    "<br>balcony - change to int.\n",
    "<br>parks_around3000 - change to int.\n",
    "<br>ponds_around3000 - change to int.\n",
    "<br>days_exposition - change to int."
   ]
  },
  {
   "cell_type": "code",
   "execution_count": 805,
   "metadata": {},
   "outputs": [],
   "source": [
    "\n",
    "# changing all the columns that needed to be changed to int\n",
    "df = df.astype({'last_price':'int','total_area':'int', 'ceiling_height':'int', 'floors_total':'int', 'living_area':'int',\n",
    "                'kitchen_area':'int', 'balcony':'int', 'airports_nearest':'int', 'cityCenters_nearest':'int',\n",
    "                'parks_around3000':'int', 'parks_nearest':'int', 'ponds_around3000':'int',\n",
    "                'ponds_nearest':'int', 'days_exposition':'int'})\n",
    "\n",
    "# changing 'is_apartment' to boolean\n",
    "df['is_apartment'] = df['is_apartment'].astype('bool')\n",
    "\n",
    "# changing 'first_day_exposition' to the appropriate date format\n",
    "df['first_day_exposition'] = pd.to_datetime(df['first_day_exposition'], format='%Y-%m-%dT%H:%M:%S')\n",
    "\n",
    "# changing entirety of 'locality_name' to lowercase\n",
    "df['locality_name'] = df['locality_name'].str.lower()"
   ]
  },
  {
   "cell_type": "markdown",
   "metadata": {},
   "source": [
    "### Stemming/Lemmatization"
   ]
  },
  {
   "cell_type": "markdown",
   "metadata": {},
   "source": [
    "We need to stem (or lemmatize) the 'locality_name' column. In step 1 we saw that the values in this column all have different letter case. Therefore, we need to bring all of the values to the appropriate letter case by using lemmatization method"
   ]
  },
  {
   "cell_type": "code",
   "execution_count": 776,
   "metadata": {},
   "outputs": [],
   "source": [
    "# converting list to string\n",
    "lemmas = m.lemmatize(' '.join(df['locality_name']))"
   ]
  },
  {
   "cell_type": "code",
   "execution_count": 777,
   "metadata": {},
   "outputs": [
    {
     "data": {
      "text/plain": [
       "array(['санкт-петербург', 'посёлок шушары', 'городской посёлок янино-1',\n",
       "       'посёлок парголово', 'посёлок мурино', 'ломоносов', 'сертолово',\n",
       "       'петергоф', 'пушкин', 'деревня кудрово', 'коммунар', 'колпино',\n",
       "       'поселок городского типа красный бор', 'гатчина', 'поселок мурино',\n",
       "       'деревня фёдоровское', 'выборг', 'кронштадт', 'кировск',\n",
       "       'деревня новое девяткино', 'посёлок металлострой',\n",
       "       'посёлок городского типа лебяжье',\n",
       "       'посёлок городского типа сиверский', 'поселок молодцово',\n",
       "       'поселок городского типа кузьмоловский',\n",
       "       'садовое товарищество новая ропша', 'павловск',\n",
       "       'деревня пикколово', 'всеволожск', 'волхов', 'кингисепп',\n",
       "       'приозерск', 'сестрорецк', 'деревня куттузи', 'посёлок аннино',\n",
       "       'поселок городского типа ефимовский', 'посёлок плодовое',\n",
       "       'деревня заклинье', 'поселок торковичи', 'поселок первомайское',\n",
       "       'красное село', 'посёлок понтонный', 'сясьстрой', 'деревня старая',\n",
       "       'деревня лесколово', 'посёлок новый свет', 'сланцы',\n",
       "       'село путилово', 'ивангород', 'мурино', 'шлиссельбург',\n",
       "       'никольское', 'зеленогорск', 'сосновый бор', 'поселок новый свет',\n",
       "       'деревня оржицы', 'деревня кальтино', 'кудрово',\n",
       "       'поселок романовка', 'посёлок бугры', 'поселок бугры',\n",
       "       'поселок городского типа рощино', 'кириши', 'луга', 'волосово',\n",
       "       'отрадное', 'село павлово', 'поселок оредеж', 'село копорье',\n",
       "       'посёлок городского типа красный бор', 'посёлок молодёжное',\n",
       "       'тихвин', 'посёлок победа', 'деревня нурма',\n",
       "       'поселок городского типа синявино', 'тосно',\n",
       "       'посёлок городского типа кузьмоловский', 'посёлок стрельна',\n",
       "       'бокситогорск', 'посёлок александровская', 'деревня лопухинка',\n",
       "       'пикалёво', 'поселок терволово',\n",
       "       'поселок городского типа советский', 'подпорожье',\n",
       "       'посёлок петровское', 'посёлок городского типа токсово',\n",
       "       'поселок сельцо', 'посёлок городского типа вырица',\n",
       "       'деревня кипень', 'деревня келози', 'деревня вартемяги',\n",
       "       'посёлок тельмана', 'поселок севастьяново',\n",
       "       'городской поселок большая ижора', 'неизвестно',\n",
       "       'городской посёлок павлово', 'деревня агалатово',\n",
       "       'посёлок новогорелово', 'городской посёлок лесогорский',\n",
       "       'деревня лаголово', 'поселок цвелодубово',\n",
       "       'поселок городского типа рахья', 'поселок городского типа вырица',\n",
       "       'деревня белогорка', 'поселок заводской',\n",
       "       'городской посёлок новоселье', 'деревня большие колпаны',\n",
       "       'деревня горбунки', 'деревня батово', 'деревня заневка',\n",
       "       'деревня иссад', 'приморск', 'городской посёлок фёдоровское',\n",
       "       'деревня мистолово', 'новая ладога', 'поселок зимитицы',\n",
       "       'поселок барышево', 'деревня разметелево',\n",
       "       'поселок городского типа имени свердлова', 'деревня пеники',\n",
       "       'поселок рябово', 'деревня пудомяги', 'поселок станции корнево',\n",
       "       'деревня низино', 'деревня бегуницы', 'посёлок поляны',\n",
       "       'городской посёлок мга', 'поселок елизаветино',\n",
       "       'посёлок городского типа кузнечное', 'деревня колтуши',\n",
       "       'поселок запорожское', 'посёлок городского типа рощино',\n",
       "       'деревня гостилицы', 'деревня малое карлино',\n",
       "       'посёлок мичуринское', 'посёлок городского типа имени морозова',\n",
       "       'посёлок песочный', 'посёлок сосново', 'деревня аро',\n",
       "       'поселок ильичёво', 'посёлок городского типа тайцы',\n",
       "       'деревня малое верево', 'деревня извара', 'поселок станции вещево',\n",
       "       'село паша', 'деревня калитино',\n",
       "       'посёлок городского типа ульяновка', 'деревня чудской бор',\n",
       "       'поселок городского типа дубровка', 'деревня мины',\n",
       "       'поселок войсковицы', 'посёлок городского типа имени свердлова',\n",
       "       'деревня коркино', 'посёлок ропша',\n",
       "       'поселок городского типа приладожский', 'посёлок щеглово',\n",
       "       'посёлок гаврилово', 'лодейное поле', 'деревня рабитицы',\n",
       "       'поселок городского типа никольский', 'деревня кузьмолово',\n",
       "       'деревня малые колпаны', 'поселок тельмана',\n",
       "       'посёлок петро-славянка', 'городской посёлок назия',\n",
       "       'посёлок репино', 'посёлок ильичёво', 'поселок углово',\n",
       "       'поселок старая малукса', 'садовое товарищество рахья',\n",
       "       'поселок аннино', 'поселок победа', 'деревня меньково',\n",
       "       'деревня старые бегуницы', 'посёлок сапёрный', 'поселок семрино',\n",
       "       'поселок гаврилово', 'поселок глажево', 'поселок кобринское',\n",
       "       'деревня гарболово', 'деревня юкки',\n",
       "       'поселок станции приветнинское', 'деревня мануйлово',\n",
       "       'деревня пчева', 'поселок поляны', 'поселок цвылёво',\n",
       "       'поселок мельниково', 'посёлок пудость', 'посёлок усть-луга',\n",
       "       'светогорск', 'любань', 'поселок селезнёво',\n",
       "       'поселок городского типа рябово', 'каменногорск', 'деревня кривко',\n",
       "       'поселок глебычево', 'деревня парицы', 'поселок жилпосёлок',\n",
       "       'посёлок городского типа мга', 'городской поселок янино-1',\n",
       "       'посёлок войскорово', 'село никольское', 'посёлок терволово',\n",
       "       'поселок стеклянный', 'посёлок городского типа важины',\n",
       "       'посёлок мыза-ивановка', 'село русско-высоцкое',\n",
       "       'поселок городского типа лебяжье',\n",
       "       'поселок городского типа форносово', 'село старая ладога',\n",
       "       'поселок житково', 'городской посёлок виллози', 'деревня лампово',\n",
       "       'деревня шпаньково', 'деревня лаврики', 'посёлок сумино',\n",
       "       'посёлок возрождение', 'деревня старосиверская',\n",
       "       'посёлок кикерино', 'поселок возрождение',\n",
       "       'деревня старое хинколово', 'посёлок пригородный',\n",
       "       'посёлок торфяное', 'городской посёлок будогощь',\n",
       "       'поселок суходолье', 'поселок красная долина', 'деревня хапо-ое',\n",
       "       'поселок городского типа дружная горка', 'поселок лисий нос',\n",
       "       'деревня яльгелево', 'посёлок стеклянный', 'село рождествено',\n",
       "       'деревня старополье', 'посёлок левашово', 'деревня сяськелево',\n",
       "       'деревня камышовка',\n",
       "       'садоводческое некоммерческое товарищество лесная поляна',\n",
       "       'деревня хязельки', 'поселок жилгородок',\n",
       "       'посёлок городского типа павлово', 'деревня ялгино',\n",
       "       'поселок новый учхоз', 'городской посёлок рощино',\n",
       "       'поселок гончарово', 'поселок почап', 'посёлок сапёрное',\n",
       "       'посёлок платформа 69-й километр', 'поселок каложицы',\n",
       "       'деревня фалилеево', 'деревня пельгора',\n",
       "       'поселок городского типа лесогорский', 'деревня торошковичи',\n",
       "       'посёлок белоостров', 'посёлок алексеевка', 'поселок серебрянский',\n",
       "       'поселок лукаши', 'поселок петровское', 'деревня щеглово',\n",
       "       'поселок мичуринское', 'деревня тарасово', 'поселок кингисеппский',\n",
       "       'посёлок при железнодорожной станции вещево', 'поселок ушаки',\n",
       "       'деревня котлы', 'деревня сижно', 'деревня торосово',\n",
       "       'посёлок форт красная горка', 'поселок городского типа токсово',\n",
       "       'деревня новолисино', 'посёлок станции громово', 'деревня глинка',\n",
       "       'посёлок мельниково', 'поселок городского типа назия',\n",
       "       'деревня старая пустошь', 'поселок коммунары', 'поселок починок',\n",
       "       'посёлок городского типа вознесенье', 'деревня разбегаево',\n",
       "       'посёлок городского типа рябово', 'поселок гладкое',\n",
       "       'посёлок при железнодорожной станции приветнинское',\n",
       "       'поселок тёсово-4', 'посёлок жилгородок', 'деревня бор',\n",
       "       'посёлок коробицыно', 'деревня большая вруда', 'деревня курковицы',\n",
       "       'посёлок лисий нос', 'городской посёлок советский',\n",
       "       'посёлок кобралово', 'деревня суоранда', 'поселок кобралово',\n",
       "       'поселок городского типа кондратьево',\n",
       "       'коттеджный поселок счастье', 'поселок любань', 'деревня реброво',\n",
       "       'деревня зимитицы', 'деревня тойворово', 'поселок семиозерье',\n",
       "       'поселок лесное', 'поселок совхозный', 'поселок усть-луга',\n",
       "       'посёлок ленинское', 'посёлок суйда',\n",
       "       'посёлок городского типа форносово', 'деревня нижние осельки',\n",
       "       'посёлок станции свирь', 'поселок перово', 'высоцк',\n",
       "       'поселок гарболово', 'село шум', 'поселок котельский',\n",
       "       'поселок станции лужайка', 'деревня большая пустомержа',\n",
       "       'поселок красносельское', 'деревня вахнова кара', 'деревня пижма',\n",
       "       'коттеджный поселок кивеннапа север', 'поселок коробицыно',\n",
       "       'поселок ромашки', 'посёлок перово', 'деревня каськово',\n",
       "       'деревня куровицы', 'посёлок плоское', 'поселок сумино',\n",
       "       'поселок городского типа большая ижора', 'поселок кирпичное',\n",
       "       'деревня ям-тесово', 'деревня раздолье', 'деревня терпилицы',\n",
       "       'посёлок шугозеро', 'деревня ваганово', 'поселок пушное',\n",
       "       'садовое товарищество садко', 'посёлок усть-ижора',\n",
       "       'деревня выскатка', 'городской посёлок свирьстрой',\n",
       "       'поселок громово', 'деревня кисельня', 'посёлок старая малукса',\n",
       "       'деревня трубников бор', 'поселок калитино',\n",
       "       'посёлок высокоключевой', 'садовое товарищество приладожский',\n",
       "       'посёлок пансионат зелёный бор', 'деревня ненимяки',\n",
       "       'поселок пансионат зелёный бор', 'деревня снегирёвка',\n",
       "       'деревня рапполово', 'деревня пустынка', 'поселок рабитицы',\n",
       "       'деревня большой сабск', 'деревня русско', 'деревня лупполово',\n",
       "       'деревня большое рейзино', 'деревня малая романовка',\n",
       "       'поселок дружноселье', 'поселок пчевжа', 'поселок володарское',\n",
       "       'деревня нижняя', 'коттеджный посёлок лесное', 'деревня тихковицы',\n",
       "       'деревня борисова грива', 'посёлок дзержинского'], dtype=object)"
      ]
     },
     "metadata": {},
     "output_type": "display_data"
    }
   ],
   "source": [
    "%%script echo skipping\n",
    "# check the list of unique values\n",
    "display(df['locality_name'].unique())"
   ]
  },
  {
   "cell_type": "code",
   "execution_count": 778,
   "metadata": {},
   "outputs": [
    {
     "name": "stdout",
     "output_type": "stream",
     "text": [
      "Couldn't find program: 'echo'\n"
     ]
    }
   ],
   "source": [
    "%%script echo skipping\n",
    "# manually creating a dictionary with the unique values as exceptions\n",
    "exceptions = ['\\n', 'посёлок', 'поселок', 'село', 'город', 'городской', 'деревня', 'бор', 'луг','городского', 'типа']\n",
    "\n",
    "# writing a function for lemmatization\n",
    "def lemmatize_col(row):\n",
    "    for word in m.lemmatize(row):\n",
    "        if word in list(set(lemmas)) and (word not in exceptions):\n",
    "            return word  \n",
    "        if word in exceptions:\n",
    "            return ''.join(row.split(' ', 1)[1:]).lower()"
   ]
  },
  {
   "cell_type": "code",
   "execution_count": 779,
   "metadata": {},
   "outputs": [
    {
     "name": "stdout",
     "output_type": "stream",
     "text": [
      "Couldn't find program: 'echo'\n"
     ]
    }
   ],
   "source": [
    "%%script echo skipping\n",
    "# applying lemmatize_col function to the dataframe\n",
    "df['locality_name'] = df['locality_name'].apply(lemmatize_col)"
   ]
  },
  {
   "cell_type": "code",
   "execution_count": 780,
   "metadata": {},
   "outputs": [
    {
     "name": "stdout",
     "output_type": "stream",
     "text": [
      "Couldn't find program: 'echo'\n"
     ]
    }
   ],
   "source": [
    "%%script echo skipping\n",
    "# checking the values\n",
    "print(df['locality_name'].unique())\n",
    "\n",
    "df.info()"
   ]
  },
  {
   "cell_type": "markdown",
   "metadata": {},
   "source": [
    "**Summary:** We have processed the missing values, filled them in with the appropriate values, replaced the data types for the columns where it was needed."
   ]
  },
  {
   "cell_type": "markdown",
   "metadata": {},
   "source": [
    "## Step 3. Making calculations and adding them to the dataframe"
   ]
  },
  {
   "cell_type": "markdown",
   "metadata": {},
   "source": [
    "**Calculate the price per square meter and add to 'price_sq_m' column**"
   ]
  },
  {
   "cell_type": "code",
   "execution_count": 781,
   "metadata": {},
   "outputs": [],
   "source": [
    "df['price_sq_m'] = (df['last_price']/df['total_area']).astype('int')"
   ]
  },
  {
   "cell_type": "markdown",
   "metadata": {},
   "source": [
    "**Calculate the day of the week, month, and year that the ad was published and add to 'publication_day', 'publication_month', 'publication_year' columns**"
   ]
  },
  {
   "cell_type": "code",
   "execution_count": 782,
   "metadata": {},
   "outputs": [],
   "source": [
    "df['publication_day'] = pd.DatetimeIndex(df['first_day_exposition']).day\n",
    "df['publication_month'] = pd.DatetimeIndex(df['first_day_exposition']).month\n",
    "df['publication_year'] = pd.DatetimeIndex(df['first_day_exposition']).year"
   ]
  },
  {
   "cell_type": "markdown",
   "metadata": {},
   "source": [
    "**Categorize by \"floor\" into 'first'('первый'), 'last'('последний'), 'other'('другой') and add the new 'floors_type' column**"
   ]
  },
  {
   "cell_type": "code",
   "execution_count": 783,
   "metadata": {},
   "outputs": [],
   "source": [
    "df['floors_type'] = df.apply(lambda row: 'первый' if row['floor']== 1 else ('последний' if row['floor'] == row['floors_total'] else 'другой'),axis=1)"
   ]
  },
  {
   "cell_type": "markdown",
   "metadata": {},
   "source": [
    "**Calculate the ratio between the living space and the total area, the kitchen space and the total area, and add add 'living2total_ratio', 'kitchen2total_ratio' columns**"
   ]
  },
  {
   "cell_type": "code",
   "execution_count": 784,
   "metadata": {},
   "outputs": [],
   "source": [
    "df['living2total_ratio'] = (df['living_area']/df['total_area']).round(2)\n",
    "df['kitchen2total_ratio'] = (df['kitchen_area']/df['total_area']).round(2)"
   ]
  },
  {
   "cell_type": "markdown",
   "metadata": {},
   "source": [
    "**Convert the 'last_price' to millions**"
   ]
  },
  {
   "cell_type": "code",
   "execution_count": 785,
   "metadata": {
    "scrolled": true
   },
   "outputs": [],
   "source": [
    "df['last_price_in_mln'] = df['last_price']/1000000"
   ]
  },
  {
   "cell_type": "code",
   "execution_count": 786,
   "metadata": {},
   "outputs": [
    {
     "name": "stdout",
     "output_type": "stream",
     "text": [
      "<class 'pandas.core.frame.DataFrame'>\n",
      "RangeIndex: 23699 entries, 0 to 23698\n",
      "Data columns (total 30 columns):\n",
      " #   Column                Non-Null Count  Dtype         \n",
      "---  ------                --------------  -----         \n",
      " 0   total_images          23699 non-null  int64         \n",
      " 1   last_price            23699 non-null  int32         \n",
      " 2   total_area            23699 non-null  int32         \n",
      " 3   first_day_exposition  23699 non-null  datetime64[ns]\n",
      " 4   rooms                 23699 non-null  int64         \n",
      " 5   ceiling_height        23699 non-null  int32         \n",
      " 6   floors_total          23699 non-null  int32         \n",
      " 7   living_area           23699 non-null  int32         \n",
      " 8   floor                 23699 non-null  int64         \n",
      " 9   is_apartment          23699 non-null  bool          \n",
      " 10  studio                23699 non-null  bool          \n",
      " 11  open_plan             23699 non-null  bool          \n",
      " 12  kitchen_area          23699 non-null  int32         \n",
      " 13  balcony               23699 non-null  int32         \n",
      " 14  locality_name         23699 non-null  object        \n",
      " 15  airports_nearest      23699 non-null  int32         \n",
      " 16  cityCenters_nearest   23699 non-null  int32         \n",
      " 17  parks_around3000      23699 non-null  int32         \n",
      " 18  parks_nearest         23699 non-null  int32         \n",
      " 19  ponds_around3000      23699 non-null  int32         \n",
      " 20  ponds_nearest         23699 non-null  int32         \n",
      " 21  days_exposition       23699 non-null  int32         \n",
      " 22  price_sq_m            23699 non-null  int32         \n",
      " 23  publication_day       23699 non-null  int64         \n",
      " 24  publication_month     23699 non-null  int64         \n",
      " 25  publication_year      23699 non-null  int64         \n",
      " 26  floors_type           23699 non-null  object        \n",
      " 27  living2total_ratio    23699 non-null  float64       \n",
      " 28  kitchen2total_ratio   23699 non-null  float64       \n",
      " 29  last_price_in_mln     23699 non-null  float64       \n",
      "dtypes: bool(3), datetime64[ns](1), float64(3), int32(15), int64(6), object(2)\n",
      "memory usage: 3.6+ MB\n"
     ]
    }
   ],
   "source": [
    "# Checking the result\n",
    "df.info()"
   ]
  },
  {
   "cell_type": "markdown",
   "metadata": {},
   "source": [
    "**Summary**: We have made the calculations and added the new columns to the dataframe. This will be useful to us in the next step of the research."
   ]
  },
  {
   "cell_type": "markdown",
   "metadata": {},
   "source": [
    "## Step 4. Exploratory data analysis"
   ]
  },
  {
   "cell_type": "markdown",
   "metadata": {},
   "source": [
    "Let's look at the 'last_price_in_mln', 'total_area', 'rooms', 'ceiling_height', and plot a histogram for each of the parameters:"
   ]
  },
  {
   "cell_type": "code",
   "execution_count": 787,
   "metadata": {},
   "outputs": [
    {
     "data": {
      "text/html": [
       "<div>\n",
       "<style scoped>\n",
       "    .dataframe tbody tr th:only-of-type {\n",
       "        vertical-align: middle;\n",
       "    }\n",
       "\n",
       "    .dataframe tbody tr th {\n",
       "        vertical-align: top;\n",
       "    }\n",
       "\n",
       "    .dataframe thead th {\n",
       "        text-align: right;\n",
       "    }\n",
       "</style>\n",
       "<table border=\"1\" class=\"dataframe\">\n",
       "  <thead>\n",
       "    <tr style=\"text-align: right;\">\n",
       "      <th></th>\n",
       "      <th>total_area</th>\n",
       "      <th>last_price_in_mln</th>\n",
       "      <th>rooms</th>\n",
       "      <th>ceiling_height</th>\n",
       "    </tr>\n",
       "  </thead>\n",
       "  <tbody>\n",
       "    <tr>\n",
       "      <th>count</th>\n",
       "      <td>23699.000000</td>\n",
       "      <td>23699.000000</td>\n",
       "      <td>23699.000000</td>\n",
       "      <td>23699.000000</td>\n",
       "    </tr>\n",
       "    <tr>\n",
       "      <th>mean</th>\n",
       "      <td>60.120511</td>\n",
       "      <td>6.541549</td>\n",
       "      <td>2.069328</td>\n",
       "      <td>2.115068</td>\n",
       "    </tr>\n",
       "    <tr>\n",
       "      <th>std</th>\n",
       "      <td>35.665822</td>\n",
       "      <td>10.887013</td>\n",
       "      <td>1.079409</td>\n",
       "      <td>0.340479</td>\n",
       "    </tr>\n",
       "    <tr>\n",
       "      <th>min</th>\n",
       "      <td>12.000000</td>\n",
       "      <td>0.012190</td>\n",
       "      <td>0.000000</td>\n",
       "      <td>1.000000</td>\n",
       "    </tr>\n",
       "    <tr>\n",
       "      <th>25%</th>\n",
       "      <td>40.000000</td>\n",
       "      <td>3.400000</td>\n",
       "      <td>1.000000</td>\n",
       "      <td>2.000000</td>\n",
       "    </tr>\n",
       "    <tr>\n",
       "      <th>50%</th>\n",
       "      <td>52.000000</td>\n",
       "      <td>4.650000</td>\n",
       "      <td>2.000000</td>\n",
       "      <td>2.000000</td>\n",
       "    </tr>\n",
       "    <tr>\n",
       "      <th>75%</th>\n",
       "      <td>69.000000</td>\n",
       "      <td>6.800000</td>\n",
       "      <td>3.000000</td>\n",
       "      <td>2.000000</td>\n",
       "    </tr>\n",
       "    <tr>\n",
       "      <th>max</th>\n",
       "      <td>900.000000</td>\n",
       "      <td>763.000000</td>\n",
       "      <td>19.000000</td>\n",
       "      <td>8.000000</td>\n",
       "    </tr>\n",
       "  </tbody>\n",
       "</table>\n",
       "</div>"
      ],
      "text/plain": [
       "         total_area  last_price_in_mln         rooms  ceiling_height\n",
       "count  23699.000000       23699.000000  23699.000000    23699.000000\n",
       "mean      60.120511           6.541549      2.069328        2.115068\n",
       "std       35.665822          10.887013      1.079409        0.340479\n",
       "min       12.000000           0.012190      0.000000        1.000000\n",
       "25%       40.000000           3.400000      1.000000        2.000000\n",
       "50%       52.000000           4.650000      2.000000        2.000000\n",
       "75%       69.000000           6.800000      3.000000        2.000000\n",
       "max      900.000000         763.000000     19.000000        8.000000"
      ]
     },
     "execution_count": 787,
     "metadata": {},
     "output_type": "execute_result"
    }
   ],
   "source": [
    "df[['total_area','last_price_in_mln','rooms','ceiling_height']].describe()"
   ]
  },
  {
   "cell_type": "markdown",
   "metadata": {},
   "source": [
    "Column 'last_price_in_mln' has a strange minimal value. Lets check:"
   ]
  },
  {
   "cell_type": "code",
   "execution_count": 788,
   "metadata": {},
   "outputs": [
    {
     "data": {
      "text/html": [
       "<div>\n",
       "<style scoped>\n",
       "    .dataframe tbody tr th:only-of-type {\n",
       "        vertical-align: middle;\n",
       "    }\n",
       "\n",
       "    .dataframe tbody tr th {\n",
       "        vertical-align: top;\n",
       "    }\n",
       "\n",
       "    .dataframe thead th {\n",
       "        text-align: right;\n",
       "    }\n",
       "</style>\n",
       "<table border=\"1\" class=\"dataframe\">\n",
       "  <thead>\n",
       "    <tr style=\"text-align: right;\">\n",
       "      <th></th>\n",
       "      <th>total_images</th>\n",
       "      <th>last_price</th>\n",
       "      <th>total_area</th>\n",
       "      <th>first_day_exposition</th>\n",
       "      <th>rooms</th>\n",
       "      <th>ceiling_height</th>\n",
       "      <th>floors_total</th>\n",
       "      <th>living_area</th>\n",
       "      <th>floor</th>\n",
       "      <th>is_apartment</th>\n",
       "      <th>...</th>\n",
       "      <th>ponds_nearest</th>\n",
       "      <th>days_exposition</th>\n",
       "      <th>price_sq_m</th>\n",
       "      <th>publication_day</th>\n",
       "      <th>publication_month</th>\n",
       "      <th>publication_year</th>\n",
       "      <th>floors_type</th>\n",
       "      <th>living2total_ratio</th>\n",
       "      <th>kitchen2total_ratio</th>\n",
       "      <th>last_price_in_mln</th>\n",
       "    </tr>\n",
       "  </thead>\n",
       "  <tbody>\n",
       "    <tr>\n",
       "      <th>8793</th>\n",
       "      <td>7</td>\n",
       "      <td>12190</td>\n",
       "      <td>109</td>\n",
       "      <td>2019-03-20</td>\n",
       "      <td>2</td>\n",
       "      <td>2</td>\n",
       "      <td>25</td>\n",
       "      <td>32</td>\n",
       "      <td>25</td>\n",
       "      <td>True</td>\n",
       "      <td>...</td>\n",
       "      <td>0</td>\n",
       "      <td>8</td>\n",
       "      <td>111</td>\n",
       "      <td>20</td>\n",
       "      <td>3</td>\n",
       "      <td>2019</td>\n",
       "      <td>последний</td>\n",
       "      <td>0.29</td>\n",
       "      <td>0.37</td>\n",
       "      <td>0.012190</td>\n",
       "    </tr>\n",
       "    <tr>\n",
       "      <th>14911</th>\n",
       "      <td>5</td>\n",
       "      <td>430000</td>\n",
       "      <td>54</td>\n",
       "      <td>2018-06-26</td>\n",
       "      <td>2</td>\n",
       "      <td>2</td>\n",
       "      <td>3</td>\n",
       "      <td>30</td>\n",
       "      <td>3</td>\n",
       "      <td>True</td>\n",
       "      <td>...</td>\n",
       "      <td>0</td>\n",
       "      <td>44</td>\n",
       "      <td>7962</td>\n",
       "      <td>26</td>\n",
       "      <td>6</td>\n",
       "      <td>2018</td>\n",
       "      <td>последний</td>\n",
       "      <td>0.56</td>\n",
       "      <td>0.15</td>\n",
       "      <td>0.430000</td>\n",
       "    </tr>\n",
       "    <tr>\n",
       "      <th>17456</th>\n",
       "      <td>7</td>\n",
       "      <td>430000</td>\n",
       "      <td>30</td>\n",
       "      <td>2019-04-22</td>\n",
       "      <td>1</td>\n",
       "      <td>2</td>\n",
       "      <td>2</td>\n",
       "      <td>16</td>\n",
       "      <td>1</td>\n",
       "      <td>True</td>\n",
       "      <td>...</td>\n",
       "      <td>0</td>\n",
       "      <td>1580</td>\n",
       "      <td>14333</td>\n",
       "      <td>22</td>\n",
       "      <td>4</td>\n",
       "      <td>2019</td>\n",
       "      <td>первый</td>\n",
       "      <td>0.53</td>\n",
       "      <td>0.20</td>\n",
       "      <td>0.430000</td>\n",
       "    </tr>\n",
       "    <tr>\n",
       "      <th>16274</th>\n",
       "      <td>18</td>\n",
       "      <td>440000</td>\n",
       "      <td>40</td>\n",
       "      <td>2018-07-10</td>\n",
       "      <td>1</td>\n",
       "      <td>2</td>\n",
       "      <td>5</td>\n",
       "      <td>17</td>\n",
       "      <td>1</td>\n",
       "      <td>True</td>\n",
       "      <td>...</td>\n",
       "      <td>0</td>\n",
       "      <td>45</td>\n",
       "      <td>11000</td>\n",
       "      <td>10</td>\n",
       "      <td>7</td>\n",
       "      <td>2018</td>\n",
       "      <td>первый</td>\n",
       "      <td>0.42</td>\n",
       "      <td>0.22</td>\n",
       "      <td>0.440000</td>\n",
       "    </tr>\n",
       "    <tr>\n",
       "      <th>9581</th>\n",
       "      <td>7</td>\n",
       "      <td>450000</td>\n",
       "      <td>43</td>\n",
       "      <td>2018-08-31</td>\n",
       "      <td>2</td>\n",
       "      <td>2</td>\n",
       "      <td>5</td>\n",
       "      <td>30</td>\n",
       "      <td>3</td>\n",
       "      <td>True</td>\n",
       "      <td>...</td>\n",
       "      <td>0</td>\n",
       "      <td>96</td>\n",
       "      <td>10465</td>\n",
       "      <td>31</td>\n",
       "      <td>8</td>\n",
       "      <td>2018</td>\n",
       "      <td>другой</td>\n",
       "      <td>0.70</td>\n",
       "      <td>0.12</td>\n",
       "      <td>0.450000</td>\n",
       "    </tr>\n",
       "    <tr>\n",
       "      <th>...</th>\n",
       "      <td>...</td>\n",
       "      <td>...</td>\n",
       "      <td>...</td>\n",
       "      <td>...</td>\n",
       "      <td>...</td>\n",
       "      <td>...</td>\n",
       "      <td>...</td>\n",
       "      <td>...</td>\n",
       "      <td>...</td>\n",
       "      <td>...</td>\n",
       "      <td>...</td>\n",
       "      <td>...</td>\n",
       "      <td>...</td>\n",
       "      <td>...</td>\n",
       "      <td>...</td>\n",
       "      <td>...</td>\n",
       "      <td>...</td>\n",
       "      <td>...</td>\n",
       "      <td>...</td>\n",
       "      <td>...</td>\n",
       "      <td>...</td>\n",
       "    </tr>\n",
       "    <tr>\n",
       "      <th>1781</th>\n",
       "      <td>9</td>\n",
       "      <td>990000</td>\n",
       "      <td>34</td>\n",
       "      <td>2016-05-31</td>\n",
       "      <td>2</td>\n",
       "      <td>2</td>\n",
       "      <td>2</td>\n",
       "      <td>26</td>\n",
       "      <td>2</td>\n",
       "      <td>True</td>\n",
       "      <td>...</td>\n",
       "      <td>0</td>\n",
       "      <td>78</td>\n",
       "      <td>29117</td>\n",
       "      <td>31</td>\n",
       "      <td>5</td>\n",
       "      <td>2016</td>\n",
       "      <td>последний</td>\n",
       "      <td>0.76</td>\n",
       "      <td>0.24</td>\n",
       "      <td>0.990000</td>\n",
       "    </tr>\n",
       "    <tr>\n",
       "      <th>14341</th>\n",
       "      <td>8</td>\n",
       "      <td>990000</td>\n",
       "      <td>28</td>\n",
       "      <td>2018-01-04</td>\n",
       "      <td>1</td>\n",
       "      <td>2</td>\n",
       "      <td>2</td>\n",
       "      <td>18</td>\n",
       "      <td>1</td>\n",
       "      <td>True</td>\n",
       "      <td>...</td>\n",
       "      <td>0</td>\n",
       "      <td>1580</td>\n",
       "      <td>35357</td>\n",
       "      <td>4</td>\n",
       "      <td>1</td>\n",
       "      <td>2018</td>\n",
       "      <td>первый</td>\n",
       "      <td>0.64</td>\n",
       "      <td>0.32</td>\n",
       "      <td>0.990000</td>\n",
       "    </tr>\n",
       "    <tr>\n",
       "      <th>13420</th>\n",
       "      <td>3</td>\n",
       "      <td>995000</td>\n",
       "      <td>31</td>\n",
       "      <td>2015-05-13</td>\n",
       "      <td>1</td>\n",
       "      <td>2</td>\n",
       "      <td>5</td>\n",
       "      <td>17</td>\n",
       "      <td>2</td>\n",
       "      <td>True</td>\n",
       "      <td>...</td>\n",
       "      <td>0</td>\n",
       "      <td>757</td>\n",
       "      <td>32096</td>\n",
       "      <td>13</td>\n",
       "      <td>5</td>\n",
       "      <td>2015</td>\n",
       "      <td>другой</td>\n",
       "      <td>0.55</td>\n",
       "      <td>0.16</td>\n",
       "      <td>0.995000</td>\n",
       "    </tr>\n",
       "    <tr>\n",
       "      <th>1761</th>\n",
       "      <td>11</td>\n",
       "      <td>999000</td>\n",
       "      <td>62</td>\n",
       "      <td>2018-02-15</td>\n",
       "      <td>4</td>\n",
       "      <td>2</td>\n",
       "      <td>5</td>\n",
       "      <td>46</td>\n",
       "      <td>2</td>\n",
       "      <td>True</td>\n",
       "      <td>...</td>\n",
       "      <td>0</td>\n",
       "      <td>226</td>\n",
       "      <td>16112</td>\n",
       "      <td>15</td>\n",
       "      <td>2</td>\n",
       "      <td>2018</td>\n",
       "      <td>другой</td>\n",
       "      <td>0.74</td>\n",
       "      <td>0.11</td>\n",
       "      <td>0.999000</td>\n",
       "    </tr>\n",
       "    <tr>\n",
       "      <th>16862</th>\n",
       "      <td>5</td>\n",
       "      <td>999999</td>\n",
       "      <td>35</td>\n",
       "      <td>2018-09-03</td>\n",
       "      <td>1</td>\n",
       "      <td>2</td>\n",
       "      <td>5</td>\n",
       "      <td>16</td>\n",
       "      <td>5</td>\n",
       "      <td>True</td>\n",
       "      <td>...</td>\n",
       "      <td>0</td>\n",
       "      <td>200</td>\n",
       "      <td>28571</td>\n",
       "      <td>3</td>\n",
       "      <td>9</td>\n",
       "      <td>2018</td>\n",
       "      <td>последний</td>\n",
       "      <td>0.46</td>\n",
       "      <td>0.23</td>\n",
       "      <td>0.999999</td>\n",
       "    </tr>\n",
       "  </tbody>\n",
       "</table>\n",
       "<p>225 rows × 30 columns</p>\n",
       "</div>"
      ],
      "text/plain": [
       "       total_images  last_price  total_area first_day_exposition  rooms  \\\n",
       "8793              7       12190         109           2019-03-20      2   \n",
       "14911             5      430000          54           2018-06-26      2   \n",
       "17456             7      430000          30           2019-04-22      1   \n",
       "16274            18      440000          40           2018-07-10      1   \n",
       "9581              7      450000          43           2018-08-31      2   \n",
       "...             ...         ...         ...                  ...    ...   \n",
       "1781              9      990000          34           2016-05-31      2   \n",
       "14341             8      990000          28           2018-01-04      1   \n",
       "13420             3      995000          31           2015-05-13      1   \n",
       "1761             11      999000          62           2018-02-15      4   \n",
       "16862             5      999999          35           2018-09-03      1   \n",
       "\n",
       "       ceiling_height  floors_total  living_area  floor  is_apartment  ...  \\\n",
       "8793                2            25           32     25          True  ...   \n",
       "14911               2             3           30      3          True  ...   \n",
       "17456               2             2           16      1          True  ...   \n",
       "16274               2             5           17      1          True  ...   \n",
       "9581                2             5           30      3          True  ...   \n",
       "...               ...           ...          ...    ...           ...  ...   \n",
       "1781                2             2           26      2          True  ...   \n",
       "14341               2             2           18      1          True  ...   \n",
       "13420               2             5           17      2          True  ...   \n",
       "1761                2             5           46      2          True  ...   \n",
       "16862               2             5           16      5          True  ...   \n",
       "\n",
       "       ponds_nearest  days_exposition  price_sq_m  publication_day  \\\n",
       "8793               0                8         111               20   \n",
       "14911              0               44        7962               26   \n",
       "17456              0             1580       14333               22   \n",
       "16274              0               45       11000               10   \n",
       "9581               0               96       10465               31   \n",
       "...              ...              ...         ...              ...   \n",
       "1781               0               78       29117               31   \n",
       "14341              0             1580       35357                4   \n",
       "13420              0              757       32096               13   \n",
       "1761               0              226       16112               15   \n",
       "16862              0              200       28571                3   \n",
       "\n",
       "      publication_month  publication_year  floors_type  living2total_ratio  \\\n",
       "8793                  3              2019    последний                0.29   \n",
       "14911                 6              2018    последний                0.56   \n",
       "17456                 4              2019       первый                0.53   \n",
       "16274                 7              2018       первый                0.42   \n",
       "9581                  8              2018       другой                0.70   \n",
       "...                 ...               ...          ...                 ...   \n",
       "1781                  5              2016    последний                0.76   \n",
       "14341                 1              2018       первый                0.64   \n",
       "13420                 5              2015       другой                0.55   \n",
       "1761                  2              2018       другой                0.74   \n",
       "16862                 9              2018    последний                0.46   \n",
       "\n",
       "       kitchen2total_ratio  last_price_in_mln  \n",
       "8793                  0.37           0.012190  \n",
       "14911                 0.15           0.430000  \n",
       "17456                 0.20           0.430000  \n",
       "16274                 0.22           0.440000  \n",
       "9581                  0.12           0.450000  \n",
       "...                    ...                ...  \n",
       "1781                  0.24           0.990000  \n",
       "14341                 0.32           0.990000  \n",
       "13420                 0.16           0.995000  \n",
       "1761                  0.11           0.999000  \n",
       "16862                 0.23           0.999999  \n",
       "\n",
       "[225 rows x 30 columns]"
      ]
     },
     "execution_count": 788,
     "metadata": {},
     "output_type": "execute_result"
    }
   ],
   "source": [
    "# using .query() and .sort_values() methods\n",
    "df.query('last_price_in_mln < 1').sort_values(by='last_price_in_mln') "
   ]
  },
  {
   "cell_type": "markdown",
   "metadata": {},
   "source": [
    "There's only one value of 0.012190. Drop it."
   ]
  },
  {
   "cell_type": "code",
   "execution_count": 789,
   "metadata": {},
   "outputs": [],
   "source": [
    "# drop row with 0.012190 value in the \"last_price_mil\"\n",
    "df.drop(df[df['last_price_in_mln'] == 0.012190].index, inplace=True)"
   ]
  },
  {
   "cell_type": "markdown",
   "metadata": {},
   "source": [
    "**Plotting a histogram for 'last_price_in_mil' column**"
   ]
  },
  {
   "cell_type": "code",
   "execution_count": 790,
   "metadata": {},
   "outputs": [
    {
     "data": {
      "image/png": "[encoded data removed]",
      "text/plain": [
       "<Figure size 720x720 with 1 Axes>"
      ]
     },
     "metadata": {
      "needs_background": "light"
     },
     "output_type": "display_data"
    }
   ],
   "source": [
    "df['last_price_in_mln'].hist(bins=100, range=(0,20), figsize=(10,10), grid=True)\n",
    "plt.title('Histogram of the price of the apartments on sale in million rubles')\n",
    "plt.show()"
   ]
  },
  {
   "cell_type": "markdown",
   "metadata": {},
   "source": [
    "Cannot see data clearly, so we narrow the number of bins down"
   ]
  },
  {
   "cell_type": "code",
   "execution_count": 791,
   "metadata": {
    "scrolled": true
   },
   "outputs": [
    {
     "data": {
      "image/png": "[encoded data removed]",
      "text/plain": [
       "<Figure size 720x720 with 1 Axes>"
      ]
     },
     "metadata": {
      "needs_background": "light"
     },
     "output_type": "display_data"
    }
   ],
   "source": [
    "df['last_price_in_mln'].hist(bins=70, range=(0,20), figsize=(10,10), grid=True)\n",
    "plt.title('Histogram of the price of the apartments on sale in million rubles')\n",
    "plt.show()"
   ]
  },
  {
   "cell_type": "markdown",
   "metadata": {},
   "source": [
    "This histogram shows that most of the residential premises offered for sale have prices from 2 to 20 million rubles. Frequency of other values is significantly lower."
   ]
  },
  {
   "cell_type": "markdown",
   "metadata": {},
   "source": [
    "**Plotting a histogram for 'total_area' column**"
   ]
  },
  {
   "cell_type": "code",
   "execution_count": 792,
   "metadata": {
    "scrolled": true
   },
   "outputs": [
    {
     "data": {
      "text/plain": [
       "Text(0.5, 1.0, 'Histogram of the areas of the apartments on sale')"
      ]
     },
     "execution_count": 792,
     "metadata": {},
     "output_type": "execute_result"
    },
    {
     "data": {
      "image/png": "[encoded data removed]",
      "text/plain": [
       "<Figure size 720x720 with 1 Axes>"
      ]
     },
     "metadata": {
      "needs_background": "light"
     },
     "output_type": "display_data"
    }
   ],
   "source": [
    "# plotting a histogram\n",
    "df['total_area'].hist(bins=100, range=(0,500), figsize=(10,10), grid=True)\n",
    "plt.title('Histogram of the areas of the apartments on sale')"
   ]
  },
  {
   "cell_type": "markdown",
   "metadata": {},
   "source": [
    "This histogram shows that most of the housings set for sale have an area of 0 to 200 square meters. m. We can narrow down the number bins and teh range further to see the data clearer:"
   ]
  },
  {
   "cell_type": "code",
   "execution_count": 793,
   "metadata": {},
   "outputs": [
    {
     "data": {
      "text/plain": [
       "Text(0.5, 1.0, 'Histogram of the areas of the apartments on sale')"
      ]
     },
     "execution_count": 793,
     "metadata": {},
     "output_type": "execute_result"
    },
    {
     "data": {
      "image/png": "[encoded data removed]",
      "text/plain": [
       "<Figure size 720x720 with 1 Axes>"
      ]
     },
     "metadata": {
      "needs_background": "light"
     },
     "output_type": "display_data"
    }
   ],
   "source": [
    "# plotting a histogram\n",
    "df['total_area'].hist(bins=500, range=(0,200), figsize=(10,10), grid=True)\n",
    "plt.title('Histogram of the areas of the apartments on sale')"
   ]
  },
  {
   "cell_type": "markdown",
   "metadata": {},
   "source": [
    "A lot of values are in the range of 30 to 150. Frequency of other values is much lower."
   ]
  },
  {
   "cell_type": "markdown",
   "metadata": {},
   "source": [
    "**Plotting a histogram for 'rooms' column**"
   ]
  },
  {
   "cell_type": "code",
   "execution_count": 794,
   "metadata": {
    "scrolled": true
   },
   "outputs": [
    {
     "data": {
      "text/plain": [
       "Text(0.5, 1.0, 'Histogram of the number of rooms in the apartments on sale')"
      ]
     },
     "execution_count": 794,
     "metadata": {},
     "output_type": "execute_result"
    },
    {
     "data": {
      "image/png": "[encoded data removed]",
      "text/plain": [
       "<Figure size 720x720 with 1 Axes>"
      ]
     },
     "metadata": {
      "needs_background": "light"
     },
     "output_type": "display_data"
    }
   ],
   "source": [
    "df['rooms'].hist(bins=10, range=(0,20), figsize=(10,10), grid=True)\n",
    "plt.title('Histogram of the number of rooms in the apartments on sale')"
   ]
  },
  {
   "cell_type": "markdown",
   "metadata": {},
   "source": [
    "This histogram shows that most apartments in the dataset have from 0 to 5 rooms."
   ]
  },
  {
   "cell_type": "markdown",
   "metadata": {},
   "source": [
    "**Plotting a histogram for 'ceiling_height' column**"
   ]
  },
  {
   "cell_type": "code",
   "execution_count": 795,
   "metadata": {
    "scrolled": true
   },
   "outputs": [
    {
     "data": {
      "text/plain": [
       "Text(0.5, 1.0, 'Histogram of the number of rooms in the apartments on sale')"
      ]
     },
     "execution_count": 795,
     "metadata": {},
     "output_type": "execute_result"
    },
    {
     "data": {
      "image/png": "[encoded data removed]",
      "text/plain": [
       "<Figure size 720x720 with 1 Axes>"
      ]
     },
     "metadata": {
      "needs_background": "light"
     },
     "output_type": "display_data"
    }
   ],
   "source": [
    "df['ceiling_height'].hist(bins=20, range=(0,20), figsize=(10,10), grid=True)\n",
    "plt.title('Histogram of the number of rooms in the apartments on sale')"
   ]
  },
  {
   "cell_type": "markdown",
   "metadata": {},
   "source": [
    "Cannot see data clearly enough. Narrow it down:"
   ]
  },
  {
   "cell_type": "code",
   "execution_count": 796,
   "metadata": {},
   "outputs": [
    {
     "data": {
      "text/plain": [
       "Text(0.5, 1.0, 'Histogram of the number of rooms in the apartments on sale')"
      ]
     },
     "execution_count": 796,
     "metadata": {},
     "output_type": "execute_result"
    },
    {
     "data": {
      "image/png": "[encoded data removed]",
      "text/plain": [
       "<Figure size 720x720 with 1 Axes>"
      ]
     },
     "metadata": {
      "needs_background": "light"
     },
     "output_type": "display_data"
    }
   ],
   "source": [
    "df['ceiling_height'].hist(bins=15, range=(1,5), figsize=(10,10), grid=True)\n",
    "plt.title('Histogram of the number of rooms in the apartments on sale')"
   ]
  },
  {
   "cell_type": "markdown",
   "metadata": {},
   "source": [
    "This histogram shows that most of the apartments have a ceiling height of 2 to 4 meters."
   ]
  },
  {
   "cell_type": "markdown",
   "metadata": {},
   "source": [
    "**Summary:** After evaluating the histograms, we set most popular ranges:\n",
    "\n",
    "'last_price' is in the range of 1 to 20 million rubles.<br>\n",
    "'total_area' is in the range of 30 to 150 $m^2$.<br>\n",
    "'rooms' is in the range of 1 to 4.<br>\n",
    "'ceiling_height' is 2 m and 4 m.<br>"
   ]
  },
  {
   "cell_type": "markdown",
   "metadata": {},
   "source": [
    "**Plotting a histogram for 'days_exposition' column**"
   ]
  },
  {
   "cell_type": "markdown",
   "metadata": {},
   "source": [
    "Researching the average time that is required to sell the apartment. Examine \"days_exposition\":"
   ]
  },
  {
   "cell_type": "code",
   "execution_count": 797,
   "metadata": {},
   "outputs": [
    {
     "data": {
      "text/plain": [
       "count    23698.000000\n",
       "mean       368.699679\n",
       "std        518.936557\n",
       "min          1.000000\n",
       "25%         45.000000\n",
       "50%        124.000000\n",
       "75%        390.000000\n",
       "max       1580.000000\n",
       "Name: days_exposition, dtype: float64"
      ]
     },
     "execution_count": 797,
     "metadata": {},
     "output_type": "execute_result"
    }
   ],
   "source": [
    "df['days_exposition'].describe()"
   ]
  },
  {
   "cell_type": "code",
   "execution_count": 798,
   "metadata": {},
   "outputs": [
    {
     "name": "stdout",
     "output_type": "stream",
     "text": [
      "\n",
      "Mean for number of days to sell the apartment is 368.7 days\n",
      "Median for number of days to sell the apartment is 124.0 days\n",
      "\n"
     ]
    }
   ],
   "source": [
    "mean = (df['days_exposition'].mean()).round(2)\n",
    "median = (df['days_exposition'].median()).round(2)\n",
    "print()\n",
    "print(\"Mean for number of days to sell the apartment is {} days\".format(mean))\n",
    "print(\"Median for number of days to sell the apartment is {} days\".format(median))\n",
    "print()"
   ]
  },
  {
   "cell_type": "code",
   "execution_count": 799,
   "metadata": {},
   "outputs": [
    {
     "data": {
      "image/png": "[encoded data removed]",
      "text/plain": [
       "<Figure size 432x288 with 1 Axes>"
      ]
     },
     "metadata": {
      "needs_background": "light"
     },
     "output_type": "display_data"
    }
   ],
   "source": [
    "# plot a histogram for 'days_exposition'\n",
    "df.hist(column='days_exposition', bins=50, range=(1, 1580)) \n",
    "plt.show()"
   ]
  },
  {
   "cell_type": "markdown",
   "metadata": {},
   "source": [
    "Cannot see the data clearly. Let's narrow it down"
   ]
  },
  {
   "cell_type": "code",
   "execution_count": 800,
   "metadata": {},
   "outputs": [
    {
     "data": {
      "image/png": "[encoded data removed]",
      "text/plain": [
       "<Figure size 432x288 with 1 Axes>"
      ]
     },
     "metadata": {
      "needs_background": "light"
     },
     "output_type": "display_data"
    }
   ],
   "source": [
    "df.hist(column='days_exposition', bins=50, range=(1, 600))\n",
    "plt.show()"
   ]
  },
  {
   "cell_type": "markdown",
   "metadata": {},
   "source": [
    "Lets reduce the range a bit more:"
   ]
  },
  {
   "cell_type": "code",
   "execution_count": 801,
   "metadata": {},
   "outputs": [
    {
     "data": {
      "image/png": "[encoded data removed]",
      "text/plain": [
       "<Figure size 432x288 with 1 Axes>"
      ]
     },
     "metadata": {
      "needs_background": "light"
     },
     "output_type": "display_data"
    }
   ],
   "source": [
    "df.hist(column='days_exposition', bins=100, range=(1, 200)) \n",
    "plt.show()"
   ]
  },
  {
   "cell_type": "markdown",
   "metadata": {},
   "source": [
    "We have 2 clear outliers between 40 and 60 days. These are days when ads get automatically closed if not updated.\n",
    "'days_exposition_mean' > 'days_exposition_median', because we have outliers like max value = 1580 and between 40 and 60 days. The median is resistant to outliers. So the average time it usually takes to complete a sale is 95 days. \n",
    "\n",
    "Let's create a boxplot to see the outliers more clearly:"
   ]
  },
  {
   "cell_type": "code",
   "execution_count": 802,
   "metadata": {},
   "outputs": [
    {
     "data": {
      "text/plain": [
       "(-50.0, 600.0)"
      ]
     },
     "execution_count": 802,
     "metadata": {},
     "output_type": "execute_result"
    },
    {
     "data": {
      "image/png": "[encoded data removed]",
      "text/plain": [
       "<Figure size 432x288 with 1 Axes>"
      ]
     },
     "metadata": {
      "needs_background": "light"
     },
     "output_type": "display_data"
    }
   ],
   "source": [
    "# plot boxpot for 'days_exposition'\n",
    "df.boxplot(column='days_exposition') \n",
    "plt.ylim(-50, 600)"
   ]
  },
  {
   "cell_type": "markdown",
   "metadata": {},
   "source": [
    "**Summary:**\n",
    "We've confirmed that the sales for these apartments on average happened rather quickly (in less than 45 days), while other sales have taken an much longer time - more than 232 days. Both of these values seem quite realistic."
   ]
  },
  {
   "cell_type": "markdown",
   "metadata": {},
   "source": [
    "**Removing rare and outlying values and describing the patterns**"
   ]
  },
  {
   "cell_type": "markdown",
   "metadata": {},
   "source": [
    "We have established that our dataset contains values which we can remove and create slices with the clean data"
   ]
  },
  {
   "cell_type": "code",
   "execution_count": 803,
   "metadata": {},
   "outputs": [],
   "source": [
    "# draw boxlplot for aditional checking of the data outliers"
   ]
  },
  {
   "cell_type": "code",
   "execution_count": 804,
   "metadata": {},
   "outputs": [
    {
     "ename": "KeyError",
     "evalue": "\"None of [Index(['last_price_mil'], dtype='object')] are in the [columns]\"",
     "output_type": "error",
     "traceback": [
      "\u001b[1;31m---------------------------------------------------------------------------\u001b[0m",
      "\u001b[1;31mKeyError\u001b[0m                                  Traceback (most recent call last)",
      "\u001b[1;32m~\\AppData\\Local\\Temp\\ipykernel_16600\\95225596.py\u001b[0m in \u001b[0;36m<module>\u001b[1;34m\u001b[0m\n\u001b[0;32m      1\u001b[0m \u001b[1;32mfor\u001b[0m \u001b[0mcol\u001b[0m \u001b[1;32min\u001b[0m \u001b[1;33m(\u001b[0m\u001b[1;34m'last_price_mil'\u001b[0m\u001b[1;33m,\u001b[0m \u001b[1;34m'total_area'\u001b[0m\u001b[1;33m,\u001b[0m \u001b[1;34m'rooms'\u001b[0m\u001b[1;33m,\u001b[0m \u001b[1;34m'ceiling_height'\u001b[0m\u001b[1;33m)\u001b[0m\u001b[1;33m:\u001b[0m\u001b[1;33m\u001b[0m\u001b[1;33m\u001b[0m\u001b[0m\n\u001b[1;32m----> 2\u001b[1;33m     \u001b[0mdf\u001b[0m\u001b[1;33m.\u001b[0m\u001b[0mboxplot\u001b[0m\u001b[1;33m(\u001b[0m\u001b[0mcolumn\u001b[0m\u001b[1;33m=\u001b[0m\u001b[0mcol\u001b[0m\u001b[1;33m,\u001b[0m \u001b[0mshowfliers\u001b[0m\u001b[1;33m=\u001b[0m\u001b[1;32mFalse\u001b[0m\u001b[1;33m,\u001b[0m \u001b[0mvert\u001b[0m\u001b[1;33m=\u001b[0m\u001b[1;32mFalse\u001b[0m\u001b[1;33m)\u001b[0m \u001b[1;31m# plot boxpot\u001b[0m\u001b[1;33m\u001b[0m\u001b[1;33m\u001b[0m\u001b[0m\n\u001b[0m\u001b[0;32m      3\u001b[0m     \u001b[0mplt\u001b[0m\u001b[1;33m.\u001b[0m\u001b[0mshow\u001b[0m\u001b[1;33m(\u001b[0m\u001b[1;33m)\u001b[0m\u001b[1;33m\u001b[0m\u001b[1;33m\u001b[0m\u001b[0m\n",
      "\u001b[1;32mC:\\Python310\\lib\\site-packages\\pandas\\plotting\\_core.py\u001b[0m in \u001b[0;36mboxplot_frame\u001b[1;34m(self, column, by, ax, fontsize, rot, grid, figsize, layout, return_type, backend, **kwargs)\u001b[0m\n\u001b[0;32m    509\u001b[0m ):\n\u001b[0;32m    510\u001b[0m     \u001b[0mplot_backend\u001b[0m \u001b[1;33m=\u001b[0m \u001b[0m_get_plot_backend\u001b[0m\u001b[1;33m(\u001b[0m\u001b[0mbackend\u001b[0m\u001b[1;33m)\u001b[0m\u001b[1;33m\u001b[0m\u001b[1;33m\u001b[0m\u001b[0m\n\u001b[1;32m--> 511\u001b[1;33m     return plot_backend.boxplot_frame(\n\u001b[0m\u001b[0;32m    512\u001b[0m         \u001b[0mself\u001b[0m\u001b[1;33m,\u001b[0m\u001b[1;33m\u001b[0m\u001b[1;33m\u001b[0m\u001b[0m\n\u001b[0;32m    513\u001b[0m         \u001b[0mcolumn\u001b[0m\u001b[1;33m=\u001b[0m\u001b[0mcolumn\u001b[0m\u001b[1;33m,\u001b[0m\u001b[1;33m\u001b[0m\u001b[1;33m\u001b[0m\u001b[0m\n",
      "\u001b[1;32mC:\\Python310\\lib\\site-packages\\pandas\\plotting\\_matplotlib\\boxplot.py\u001b[0m in \u001b[0;36mboxplot_frame\u001b[1;34m(self, column, by, ax, fontsize, rot, grid, figsize, layout, return_type, **kwds)\u001b[0m\n\u001b[0;32m    392\u001b[0m     \u001b[1;32mimport\u001b[0m \u001b[0mmatplotlib\u001b[0m\u001b[1;33m.\u001b[0m\u001b[0mpyplot\u001b[0m \u001b[1;32mas\u001b[0m \u001b[0mplt\u001b[0m\u001b[1;33m\u001b[0m\u001b[1;33m\u001b[0m\u001b[0m\n\u001b[0;32m    393\u001b[0m \u001b[1;33m\u001b[0m\u001b[0m\n\u001b[1;32m--> 394\u001b[1;33m     ax = boxplot(\n\u001b[0m\u001b[0;32m    395\u001b[0m         \u001b[0mself\u001b[0m\u001b[1;33m,\u001b[0m\u001b[1;33m\u001b[0m\u001b[1;33m\u001b[0m\u001b[0m\n\u001b[0;32m    396\u001b[0m         \u001b[0mcolumn\u001b[0m\u001b[1;33m=\u001b[0m\u001b[0mcolumn\u001b[0m\u001b[1;33m,\u001b[0m\u001b[1;33m\u001b[0m\u001b[1;33m\u001b[0m\u001b[0m\n",
      "\u001b[1;32mC:\\Python310\\lib\\site-packages\\pandas\\plotting\\_matplotlib\\boxplot.py\u001b[0m in \u001b[0;36mboxplot\u001b[1;34m(data, column, by, ax, fontsize, rot, grid, figsize, layout, return_type, **kwds)\u001b[0m\n\u001b[0;32m    369\u001b[0m             \u001b[0mcolumns\u001b[0m \u001b[1;33m=\u001b[0m \u001b[0mdata\u001b[0m\u001b[1;33m.\u001b[0m\u001b[0mcolumns\u001b[0m\u001b[1;33m\u001b[0m\u001b[1;33m\u001b[0m\u001b[0m\n\u001b[0;32m    370\u001b[0m         \u001b[1;32melse\u001b[0m\u001b[1;33m:\u001b[0m\u001b[1;33m\u001b[0m\u001b[1;33m\u001b[0m\u001b[0m\n\u001b[1;32m--> 371\u001b[1;33m             \u001b[0mdata\u001b[0m \u001b[1;33m=\u001b[0m \u001b[0mdata\u001b[0m\u001b[1;33m[\u001b[0m\u001b[0mcolumns\u001b[0m\u001b[1;33m]\u001b[0m\u001b[1;33m\u001b[0m\u001b[1;33m\u001b[0m\u001b[0m\n\u001b[0m\u001b[0;32m    372\u001b[0m \u001b[1;33m\u001b[0m\u001b[0m\n\u001b[0;32m    373\u001b[0m         \u001b[0mresult\u001b[0m \u001b[1;33m=\u001b[0m \u001b[0mplot_group\u001b[0m\u001b[1;33m(\u001b[0m\u001b[0mcolumns\u001b[0m\u001b[1;33m,\u001b[0m \u001b[0mdata\u001b[0m\u001b[1;33m.\u001b[0m\u001b[0mvalues\u001b[0m\u001b[1;33m.\u001b[0m\u001b[0mT\u001b[0m\u001b[1;33m,\u001b[0m \u001b[0max\u001b[0m\u001b[1;33m)\u001b[0m\u001b[1;33m\u001b[0m\u001b[1;33m\u001b[0m\u001b[0m\n",
      "\u001b[1;32mC:\\Python310\\lib\\site-packages\\pandas\\core\\frame.py\u001b[0m in \u001b[0;36m__getitem__\u001b[1;34m(self, key)\u001b[0m\n\u001b[0;32m   3462\u001b[0m             \u001b[1;32mif\u001b[0m \u001b[0mis_iterator\u001b[0m\u001b[1;33m(\u001b[0m\u001b[0mkey\u001b[0m\u001b[1;33m)\u001b[0m\u001b[1;33m:\u001b[0m\u001b[1;33m\u001b[0m\u001b[1;33m\u001b[0m\u001b[0m\n\u001b[0;32m   3463\u001b[0m                 \u001b[0mkey\u001b[0m \u001b[1;33m=\u001b[0m \u001b[0mlist\u001b[0m\u001b[1;33m(\u001b[0m\u001b[0mkey\u001b[0m\u001b[1;33m)\u001b[0m\u001b[1;33m\u001b[0m\u001b[1;33m\u001b[0m\u001b[0m\n\u001b[1;32m-> 3464\u001b[1;33m             \u001b[0mindexer\u001b[0m \u001b[1;33m=\u001b[0m \u001b[0mself\u001b[0m\u001b[1;33m.\u001b[0m\u001b[0mloc\u001b[0m\u001b[1;33m.\u001b[0m\u001b[0m_get_listlike_indexer\u001b[0m\u001b[1;33m(\u001b[0m\u001b[0mkey\u001b[0m\u001b[1;33m,\u001b[0m \u001b[0maxis\u001b[0m\u001b[1;33m=\u001b[0m\u001b[1;36m1\u001b[0m\u001b[1;33m)\u001b[0m\u001b[1;33m[\u001b[0m\u001b[1;36m1\u001b[0m\u001b[1;33m]\u001b[0m\u001b[1;33m\u001b[0m\u001b[1;33m\u001b[0m\u001b[0m\n\u001b[0m\u001b[0;32m   3465\u001b[0m \u001b[1;33m\u001b[0m\u001b[0m\n\u001b[0;32m   3466\u001b[0m         \u001b[1;31m# take() does not accept boolean indexers\u001b[0m\u001b[1;33m\u001b[0m\u001b[1;33m\u001b[0m\u001b[0m\n",
      "\u001b[1;32mC:\\Python310\\lib\\site-packages\\pandas\\core\\indexing.py\u001b[0m in \u001b[0;36m_get_listlike_indexer\u001b[1;34m(self, key, axis)\u001b[0m\n\u001b[0;32m   1312\u001b[0m             \u001b[0mkeyarr\u001b[0m\u001b[1;33m,\u001b[0m \u001b[0mindexer\u001b[0m\u001b[1;33m,\u001b[0m \u001b[0mnew_indexer\u001b[0m \u001b[1;33m=\u001b[0m \u001b[0max\u001b[0m\u001b[1;33m.\u001b[0m\u001b[0m_reindex_non_unique\u001b[0m\u001b[1;33m(\u001b[0m\u001b[0mkeyarr\u001b[0m\u001b[1;33m)\u001b[0m\u001b[1;33m\u001b[0m\u001b[1;33m\u001b[0m\u001b[0m\n\u001b[0;32m   1313\u001b[0m \u001b[1;33m\u001b[0m\u001b[0m\n\u001b[1;32m-> 1314\u001b[1;33m         \u001b[0mself\u001b[0m\u001b[1;33m.\u001b[0m\u001b[0m_validate_read_indexer\u001b[0m\u001b[1;33m(\u001b[0m\u001b[0mkeyarr\u001b[0m\u001b[1;33m,\u001b[0m \u001b[0mindexer\u001b[0m\u001b[1;33m,\u001b[0m \u001b[0maxis\u001b[0m\u001b[1;33m)\u001b[0m\u001b[1;33m\u001b[0m\u001b[1;33m\u001b[0m\u001b[0m\n\u001b[0m\u001b[0;32m   1315\u001b[0m \u001b[1;33m\u001b[0m\u001b[0m\n\u001b[0;32m   1316\u001b[0m         if needs_i8_conversion(ax.dtype) or isinstance(\n",
      "\u001b[1;32mC:\\Python310\\lib\\site-packages\\pandas\\core\\indexing.py\u001b[0m in \u001b[0;36m_validate_read_indexer\u001b[1;34m(self, key, indexer, axis)\u001b[0m\n\u001b[0;32m   1372\u001b[0m                 \u001b[1;32mif\u001b[0m \u001b[0muse_interval_msg\u001b[0m\u001b[1;33m:\u001b[0m\u001b[1;33m\u001b[0m\u001b[1;33m\u001b[0m\u001b[0m\n\u001b[0;32m   1373\u001b[0m                     \u001b[0mkey\u001b[0m \u001b[1;33m=\u001b[0m \u001b[0mlist\u001b[0m\u001b[1;33m(\u001b[0m\u001b[0mkey\u001b[0m\u001b[1;33m)\u001b[0m\u001b[1;33m\u001b[0m\u001b[1;33m\u001b[0m\u001b[0m\n\u001b[1;32m-> 1374\u001b[1;33m                 \u001b[1;32mraise\u001b[0m \u001b[0mKeyError\u001b[0m\u001b[1;33m(\u001b[0m\u001b[1;34mf\"None of [{key}] are in the [{axis_name}]\"\u001b[0m\u001b[1;33m)\u001b[0m\u001b[1;33m\u001b[0m\u001b[1;33m\u001b[0m\u001b[0m\n\u001b[0m\u001b[0;32m   1375\u001b[0m \u001b[1;33m\u001b[0m\u001b[0m\n\u001b[0;32m   1376\u001b[0m             \u001b[0mnot_found\u001b[0m \u001b[1;33m=\u001b[0m \u001b[0mlist\u001b[0m\u001b[1;33m(\u001b[0m\u001b[0mensure_index\u001b[0m\u001b[1;33m(\u001b[0m\u001b[0mkey\u001b[0m\u001b[1;33m)\u001b[0m\u001b[1;33m[\u001b[0m\u001b[0mmissing_mask\u001b[0m\u001b[1;33m.\u001b[0m\u001b[0mnonzero\u001b[0m\u001b[1;33m(\u001b[0m\u001b[1;33m)\u001b[0m\u001b[1;33m[\u001b[0m\u001b[1;36m0\u001b[0m\u001b[1;33m]\u001b[0m\u001b[1;33m]\u001b[0m\u001b[1;33m.\u001b[0m\u001b[0munique\u001b[0m\u001b[1;33m(\u001b[0m\u001b[1;33m)\u001b[0m\u001b[1;33m)\u001b[0m\u001b[1;33m\u001b[0m\u001b[1;33m\u001b[0m\u001b[0m\n",
      "\u001b[1;31mKeyError\u001b[0m: \"None of [Index(['last_price_mil'], dtype='object')] are in the [columns]\""
     ]
    },
    {
     "data": {
      "image/png": "[encoded data removed]",
      "text/plain": [
       "<Figure size 432x288 with 1 Axes>"
      ]
     },
     "metadata": {
      "needs_background": "light"
     },
     "output_type": "display_data"
    }
   ],
   "source": [
    "for col in ('last_price_in_mil', 'total_area', 'rooms', 'ceiling_height'):\n",
    "    df.boxplot(column=col, showfliers=False, vert=False) # plot boxpot\n",
    "    plt.show()"
   ]
  },
  {
   "cell_type": "markdown",
   "metadata": {},
   "source": [
    "Based on the boxplots above we can choose the best parameters with the .query() method:"
   ]
  },
  {
   "cell_type": "code",
   "execution_count": null,
   "metadata": {},
   "outputs": [],
   "source": [
    "df_new = (\n",
    "    df.query('1 <= last_price_mil <= 12 and 30 <= total_area <= 150 and 1 <= rooms <= 6 and 2.2 <= ceiling_height <= 4')\n",
    ")"
   ]
  },
  {
   "cell_type": "markdown",
   "metadata": {},
   "source": [
    "**Summary:** The best parameters for the following columns are:\n",
    "'last_price' is in the range of 1 to 12 million rubles.<br>\n",
    "'total_area' is in the range of 20 to 150 $m^2$.<br>\n",
    "'rooms' is in the range of 1 to 5.<br>\n",
    "'ceiling_height' is 2.2 m and 4 m.<br>"
   ]
  },
  {
   "cell_type": "markdown",
   "metadata": {},
   "source": [
    "**Finding factors that have the biggest influence on an apartment’s price**"
   ]
  },
  {
   "cell_type": "markdown",
   "metadata": {},
   "source": [
    "First, look at the correlation between relevant variables:"
   ]
  },
  {
   "cell_type": "code",
   "execution_count": null,
   "metadata": {},
   "outputs": [
    {
     "data": {
      "text/html": [
       "<div>\n",
       "<style scoped>\n",
       "    .dataframe tbody tr th:only-of-type {\n",
       "        vertical-align: middle;\n",
       "    }\n",
       "\n",
       "    .dataframe tbody tr th {\n",
       "        vertical-align: top;\n",
       "    }\n",
       "\n",
       "    .dataframe thead th {\n",
       "        text-align: right;\n",
       "    }\n",
       "</style>\n",
       "<table border=\"1\" class=\"dataframe\">\n",
       "  <thead>\n",
       "    <tr style=\"text-align: right;\">\n",
       "      <th></th>\n",
       "      <th>price_sq_m</th>\n",
       "      <th>total_area</th>\n",
       "      <th>rooms</th>\n",
       "      <th>cityCenters_nearest</th>\n",
       "    </tr>\n",
       "  </thead>\n",
       "  <tbody>\n",
       "    <tr>\n",
       "      <th>price_sq_m</th>\n",
       "      <td>1.000000</td>\n",
       "      <td>0.298829</td>\n",
       "      <td>0.051371</td>\n",
       "      <td>-0.252517</td>\n",
       "    </tr>\n",
       "    <tr>\n",
       "      <th>total_area</th>\n",
       "      <td>0.298829</td>\n",
       "      <td>1.000000</td>\n",
       "      <td>0.757457</td>\n",
       "      <td>-0.210650</td>\n",
       "    </tr>\n",
       "    <tr>\n",
       "      <th>rooms</th>\n",
       "      <td>0.051371</td>\n",
       "      <td>0.757457</td>\n",
       "      <td>1.000000</td>\n",
       "      <td>-0.160764</td>\n",
       "    </tr>\n",
       "    <tr>\n",
       "      <th>cityCenters_nearest</th>\n",
       "      <td>-0.252517</td>\n",
       "      <td>-0.210650</td>\n",
       "      <td>-0.160764</td>\n",
       "      <td>1.000000</td>\n",
       "    </tr>\n",
       "  </tbody>\n",
       "</table>\n",
       "</div>"
      ],
      "text/plain": [
       "                     price_sq_m  total_area     rooms  cityCenters_nearest\n",
       "price_sq_m             1.000000    0.298829  0.051371            -0.252517\n",
       "total_area             0.298829    1.000000  0.757457            -0.210650\n",
       "rooms                  0.051371    0.757457  1.000000            -0.160764\n",
       "cityCenters_nearest   -0.252517   -0.210650 -0.160764             1.000000"
      ]
     },
     "metadata": {},
     "output_type": "display_data"
    }
   ],
   "source": [
    "price_RoomAreaCenter = df[['price_sq_m','total_area', 'rooms','cityCenters_nearest']]\n",
    "\n",
    "#finding correlation\n",
    "display(price_RoomAreaCenter.corr())"
   ]
  },
  {
   "cell_type": "code",
   "execution_count": null,
   "metadata": {
    "scrolled": true
   },
   "outputs": [
    {
     "data": {
      "image/png": "[encoded data removed]",
      "text/plain": [
       "<Figure size 1080x1080 with 16 Axes>"
      ]
     },
     "metadata": {
      "needs_background": "light"
     },
     "output_type": "display_data"
    }
   ],
   "source": [
    "#plotting the scatter matrix for the aforementioned variables\n",
    "pd.plotting.scatter_matrix(price_RoomAreaCenter, figsize=(15, 15)) \n",
    "plt.show()"
   ]
  },
  {
   "cell_type": "markdown",
   "metadata": {},
   "source": [
    "**Summary:** In this scatterplot matrix we're interested in the leftmost column:\n",
    " \n",
    "1) The dependence of the price on the area of ​​​​the apartments and the number of rooms: the price to the ratio of the area and the number of rooms is unevenly distributed. Most often, such a scatter of data means insufficient or strong heterogeneity of data in the table (possibly - errors in the data). However, you can see from the histograms that the smaller the area and the smaller the number of rooms, the lower the price - regardless of the regions.\n",
    "\n",
    "2) Гистограмма зависимости цены от удаленности помещения от центра показывает, что цена может быть относительно низкой и при довльно большом расстоянии от центра. Однако в данном случае мы исследуем все регионы вместе, что очень сильно может исказить реальную картину статистики. Ниже мы рассмотрим ту же зависимость по конкретному местоположению  - Санкт-Петербургу.\n",
    "\n",
    "3) Из таблицы корреляции переменных видно (опять же, нам наиболее интересен крайний левый стобец), что цена, кол-во комнат, площидт имеют позитивную, но слабую корреляцию. Позитивная корреляция означает, что если один из параметров увеличится - второй тоже увеличится (но не сильно). То же самое относится и к высоте потолков, но в данном случае - означает, что если один из параметров станет меньше, то второй, наоборот, вырастет (например, возможно большинство покупателей предпочитают более низкие потолки и готовы заплатить чуточку больше за квартиру с такими потолками. Однако так как сильной корреляции нет, то напрашывается вывод, что есть какие-то другие, неизвестные нам факторы, которые влияют на цену."
   ]
  },
  {
   "cell_type": "code",
   "execution_count": null,
   "metadata": {
    "scrolled": true
   },
   "outputs": [
    {
     "data": {
      "text/html": [
       "<div>\n",
       "<style scoped>\n",
       "    .dataframe tbody tr th:only-of-type {\n",
       "        vertical-align: middle;\n",
       "    }\n",
       "\n",
       "    .dataframe tbody tr th {\n",
       "        vertical-align: top;\n",
       "    }\n",
       "\n",
       "    .dataframe thead th {\n",
       "        text-align: right;\n",
       "    }\n",
       "</style>\n",
       "<table border=\"1\" class=\"dataframe\">\n",
       "  <thead>\n",
       "    <tr style=\"text-align: right;\">\n",
       "      <th></th>\n",
       "      <th>count</th>\n",
       "      <th>mean_price</th>\n",
       "      <th>median_price</th>\n",
       "    </tr>\n",
       "    <tr>\n",
       "      <th>floors_type</th>\n",
       "      <th></th>\n",
       "      <th></th>\n",
       "      <th></th>\n",
       "    </tr>\n",
       "  </thead>\n",
       "  <tbody>\n",
       "    <tr>\n",
       "      <th>другой</th>\n",
       "      <td>17441</td>\n",
       "      <td>103961.716530</td>\n",
       "      <td>98705</td>\n",
       "    </tr>\n",
       "    <tr>\n",
       "      <th>первый</th>\n",
       "      <td>2917</td>\n",
       "      <td>82361.068906</td>\n",
       "      <td>81578</td>\n",
       "    </tr>\n",
       "    <tr>\n",
       "      <th>последний</th>\n",
       "      <td>3340</td>\n",
       "      <td>93851.319162</td>\n",
       "      <td>88461</td>\n",
       "    </tr>\n",
       "  </tbody>\n",
       "</table>\n",
       "</div>"
      ],
      "text/plain": [
       "             count     mean_price  median_price\n",
       "floors_type                                    \n",
       "другой       17441  103961.716530         98705\n",
       "первый        2917   82361.068906         81578\n",
       "последний     3340   93851.319162         88461"
      ]
     },
     "metadata": {},
     "output_type": "display_data"
    }
   ],
   "source": [
    "#зависимость цены от того, на каком этаже расположена квартира: первом, последнем или другом.\n",
    "price_from_floor = df.pivot_table(index='floors_type', values='price_sq_m', aggfunc=['count','mean','median'])\n",
    "price_from_floor.columns = ['count', 'mean_price', 'median_price']\n",
    "display(price_from_floor)"
   ]
  },
  {
   "cell_type": "markdown",
   "metadata": {},
   "source": [
    "**Вывод 4.5** : Несмотря на то, что самая высокая средняя цена относится к типу этажей \"другой\", следует учитывать, что разница в количестве НЕ первых и НЕ последних этажей отличается в примерно 6 раз, а разница в среднем арифметическом - не так велика. Из этого можно сделать вывод, что самые дорогие квартиры (в среднем) - квартиры на последнем этаже, затем - квартиры на первом этаже, и наконец квартиры на остальных этажах по более умеренной цене."
   ]
  },
  {
   "cell_type": "code",
   "execution_count": null,
   "metadata": {
    "scrolled": true
   },
   "outputs": [
    {
     "data": {
      "text/plain": [
       "array([[<AxesSubplot:xlabel='price_sq_m', ylabel='price_sq_m'>,\n",
       "        <AxesSubplot:xlabel='publication_day', ylabel='price_sq_m'>,\n",
       "        <AxesSubplot:xlabel='publication_month', ylabel='price_sq_m'>,\n",
       "        <AxesSubplot:xlabel='publication_year', ylabel='price_sq_m'>],\n",
       "       [<AxesSubplot:xlabel='price_sq_m', ylabel='publication_day'>,\n",
       "        <AxesSubplot:xlabel='publication_day', ylabel='publication_day'>,\n",
       "        <AxesSubplot:xlabel='publication_month', ylabel='publication_day'>,\n",
       "        <AxesSubplot:xlabel='publication_year', ylabel='publication_day'>],\n",
       "       [<AxesSubplot:xlabel='price_sq_m', ylabel='publication_month'>,\n",
       "        <AxesSubplot:xlabel='publication_day', ylabel='publication_month'>,\n",
       "        <AxesSubplot:xlabel='publication_month', ylabel='publication_month'>,\n",
       "        <AxesSubplot:xlabel='publication_year', ylabel='publication_month'>],\n",
       "       [<AxesSubplot:xlabel='price_sq_m', ylabel='publication_year'>,\n",
       "        <AxesSubplot:xlabel='publication_day', ylabel='publication_year'>,\n",
       "        <AxesSubplot:xlabel='publication_month', ylabel='publication_year'>,\n",
       "        <AxesSubplot:xlabel='publication_year', ylabel='publication_year'>]],\n",
       "      dtype=object)"
      ]
     },
     "execution_count": 687,
     "metadata": {},
     "output_type": "execute_result"
    },
    {
     "data": {
      "image/png": "[encoded data removed]",
      "text/plain": [
       "<Figure size 1080x1080 with 16 Axes>"
      ]
     },
     "metadata": {
      "needs_background": "light"
     },
     "output_type": "display_data"
    }
   ],
   "source": [
    "#Также изучите зависимость от даты размещения: дня недели, месяца и года.\n",
    "price_from_date = df[['price_sq_m','publication_day', 'publication_month','publication_year']]\n",
    "pd.plotting.scatter_matrix(price_from_date, figsize=(15, 15)) "
   ]
  },
  {
   "cell_type": "markdown",
   "metadata": {},
   "source": [
    "**Вывод 4.6** : Подобно шагу 4.3, рассмотрим отношение цены к дням, месяцам и годам.\n",
    "1. Из гистограммы видно, что цены повысились, начиная с 2014 года. Самая высокая цена была зафиксирована в 2017 году, и общий разброс цен в этом году расположен на значениях относительно выше остальных. Возможно, этот скачок обусловлен кризисом в 2015-16 годах, но могут быть и другие причины.\n",
    "2. Что касается дня и месяца, здесь разбросы сконцентрированы чуть более равномерно, чем в \"year\", что означает, что цена не сильно зависит от времени года и числа месяца"
   ]
  },
  {
   "cell_type": "code",
   "execution_count": null,
   "metadata": {
    "scrolled": true
   },
   "outputs": [
    {
     "ename": "KeyError",
     "evalue": "'lemmatized_locality'",
     "output_type": "error",
     "traceback": [
      "\u001b[1;31m---------------------------------------------------------------------------\u001b[0m",
      "\u001b[1;31mKeyError\u001b[0m                                  Traceback (most recent call last)",
      "\u001b[1;32m~\\AppData\\Local\\Temp\\ipykernel_16600\\2814448609.py\u001b[0m in \u001b[0;36m<module>\u001b[1;34m\u001b[0m\n\u001b[0;32m      1\u001b[0m \u001b[1;31m# населённые пункты самой высокой и низкой стоимостью жилья\u001b[0m\u001b[1;33m\u001b[0m\u001b[1;33m\u001b[0m\u001b[0m\n\u001b[1;32m----> 2\u001b[1;33m \u001b[0mlocations_price\u001b[0m \u001b[1;33m=\u001b[0m \u001b[0mdf\u001b[0m\u001b[1;33m.\u001b[0m\u001b[0mpivot_table\u001b[0m\u001b[1;33m(\u001b[0m\u001b[0mindex\u001b[0m\u001b[1;33m=\u001b[0m\u001b[1;34m'lemmatized_locality'\u001b[0m\u001b[1;33m,\u001b[0m \u001b[0mvalues\u001b[0m\u001b[1;33m=\u001b[0m\u001b[1;34m'price_sq_m'\u001b[0m\u001b[1;33m,\u001b[0m \u001b[0maggfunc\u001b[0m\u001b[1;33m=\u001b[0m\u001b[1;34m'max'\u001b[0m\u001b[1;33m)\u001b[0m\u001b[1;33m\u001b[0m\u001b[1;33m\u001b[0m\u001b[0m\n\u001b[0m\u001b[0;32m      3\u001b[0m \u001b[0mhighest_prices_loc\u001b[0m \u001b[1;33m=\u001b[0m \u001b[0mlocations_price\u001b[0m\u001b[1;33m[\u001b[0m\u001b[1;34m'price_sq_m'\u001b[0m\u001b[1;33m]\u001b[0m\u001b[1;33m.\u001b[0m\u001b[0mnlargest\u001b[0m\u001b[1;33m(\u001b[0m\u001b[1;36m10\u001b[0m\u001b[1;33m)\u001b[0m\u001b[1;33m\u001b[0m\u001b[1;33m\u001b[0m\u001b[0m\n\u001b[0;32m      4\u001b[0m \u001b[0mprint\u001b[0m\u001b[1;33m(\u001b[0m\u001b[0mhighest_prices_loc\u001b[0m\u001b[1;33m)\u001b[0m\u001b[1;33m\u001b[0m\u001b[1;33m\u001b[0m\u001b[0m\n",
      "\u001b[1;32mC:\\Python310\\lib\\site-packages\\pandas\\core\\frame.py\u001b[0m in \u001b[0;36mpivot_table\u001b[1;34m(self, values, index, columns, aggfunc, fill_value, margins, dropna, margins_name, observed, sort)\u001b[0m\n\u001b[0;32m   7949\u001b[0m         \u001b[1;32mfrom\u001b[0m \u001b[0mpandas\u001b[0m\u001b[1;33m.\u001b[0m\u001b[0mcore\u001b[0m\u001b[1;33m.\u001b[0m\u001b[0mreshape\u001b[0m\u001b[1;33m.\u001b[0m\u001b[0mpivot\u001b[0m \u001b[1;32mimport\u001b[0m \u001b[0mpivot_table\u001b[0m\u001b[1;33m\u001b[0m\u001b[1;33m\u001b[0m\u001b[0m\n\u001b[0;32m   7950\u001b[0m \u001b[1;33m\u001b[0m\u001b[0m\n\u001b[1;32m-> 7951\u001b[1;33m         return pivot_table(\n\u001b[0m\u001b[0;32m   7952\u001b[0m             \u001b[0mself\u001b[0m\u001b[1;33m,\u001b[0m\u001b[1;33m\u001b[0m\u001b[1;33m\u001b[0m\u001b[0m\n\u001b[0;32m   7953\u001b[0m             \u001b[0mvalues\u001b[0m\u001b[1;33m=\u001b[0m\u001b[0mvalues\u001b[0m\u001b[1;33m,\u001b[0m\u001b[1;33m\u001b[0m\u001b[1;33m\u001b[0m\u001b[0m\n",
      "\u001b[1;32mC:\\Python310\\lib\\site-packages\\pandas\\core\\reshape\\pivot.py\u001b[0m in \u001b[0;36mpivot_table\u001b[1;34m(data, values, index, columns, aggfunc, fill_value, margins, dropna, margins_name, observed, sort)\u001b[0m\n\u001b[0;32m     93\u001b[0m         \u001b[1;32mreturn\u001b[0m \u001b[0mtable\u001b[0m\u001b[1;33m.\u001b[0m\u001b[0m__finalize__\u001b[0m\u001b[1;33m(\u001b[0m\u001b[0mdata\u001b[0m\u001b[1;33m,\u001b[0m \u001b[0mmethod\u001b[0m\u001b[1;33m=\u001b[0m\u001b[1;34m\"pivot_table\"\u001b[0m\u001b[1;33m)\u001b[0m\u001b[1;33m\u001b[0m\u001b[1;33m\u001b[0m\u001b[0m\n\u001b[0;32m     94\u001b[0m \u001b[1;33m\u001b[0m\u001b[0m\n\u001b[1;32m---> 95\u001b[1;33m     table = __internal_pivot_table(\n\u001b[0m\u001b[0;32m     96\u001b[0m         \u001b[0mdata\u001b[0m\u001b[1;33m,\u001b[0m\u001b[1;33m\u001b[0m\u001b[1;33m\u001b[0m\u001b[0m\n\u001b[0;32m     97\u001b[0m         \u001b[0mvalues\u001b[0m\u001b[1;33m,\u001b[0m\u001b[1;33m\u001b[0m\u001b[1;33m\u001b[0m\u001b[0m\n",
      "\u001b[1;32mC:\\Python310\\lib\\site-packages\\pandas\\core\\reshape\\pivot.py\u001b[0m in \u001b[0;36m__internal_pivot_table\u001b[1;34m(data, values, index, columns, aggfunc, fill_value, margins, dropna, margins_name, observed, sort)\u001b[0m\n\u001b[0;32m    162\u001b[0m         \u001b[0mvalues\u001b[0m \u001b[1;33m=\u001b[0m \u001b[0mlist\u001b[0m\u001b[1;33m(\u001b[0m\u001b[0mvalues\u001b[0m\u001b[1;33m)\u001b[0m\u001b[1;33m\u001b[0m\u001b[1;33m\u001b[0m\u001b[0m\n\u001b[0;32m    163\u001b[0m \u001b[1;33m\u001b[0m\u001b[0m\n\u001b[1;32m--> 164\u001b[1;33m     \u001b[0mgrouped\u001b[0m \u001b[1;33m=\u001b[0m \u001b[0mdata\u001b[0m\u001b[1;33m.\u001b[0m\u001b[0mgroupby\u001b[0m\u001b[1;33m(\u001b[0m\u001b[0mkeys\u001b[0m\u001b[1;33m,\u001b[0m \u001b[0mobserved\u001b[0m\u001b[1;33m=\u001b[0m\u001b[0mobserved\u001b[0m\u001b[1;33m,\u001b[0m \u001b[0msort\u001b[0m\u001b[1;33m=\u001b[0m\u001b[0msort\u001b[0m\u001b[1;33m)\u001b[0m\u001b[1;33m\u001b[0m\u001b[1;33m\u001b[0m\u001b[0m\n\u001b[0m\u001b[0;32m    165\u001b[0m     \u001b[0magged\u001b[0m \u001b[1;33m=\u001b[0m \u001b[0mgrouped\u001b[0m\u001b[1;33m.\u001b[0m\u001b[0magg\u001b[0m\u001b[1;33m(\u001b[0m\u001b[0maggfunc\u001b[0m\u001b[1;33m)\u001b[0m\u001b[1;33m\u001b[0m\u001b[1;33m\u001b[0m\u001b[0m\n\u001b[0;32m    166\u001b[0m     \u001b[1;32mif\u001b[0m \u001b[0mdropna\u001b[0m \u001b[1;32mand\u001b[0m \u001b[0misinstance\u001b[0m\u001b[1;33m(\u001b[0m\u001b[0magged\u001b[0m\u001b[1;33m,\u001b[0m \u001b[0mABCDataFrame\u001b[0m\u001b[1;33m)\u001b[0m \u001b[1;32mand\u001b[0m \u001b[0mlen\u001b[0m\u001b[1;33m(\u001b[0m\u001b[0magged\u001b[0m\u001b[1;33m.\u001b[0m\u001b[0mcolumns\u001b[0m\u001b[1;33m)\u001b[0m\u001b[1;33m:\u001b[0m\u001b[1;33m\u001b[0m\u001b[1;33m\u001b[0m\u001b[0m\n",
      "\u001b[1;32mC:\\Python310\\lib\\site-packages\\pandas\\core\\frame.py\u001b[0m in \u001b[0;36mgroupby\u001b[1;34m(self, by, axis, level, as_index, sort, group_keys, squeeze, observed, dropna)\u001b[0m\n\u001b[0;32m   7629\u001b[0m         \u001b[1;31m# error: Argument \"squeeze\" to \"DataFrameGroupBy\" has incompatible type\u001b[0m\u001b[1;33m\u001b[0m\u001b[1;33m\u001b[0m\u001b[0m\n\u001b[0;32m   7630\u001b[0m         \u001b[1;31m# \"Union[bool, NoDefault]\"; expected \"bool\"\u001b[0m\u001b[1;33m\u001b[0m\u001b[1;33m\u001b[0m\u001b[0m\n\u001b[1;32m-> 7631\u001b[1;33m         return DataFrameGroupBy(\n\u001b[0m\u001b[0;32m   7632\u001b[0m             \u001b[0mobj\u001b[0m\u001b[1;33m=\u001b[0m\u001b[0mself\u001b[0m\u001b[1;33m,\u001b[0m\u001b[1;33m\u001b[0m\u001b[1;33m\u001b[0m\u001b[0m\n\u001b[0;32m   7633\u001b[0m             \u001b[0mkeys\u001b[0m\u001b[1;33m=\u001b[0m\u001b[0mby\u001b[0m\u001b[1;33m,\u001b[0m\u001b[1;33m\u001b[0m\u001b[1;33m\u001b[0m\u001b[0m\n",
      "\u001b[1;32mC:\\Python310\\lib\\site-packages\\pandas\\core\\groupby\\groupby.py\u001b[0m in \u001b[0;36m__init__\u001b[1;34m(self, obj, keys, axis, level, grouper, exclusions, selection, as_index, sort, group_keys, squeeze, observed, mutated, dropna)\u001b[0m\n\u001b[0;32m    887\u001b[0m             \u001b[1;32mfrom\u001b[0m \u001b[0mpandas\u001b[0m\u001b[1;33m.\u001b[0m\u001b[0mcore\u001b[0m\u001b[1;33m.\u001b[0m\u001b[0mgroupby\u001b[0m\u001b[1;33m.\u001b[0m\u001b[0mgrouper\u001b[0m \u001b[1;32mimport\u001b[0m \u001b[0mget_grouper\u001b[0m\u001b[1;33m\u001b[0m\u001b[1;33m\u001b[0m\u001b[0m\n\u001b[0;32m    888\u001b[0m \u001b[1;33m\u001b[0m\u001b[0m\n\u001b[1;32m--> 889\u001b[1;33m             grouper, exclusions, obj = get_grouper(\n\u001b[0m\u001b[0;32m    890\u001b[0m                 \u001b[0mobj\u001b[0m\u001b[1;33m,\u001b[0m\u001b[1;33m\u001b[0m\u001b[1;33m\u001b[0m\u001b[0m\n\u001b[0;32m    891\u001b[0m                 \u001b[0mkeys\u001b[0m\u001b[1;33m,\u001b[0m\u001b[1;33m\u001b[0m\u001b[1;33m\u001b[0m\u001b[0m\n",
      "\u001b[1;32mC:\\Python310\\lib\\site-packages\\pandas\\core\\groupby\\grouper.py\u001b[0m in \u001b[0;36mget_grouper\u001b[1;34m(obj, key, axis, level, sort, observed, mutated, validate, dropna)\u001b[0m\n\u001b[0;32m    860\u001b[0m                 \u001b[0min_axis\u001b[0m\u001b[1;33m,\u001b[0m \u001b[0mlevel\u001b[0m\u001b[1;33m,\u001b[0m \u001b[0mgpr\u001b[0m \u001b[1;33m=\u001b[0m \u001b[1;32mFalse\u001b[0m\u001b[1;33m,\u001b[0m \u001b[0mgpr\u001b[0m\u001b[1;33m,\u001b[0m \u001b[1;32mNone\u001b[0m\u001b[1;33m\u001b[0m\u001b[1;33m\u001b[0m\u001b[0m\n\u001b[0;32m    861\u001b[0m             \u001b[1;32melse\u001b[0m\u001b[1;33m:\u001b[0m\u001b[1;33m\u001b[0m\u001b[1;33m\u001b[0m\u001b[0m\n\u001b[1;32m--> 862\u001b[1;33m                 \u001b[1;32mraise\u001b[0m \u001b[0mKeyError\u001b[0m\u001b[1;33m(\u001b[0m\u001b[0mgpr\u001b[0m\u001b[1;33m)\u001b[0m\u001b[1;33m\u001b[0m\u001b[1;33m\u001b[0m\u001b[0m\n\u001b[0m\u001b[0;32m    863\u001b[0m         \u001b[1;32melif\u001b[0m \u001b[0misinstance\u001b[0m\u001b[1;33m(\u001b[0m\u001b[0mgpr\u001b[0m\u001b[1;33m,\u001b[0m \u001b[0mGrouper\u001b[0m\u001b[1;33m)\u001b[0m \u001b[1;32mand\u001b[0m \u001b[0mgpr\u001b[0m\u001b[1;33m.\u001b[0m\u001b[0mkey\u001b[0m \u001b[1;32mis\u001b[0m \u001b[1;32mnot\u001b[0m \u001b[1;32mNone\u001b[0m\u001b[1;33m:\u001b[0m\u001b[1;33m\u001b[0m\u001b[1;33m\u001b[0m\u001b[0m\n\u001b[0;32m    864\u001b[0m             \u001b[1;31m# Add key to exclusions\u001b[0m\u001b[1;33m\u001b[0m\u001b[1;33m\u001b[0m\u001b[0m\n",
      "\u001b[1;31mKeyError\u001b[0m: 'lemmatized_locality'"
     ]
    }
   ],
   "source": [
    "# населённые пункты самой высокой и низкой стоимостью жилья\n",
    "locations_price = df.pivot_table(index='locality_name', values='price_sq_m', aggfunc='max')\n",
    "highest_prices_loc = locations_price['price_sq_m'].nlargest(10)\n",
    "print(highest_prices_loc)"
   ]
  },
  {
   "cell_type": "markdown",
   "metadata": {},
   "source": [
    "**Вывод 4.7** : Благодаря столбцу с лемматизированными локациями, были явлены 10 населенных пунктов с самыми дорогими жилыми помещениями. На первом месте- Санкт-Петербург, цена на кв. метр в котором отличается от минимального значения в этом списке (Кудрово) более чем в 11 раз."
   ]
  },
  {
   "cell_type": "code",
   "execution_count": null,
   "metadata": {
    "scrolled": true
   },
   "outputs": [
    {
     "data": {
      "text/plain": [
       "<matplotlib.axes._subplots.AxesSubplot at 0x7f675ed6a050>"
      ]
     },
     "execution_count": 23,
     "metadata": {},
     "output_type": "execute_result"
    },
    {
     "data": {
      "image/png": "[encoded data removed]",
      "text/plain": [
       "<Figure size 432x288 with 1 Axes>"
      ]
     },
     "metadata": {
      "needs_background": "light"
     },
     "output_type": "display_data"
    }
   ],
   "source": [
    "#kак цена зависит от удалённости от центра\n",
    "df['km_to_cityCenters'] = (df['cityCenters_nearest'] / 1000).round(0) #конвертация растояния до центра города из метров в километры\n",
    "spb_slice = df.query('locality_name == \"Санкт-Петербург\"')\n",
    "\n",
    "spb_slice.plot(x='km_to_cityCenters', y='price_sq_m', style='o', xlim=(0, 30), grid=True) "
   ]
  },
  {
   "cell_type": "markdown",
   "metadata": {},
   "source": [
    "**Вывод 4.8** : На этом графике, который фокусируется на срезе по городу Санкт-Петербург (с самыми дорогими жилыми помезениями), четко видно, что чем ближе жилое помещение к центру (ближе к 0), тем выше цены на жилье."
   ]
  },
  {
   "cell_type": "code",
   "execution_count": null,
   "metadata": {
    "scrolled": true
   },
   "outputs": [
    {
     "name": "stdout",
     "output_type": "stream",
     "text": [
      "         price_sq_m\n",
      "count  2.369900e+04\n",
      "mean   9.987371e+04\n",
      "std    5.041842e+04\n",
      "min    1.110000e+02\n",
      "25%    7.698500e+04\n",
      "50%    9.545400e+04\n",
      "75%    1.148640e+05\n",
      "max    1.907500e+06\n",
      "\n",
      "            price_sq_m\n",
      "price_sq_m         1.0\n"
     ]
    },
    {
     "data": {
      "text/plain": [
       "array([[<matplotlib.axes._subplots.AxesSubplot object at 0x7f675e8c5a50>,\n",
       "        <matplotlib.axes._subplots.AxesSubplot object at 0x7f675e7d0dd0>,\n",
       "        <matplotlib.axes._subplots.AxesSubplot object at 0x7f675e75b590>],\n",
       "       [<matplotlib.axes._subplots.AxesSubplot object at 0x7f675e3ddd90>,\n",
       "        <matplotlib.axes._subplots.AxesSubplot object at 0x7f675e0ef5d0>,\n",
       "        <matplotlib.axes._subplots.AxesSubplot object at 0x7f675e0afdd0>],\n",
       "       [<matplotlib.axes._subplots.AxesSubplot object at 0x7f675dfc8610>,\n",
       "        <matplotlib.axes._subplots.AxesSubplot object at 0x7f67a56a2e10>,\n",
       "        <matplotlib.axes._subplots.AxesSubplot object at 0x7f67a552d990>]],\n",
       "      dtype=object)"
      ]
     },
     "execution_count": 24,
     "metadata": {},
     "output_type": "execute_result"
    },
    {
     "data": {
      "image/png": "[encoded data removed]",
      "text/plain": [
       "<Figure size 1080x1080 with 9 Axes>"
      ]
     },
     "metadata": {
      "needs_background": "light"
     },
     "output_type": "display_data"
    }
   ],
   "source": [
    "#Анализ квартир в центре города (Санкт-петербург)\n",
    "spb_cityCenter = spb_slice.query('km_to_cityCenters <= 2')\n",
    "print(df[['price_sq_m','total_area', 'rooms','ceiling_height']].describe())\n",
    "print()\n",
    "print(df[['price_sq_m','total_area', 'rooms','ceiling_height']].corr())\n",
    "\n",
    "housing_center = spb_cityCenter[['price_sq_m','rooms','km_to_cityCenters','floor','first_day_exposition']]\n",
    "\n",
    "pd.plotting.scatter_matrix(housing_center, figsize=(15, 15))"
   ]
  },
  {
   "cell_type": "markdown",
   "metadata": {},
   "source": [
    "<font color='blue'>***UPDATED:***</font> \n",
    "\n",
    "Из таблицы корреляции переменных выше видно, что самая сильная корреляция - корреляция между кол-вом комнат и площадью квартиры (логичный вывод). Корреляция по всем остальным переменным позитивная, но слабая, что означает, что если один из параметров увеличится, другой тоже увеличится, но не сильно. Как и при прошлой таблици корреляции, это значает, что возможно есть какие-то другие, более значимые факторы, которые у нас отсутствуют."
   ]
  },
  {
   "cell_type": "markdown",
   "metadata": {},
   "source": [
    "**Вывод 4.9** : Аналогично с шагом 4.3 проанализируем отношение цены к этажу, растоянию от центра и кол-ву комнат, но в этот раз сфокусируемся на Санкт-Петербурге. \n",
    "1) Отношение цены к этажу: Наибольшее количество выставленных на продажу квартира находятся на 1-5 этажах. Однако, вопреки предыдущему анализу в шаге 4.5, самая высокая цена зафиксирована у 5 этажа. Является ли 5й этаж последним в этом дома - неизвестно.\n",
    "\n",
    "2) В данном анализе я предположила, что центром можно считать все квартиры расположенные на растоянии 0-2 км от условного \"центра города\". Как видно на гистограмме, непосредственно в центре Петеррбурга довольно мало объявлений. А самая высокая цена зафиксирована у помещений на расстоянии примерно 1 км от центра.\n",
    "\n",
    "3) Аналогично, по гистограмме видно, что самая большая цена зафиксирована у помещения с 3 комнатами. А также, наибольшее кол-во выставленных на продажу жилых площадей имеют 2-5 комнат."
   ]
  },
  {
   "cell_type": "markdown",
   "metadata": {},
   "source": [
    "## Общий вывод"
   ]
  },
  {
   "cell_type": "markdown",
   "metadata": {},
   "source": [
    "Разобъём итоги на несколько этапов:\n",
    "Шаг 1: Проведена первичная оценка имеющихся данных, выявлены пропуски, ошибки, намечен план дальнейших действий по предобработке данных\n",
    "Шаг 2: Обработан каждый из 22х столбцов в таблице, пропуски заполнены соответствующими значениями, логика заполнения пропусков зафиксирована (в выводе под заданием). По окончании предобработки данных, все пропуски заполнены, столбец 'locality_area' был лемматизирован и преобразован в новый столбец для удобства поиска по данным и с целью исправить имеющиеся ошибки, возникшие при вводе/хранении данных\n",
    "Шаг 3: Проведены необходимые расчеты и созданы соответствующие столбцы в общем датафрейме. Дополнительно был создан столбец 'last_price_in_mln', который отражал цену помещения в миллионах вместо единиц рублей.\n",
    "Шаг 4. Проведен исследовательский анализ данных, построены многочисленные графики, гистограммы и сводные таблицы, с целью исследовать данные с каждой стороны\n",
    "\n",
    "**ИТОГ:** Изначально поставленной задачей было установить параметры, которые бы помогли определять рыночную стоимость объектов недвижимости, чтобы она отслеживать аномалии и мошенническую деятельность. После тщательного анализа данных было выявлено, что самые дорогие квартиры находятся в Санкт-петербурге, в центре города, с кол-вом комнат 2-5, на первых этажах дома, которые были выставлены на продажу не дольше 2х лет. Примерно тот же тренд поддерживается и для других населенных пунктов.\n",
    "\n",
    "Среди аномалий было выявлено следующее: \n",
    "\n",
    "1) Большое количество пропусков в данных, которые описывают качества жилого помещения (растояние от центра, кол-во комнат, площадь помещения, этаж итд) и неравномерное их распределение (много выбросов)\n",
    "\n",
    "2) Были обнаружены жилые помещения, которые были выставлены на продажу более 3х лет. Также есть немалое количество квартир, которые продавались за срок меньше недели. Причина - неизвестна.\n",
    "\n",
    "**Рекоммендации:**\n",
    "1) Выяснить причину наличия пропусков и: а) заполнить их самостоятельно; б) потребовать самих продавцов заполнить отсутсвтующие данные, особенно связанные с описанием самого продаваемого объекта\n",
    "2) Удалять из базы данных все объявления, которые не закрываются более 2х лет.\n",
    "3) Выяснить причину \"слишком быстрого\" закрытия сделки на квартиры, если это возможно, и внести это в базу данных"
   ]
  },
  {
   "cell_type": "markdown",
   "metadata": {},
   "source": [
    "<div class=\"alert alert-success\">\n",
    "<b>Комментарий ревьюера (2):</b>\n",
    "\n",
    "Выводы понятны и логичны, а самое главное подкреплены выявленными фактами.\n",
    "       \n",
    "В целом сам проект выполнен на хорошем уровне! На протяжении всей работы чувствуется глубина проработки задачи и это безусловный плюс для нас. Было использовано большое количество методов, которые будут помогать тебе в дальнейших проектах.\n",
    "    \n",
    "    \n",
    "Поздравляю с успешным завершением проекта 😊👍\n",
    "    \n",
    "И желаю успехов в новых работах 😊\n",
    "    \n",
    "**[общий комментарий]** Ячейки **markdown** в том числе мы можем использовать как дополнительный способ стилизации нашего проекта. Оставил ниже ссылку, с примерами стилизации.\n",
    "\n",
    "https://sqlbak.com/blog/jupyter-notebook-markdown-cheatsheet\n",
    "    \n",
    "</div>"
   ]
  },
  {
   "cell_type": "markdown",
   "metadata": {},
   "source": [
    "## Чек-лист готовности проекта\n",
    "\n",
    "Поставьте 'x' в выполненных пунктах. Далее нажмите Shift+Enter."
   ]
  },
  {
   "cell_type": "markdown",
   "metadata": {},
   "source": [
    "- [x]  открыт файл\n",
    "- [x]  файлы изучены (выведены первые строки, метод info())\n",
    "- [x]  определены пропущенные значения\n",
    "- [x]  заполнены пропущенные значения\n",
    "- [x]  есть пояснение, какие пропущенные значения обнаружены\n",
    "- [x]  изменены типы данных\n",
    "- [x]  есть пояснение, в каких столбцах изменены типы и почему\n",
    "- [x]  посчитано и добавлено в таблицу: цена квадратного метра\n",
    "- [x]  посчитано и добавлено в таблицу: день недели, месяц и год публикации объявления\n",
    "- [x]  посчитано и добавлено в таблицу: этаж квартиры; варианты — первый, последний, другой\n",
    "- [x]  посчитано и добавлено в таблицу: соотношение жилой и общей площади, а также отношение площади кухни к общей\n",
    "- [x]  изучены следующие параметры: площадь, цена, число комнат, высота потолков\n",
    "- [x]  построены гистограммы для каждого параметра\n",
    "- [x]  выполнено задание: \"Изучите время продажи квартиры. Постройте гистограмму. Посчитайте среднее и медиану. Опишите, сколько обычно занимает продажа. Когда можно считать, что продажи прошли очень быстро, а когда необычно долго?\"\n",
    "- [x]  выполнено задание: \"Уберите редкие и выбивающиеся значения. Опишите, какие особенности обнаружили.\"\n",
    "- [x]  выполнено задание: \"Какие факторы больше всего влияют на стоимость квартиры? Изучите, зависит ли цена от квадратного метра, числа комнат, этажа (первого или последнего), удалённости от центра. Также изучите зависимость от даты размещения: дня недели, месяца и года. \"Выберите 10 населённых пунктов с наибольшим числом объявлений. Посчитайте среднюю цену квадратного метра в этих населённых пунктах. Выделите населённые пункты с самой высокой и низкой стоимостью жилья. Эти данные можно найти по имени в столбце '*locality_name'*. \"\n",
    "- [x]  выполнено задание: \"Изучите предложения квартир: для каждой квартиры есть информация о расстоянии до центра. Выделите квартиры в Санкт-Петербурге (*'locality_name'*). Ваша задача — выяснить, какая область входит в центр. Создайте столбец с расстоянием до центра в километрах: округлите до целых значений. После этого посчитайте среднюю цену для каждого километра. Постройте график: он должен показывать, как цена зависит от удалённости от центра. Определите границу, где график сильно меняется — это и будет центральная зона. \"\n",
    "- [x]  выполнено задание: \"Выделите сегмент квартир в центре. Проанализируйте эту территорию и изучите следующие параметры: площадь, цена, число комнат, высота потолков. Также выделите факторы, которые влияют на стоимость квартиры (число комнат, этаж, удалённость от центра, дата размещения объявления). Сделайте выводы. Отличаются ли они от общих выводов по всему городу?\"\n",
    "- [x]  в каждом этапе есть выводы\n",
    "- [x]  есть общий вывод"
   ]
  },
  {
   "cell_type": "code",
   "execution_count": null,
   "metadata": {},
   "outputs": [],
   "source": []
  }
 ],
 "metadata": {
  "ExecuteTimeLog": [
   {
    "duration": 609,
    "start_time": "2021-10-14T00:26:41.160Z"
   },
   {
    "duration": 84,
    "start_time": "2021-10-14T00:27:32.020Z"
   },
   {
    "duration": 99,
    "start_time": "2021-10-14T00:30:22.492Z"
   },
   {
    "duration": 686,
    "start_time": "2021-10-14T07:59:25.326Z"
   },
   {
    "duration": 97,
    "start_time": "2021-10-14T08:01:03.600Z"
   },
   {
    "duration": 119,
    "start_time": "2021-10-14T08:01:16.645Z"
   },
   {
    "duration": 99,
    "start_time": "2021-10-14T08:01:36.649Z"
   },
   {
    "duration": 402,
    "start_time": "2021-10-14T09:10:41.195Z"
   },
   {
    "duration": 364,
    "start_time": "2021-10-14T09:10:51.190Z"
   },
   {
    "duration": 375,
    "start_time": "2021-10-14T09:12:17.909Z"
   },
   {
    "duration": 2380,
    "start_time": "2021-10-14T09:13:01.061Z"
   },
   {
    "duration": 4,
    "start_time": "2021-10-14T09:16:27.646Z"
   },
   {
    "duration": 1475,
    "start_time": "2021-10-14T09:19:55.243Z"
   },
   {
    "duration": 1405,
    "start_time": "2021-10-14T09:21:06.922Z"
   },
   {
    "duration": 2175,
    "start_time": "2021-10-14T09:21:08.661Z"
   },
   {
    "duration": 1314,
    "start_time": "2021-10-14T09:21:57.892Z"
   },
   {
    "duration": 1375,
    "start_time": "2021-10-14T09:32:04.990Z"
   },
   {
    "duration": 48,
    "start_time": "2021-10-14T09:32:25.712Z"
   },
   {
    "duration": 356,
    "start_time": "2021-10-14T09:33:50.133Z"
   },
   {
    "duration": 7,
    "start_time": "2021-10-14T09:34:30.601Z"
   },
   {
    "duration": 11,
    "start_time": "2021-10-14T09:34:52.605Z"
   },
   {
    "duration": 345,
    "start_time": "2021-10-14T09:35:23.344Z"
   },
   {
    "duration": 11,
    "start_time": "2021-10-14T09:35:32.728Z"
   },
   {
    "duration": 10,
    "start_time": "2021-10-14T09:36:03.966Z"
   },
   {
    "duration": 337,
    "start_time": "2021-10-14T09:36:39.087Z"
   },
   {
    "duration": 9180,
    "start_time": "2021-10-14T09:36:57.985Z"
   },
   {
    "duration": 338,
    "start_time": "2021-10-14T09:37:34.364Z"
   },
   {
    "duration": 350,
    "start_time": "2021-10-14T09:37:56.250Z"
   },
   {
    "duration": 381,
    "start_time": "2021-10-14T09:38:32.832Z"
   },
   {
    "duration": 10,
    "start_time": "2021-10-14T09:38:51.331Z"
   },
   {
    "duration": 91,
    "start_time": "2021-10-14T09:38:58.472Z"
   },
   {
    "duration": 22,
    "start_time": "2021-10-14T09:39:03.875Z"
   },
   {
    "duration": 660,
    "start_time": "2021-10-14T09:41:09.524Z"
   },
   {
    "duration": 10175,
    "start_time": "2021-10-14T09:42:31.593Z"
   },
   {
    "duration": 96,
    "start_time": "2021-10-14T09:43:08.039Z"
   },
   {
    "duration": 366,
    "start_time": "2021-10-14T09:43:22.196Z"
   },
   {
    "duration": 19,
    "start_time": "2021-10-14T09:43:35.801Z"
   },
   {
    "duration": 13,
    "start_time": "2021-10-14T09:43:53.524Z"
   },
   {
    "duration": 544,
    "start_time": "2021-10-14T09:44:18.824Z"
   },
   {
    "duration": 537,
    "start_time": "2021-10-14T09:45:01.642Z"
   },
   {
    "duration": 663,
    "start_time": "2021-10-14T09:46:23.288Z"
   },
   {
    "duration": 1091,
    "start_time": "2021-10-14T09:47:13.771Z"
   },
   {
    "duration": 17,
    "start_time": "2021-10-14T09:47:22.520Z"
   },
   {
    "duration": 14,
    "start_time": "2021-10-14T09:49:25.356Z"
   },
   {
    "duration": 121,
    "start_time": "2021-10-14T09:49:38.437Z"
   },
   {
    "duration": 148,
    "start_time": "2021-10-14T09:49:42.649Z"
   },
   {
    "duration": 14,
    "start_time": "2021-10-14T09:50:28.511Z"
   },
   {
    "duration": 14,
    "start_time": "2021-10-14T09:50:53.896Z"
   },
   {
    "duration": 13,
    "start_time": "2021-10-14T09:51:07.677Z"
   },
   {
    "duration": 109,
    "start_time": "2021-10-14T09:51:27.326Z"
   },
   {
    "duration": 12,
    "start_time": "2021-10-14T09:51:34.971Z"
   },
   {
    "duration": 11,
    "start_time": "2021-10-14T09:52:04.507Z"
   },
   {
    "duration": 97,
    "start_time": "2021-10-14T09:52:12.290Z"
   },
   {
    "duration": 2331,
    "start_time": "2021-10-14T09:52:15.722Z"
   },
   {
    "duration": 19,
    "start_time": "2021-10-14T09:54:01.562Z"
   },
   {
    "duration": 106,
    "start_time": "2021-10-14T09:54:57.414Z"
   },
   {
    "duration": 1436,
    "start_time": "2021-10-14T09:55:01.643Z"
   },
   {
    "duration": 76,
    "start_time": "2021-10-14T09:56:34.898Z"
   },
   {
    "duration": 76,
    "start_time": "2021-10-14T09:56:43.615Z"
   },
   {
    "duration": 410,
    "start_time": "2021-10-14T10:00:48.517Z"
   },
   {
    "duration": 74,
    "start_time": "2021-10-14T10:01:43.111Z"
   },
   {
    "duration": 14,
    "start_time": "2021-10-14T10:01:46.577Z"
   },
   {
    "duration": 75,
    "start_time": "2021-10-14T10:07:54.058Z"
   },
   {
    "duration": 364,
    "start_time": "2021-10-14T10:07:57.624Z"
   },
   {
    "duration": 8745,
    "start_time": "2021-10-14T10:09:13.181Z"
   },
   {
    "duration": -19,
    "start_time": "2021-10-14T10:09:21.946Z"
   },
   {
    "duration": 8730,
    "start_time": "2021-10-14T10:09:26.555Z"
   },
   {
    "duration": 70,
    "start_time": "2021-10-14T10:15:53.098Z"
   },
   {
    "duration": 349,
    "start_time": "2021-10-14T10:15:56.416Z"
   },
   {
    "duration": 2,
    "start_time": "2021-10-14T10:17:22.877Z"
   },
   {
    "duration": 91,
    "start_time": "2021-10-14T11:09:32.308Z"
   },
   {
    "duration": 36,
    "start_time": "2021-10-14T11:09:37.674Z"
   },
   {
    "duration": 65,
    "start_time": "2021-10-14T11:16:36.127Z"
   },
   {
    "duration": 375,
    "start_time": "2021-10-14T11:16:38.234Z"
   },
   {
    "duration": 428,
    "start_time": "2021-10-14T11:16:54.154Z"
   },
   {
    "duration": 42,
    "start_time": "2021-10-14T11:17:32.811Z"
   },
   {
    "duration": 42,
    "start_time": "2021-10-14T11:17:45.231Z"
   },
   {
    "duration": 108,
    "start_time": "2021-10-14T11:17:56.042Z"
   },
   {
    "duration": 116,
    "start_time": "2021-10-14T11:18:06.098Z"
   },
   {
    "duration": 34,
    "start_time": "2021-10-14T11:18:25.845Z"
   },
   {
    "duration": 63,
    "start_time": "2021-10-14T11:19:57.655Z"
   },
   {
    "duration": 40,
    "start_time": "2021-10-14T11:19:59.642Z"
   },
   {
    "duration": 42,
    "start_time": "2021-10-14T11:22:54.232Z"
   },
   {
    "duration": 47,
    "start_time": "2021-10-14T11:24:50.012Z"
   },
   {
    "duration": 66,
    "start_time": "2021-10-14T11:25:24.834Z"
   },
   {
    "duration": 44,
    "start_time": "2021-10-14T11:25:27.692Z"
   },
   {
    "duration": 9776,
    "start_time": "2021-10-14T12:02:43.567Z"
   },
   {
    "duration": 67,
    "start_time": "2021-10-14T12:03:14.766Z"
   },
   {
    "duration": 50,
    "start_time": "2021-10-14T12:03:18.993Z"
   },
   {
    "duration": 64,
    "start_time": "2021-10-14T12:04:09.825Z"
   },
   {
    "duration": 48,
    "start_time": "2021-10-14T12:04:13.852Z"
   },
   {
    "duration": 67,
    "start_time": "2021-10-14T12:06:08.303Z"
   },
   {
    "duration": 60,
    "start_time": "2021-10-14T12:06:10.991Z"
   },
   {
    "duration": 55,
    "start_time": "2021-10-14T12:07:04.741Z"
   },
   {
    "duration": 58,
    "start_time": "2021-10-14T12:07:33.096Z"
   },
   {
    "duration": 75,
    "start_time": "2021-10-14T12:09:12.742Z"
   },
   {
    "duration": 62,
    "start_time": "2021-10-14T12:09:15.883Z"
   },
   {
    "duration": 58,
    "start_time": "2021-10-14T12:09:44.686Z"
   },
   {
    "duration": 56,
    "start_time": "2021-10-14T12:10:44.735Z"
   },
   {
    "duration": 67,
    "start_time": "2021-10-14T12:10:49.037Z"
   },
   {
    "duration": 66,
    "start_time": "2021-10-14T12:11:00.466Z"
   },
   {
    "duration": 58,
    "start_time": "2021-10-14T12:11:06.021Z"
   },
   {
    "duration": 62,
    "start_time": "2021-10-14T12:12:21.183Z"
   },
   {
    "duration": 67,
    "start_time": "2021-10-14T12:12:43.928Z"
   },
   {
    "duration": 66,
    "start_time": "2021-10-14T12:12:52.503Z"
   },
   {
    "duration": 58,
    "start_time": "2021-10-14T12:12:55.148Z"
   },
   {
    "duration": 66,
    "start_time": "2021-10-14T12:13:31.350Z"
   },
   {
    "duration": 57,
    "start_time": "2021-10-14T12:13:34.021Z"
   },
   {
    "duration": 65,
    "start_time": "2021-10-14T12:14:16.969Z"
   },
   {
    "duration": 58,
    "start_time": "2021-10-14T12:14:19.483Z"
   },
   {
    "duration": 69,
    "start_time": "2021-10-14T12:21:22.444Z"
   },
   {
    "duration": 72,
    "start_time": "2021-10-14T12:22:16.440Z"
   },
   {
    "duration": 76,
    "start_time": "2021-10-14T12:23:18.208Z"
   },
   {
    "duration": 73,
    "start_time": "2021-10-14T12:24:04.293Z"
   },
   {
    "duration": 72,
    "start_time": "2021-10-14T12:24:36.162Z"
   },
   {
    "duration": 67,
    "start_time": "2021-10-14T12:24:46.161Z"
   },
   {
    "duration": 74,
    "start_time": "2021-10-14T12:24:48.748Z"
   },
   {
    "duration": 70,
    "start_time": "2021-10-14T12:25:06.267Z"
   },
   {
    "duration": 66,
    "start_time": "2021-10-14T12:25:11.339Z"
   },
   {
    "duration": 71,
    "start_time": "2021-10-14T12:25:13.536Z"
   },
   {
    "duration": 67,
    "start_time": "2021-10-14T12:26:47.324Z"
   },
   {
    "duration": 413,
    "start_time": "2021-10-14T12:26:49.757Z"
   },
   {
    "duration": 60,
    "start_time": "2021-10-14T12:28:08.530Z"
   },
   {
    "duration": 73,
    "start_time": "2021-10-14T12:28:10.476Z"
   },
   {
    "duration": 65,
    "start_time": "2021-10-14T12:29:31.984Z"
   },
   {
    "duration": 410,
    "start_time": "2021-10-14T12:29:34.152Z"
   },
   {
    "duration": 284,
    "start_time": "2021-10-14T12:30:04.556Z"
   },
   {
    "duration": 72,
    "start_time": "2021-10-14T12:30:11.180Z"
   },
   {
    "duration": 488,
    "start_time": "2021-10-14T12:32:35.748Z"
   },
   {
    "duration": 67,
    "start_time": "2021-10-14T12:32:53.385Z"
   },
   {
    "duration": 431,
    "start_time": "2021-10-14T12:33:10.836Z"
   },
   {
    "duration": 935,
    "start_time": "2021-10-14T12:33:17.175Z"
   },
   {
    "duration": 380,
    "start_time": "2021-10-14T12:33:25.475Z"
   },
   {
    "duration": 64,
    "start_time": "2021-10-14T12:34:24.804Z"
   },
   {
    "duration": 70,
    "start_time": "2021-10-14T12:34:29.450Z"
   },
   {
    "duration": 185,
    "start_time": "2021-10-14T13:05:31.664Z"
   },
   {
    "duration": 78,
    "start_time": "2021-10-14T13:05:41.049Z"
   },
   {
    "duration": 82,
    "start_time": "2021-10-14T13:06:12.486Z"
   },
   {
    "duration": 64,
    "start_time": "2021-10-14T13:08:11.224Z"
   },
   {
    "duration": 574,
    "start_time": "2021-10-14T13:08:15.241Z"
   },
   {
    "duration": 65,
    "start_time": "2021-10-14T13:08:39.058Z"
   },
   {
    "duration": 58,
    "start_time": "2021-10-14T13:08:41.996Z"
   },
   {
    "duration": 55,
    "start_time": "2021-10-14T13:09:14.671Z"
   },
   {
    "duration": 60,
    "start_time": "2021-10-14T13:09:27.109Z"
   },
   {
    "duration": 64,
    "start_time": "2021-10-14T13:09:30.509Z"
   },
   {
    "duration": 57,
    "start_time": "2021-10-14T13:09:35.075Z"
   },
   {
    "duration": 78,
    "start_time": "2021-10-14T13:13:42.748Z"
   },
   {
    "duration": 47,
    "start_time": "2021-10-14T13:13:46.673Z"
   },
   {
    "duration": 65,
    "start_time": "2021-10-14T13:17:39.819Z"
   },
   {
    "duration": 8395,
    "start_time": "2021-10-14T13:17:46.622Z"
   },
   {
    "duration": 61,
    "start_time": "2021-10-14T13:17:58.735Z"
   },
   {
    "duration": 8522,
    "start_time": "2021-10-14T13:18:02.540Z"
   },
   {
    "duration": 412,
    "start_time": "2021-10-14T13:18:45.642Z"
   },
   {
    "duration": 67,
    "start_time": "2021-10-14T13:21:29.380Z"
   },
   {
    "duration": 1019,
    "start_time": "2021-10-14T13:21:32.081Z"
   },
   {
    "duration": 65,
    "start_time": "2021-10-14T13:21:55.194Z"
   },
   {
    "duration": 418,
    "start_time": "2021-10-14T13:21:58.707Z"
   },
   {
    "duration": 62,
    "start_time": "2021-10-14T13:25:29.238Z"
   },
   {
    "duration": 444,
    "start_time": "2021-10-14T13:25:29.302Z"
   },
   {
    "duration": 64,
    "start_time": "2021-10-14T13:26:38.640Z"
   },
   {
    "duration": 410,
    "start_time": "2021-10-14T13:26:40.981Z"
   },
   {
    "duration": 65,
    "start_time": "2021-10-14T13:27:02.823Z"
   },
   {
    "duration": 387,
    "start_time": "2021-10-14T13:27:05.518Z"
   },
   {
    "duration": 64,
    "start_time": "2021-10-14T13:27:20.866Z"
   },
   {
    "duration": 730,
    "start_time": "2021-10-14T13:27:23.496Z"
   },
   {
    "duration": 63,
    "start_time": "2021-10-14T13:28:29.683Z"
   },
   {
    "duration": 420,
    "start_time": "2021-10-14T13:28:32.885Z"
   },
   {
    "duration": 61,
    "start_time": "2021-10-14T13:32:03.937Z"
   },
   {
    "duration": 67,
    "start_time": "2021-10-14T13:32:07.688Z"
   },
   {
    "duration": 120,
    "start_time": "2021-10-14T13:32:45.990Z"
   },
   {
    "duration": 65,
    "start_time": "2021-10-14T13:32:53.382Z"
   },
   {
    "duration": 665,
    "start_time": "2021-10-14T21:07:40.208Z"
   },
   {
    "duration": 56,
    "start_time": "2021-10-14T21:07:42.591Z"
   },
   {
    "duration": 71,
    "start_time": "2021-10-14T21:11:40.587Z"
   },
   {
    "duration": 331,
    "start_time": "2021-10-14T21:11:42.911Z"
   },
   {
    "duration": 69,
    "start_time": "2021-10-14T21:12:12.184Z"
   },
   {
    "duration": 276,
    "start_time": "2021-10-14T21:12:14.660Z"
   },
   {
    "duration": 2,
    "start_time": "2021-10-14T21:12:18.215Z"
   },
   {
    "duration": 70,
    "start_time": "2021-10-14T21:12:59.289Z"
   },
   {
    "duration": 261,
    "start_time": "2021-10-14T21:13:01.406Z"
   },
   {
    "duration": 71,
    "start_time": "2021-10-14T21:16:26.006Z"
   },
   {
    "duration": 51,
    "start_time": "2021-10-14T21:16:27.761Z"
   },
   {
    "duration": 71,
    "start_time": "2021-10-14T21:16:37.396Z"
   },
   {
    "duration": 46,
    "start_time": "2021-10-14T21:16:39.191Z"
   },
   {
    "duration": 82,
    "start_time": "2021-10-14T21:21:46.066Z"
   },
   {
    "duration": 69,
    "start_time": "2021-10-14T21:22:02.906Z"
   },
   {
    "duration": 44,
    "start_time": "2021-10-14T21:22:18.892Z"
   },
   {
    "duration": 13,
    "start_time": "2021-10-14T21:22:22.244Z"
   },
   {
    "duration": 39,
    "start_time": "2021-10-14T21:22:50.754Z"
   },
   {
    "duration": 19,
    "start_time": "2021-10-14T21:22:53.276Z"
   },
   {
    "duration": 74,
    "start_time": "2021-10-14T21:23:52.916Z"
   },
   {
    "duration": 45,
    "start_time": "2021-10-14T21:23:55.155Z"
   },
   {
    "duration": 21,
    "start_time": "2021-10-14T21:23:57.866Z"
   },
   {
    "duration": 28,
    "start_time": "2021-10-14T21:24:24.823Z"
   },
   {
    "duration": 38,
    "start_time": "2021-10-14T21:28:51.773Z"
   },
   {
    "duration": 18,
    "start_time": "2021-10-14T21:28:53.916Z"
   },
   {
    "duration": 74,
    "start_time": "2021-10-14T21:48:42.020Z"
   },
   {
    "duration": 44,
    "start_time": "2021-10-14T21:48:43.982Z"
   },
   {
    "duration": 1606,
    "start_time": "2021-10-14T21:48:49.528Z"
   },
   {
    "duration": 72,
    "start_time": "2021-10-14T21:49:45.319Z"
   },
   {
    "duration": 44,
    "start_time": "2021-10-14T21:49:48.089Z"
   },
   {
    "duration": 3631,
    "start_time": "2021-10-14T21:50:43.290Z"
   },
   {
    "duration": 40,
    "start_time": "2021-10-14T21:50:52.579Z"
   },
   {
    "duration": 2413,
    "start_time": "2021-10-14T21:50:55.137Z"
   },
   {
    "duration": 68,
    "start_time": "2021-10-14T21:51:11.119Z"
   },
   {
    "duration": 42,
    "start_time": "2021-10-14T21:51:12.900Z"
   },
   {
    "duration": 258,
    "start_time": "2021-10-14T21:51:14.655Z"
   },
   {
    "duration": 28,
    "start_time": "2021-10-14T21:51:34.261Z"
   },
   {
    "duration": 73,
    "start_time": "2021-10-14T21:52:28.196Z"
   },
   {
    "duration": 48,
    "start_time": "2021-10-14T21:52:30.076Z"
   },
   {
    "duration": 1614,
    "start_time": "2021-10-14T21:52:32.851Z"
   },
   {
    "duration": 68,
    "start_time": "2021-10-14T21:54:05.944Z"
   },
   {
    "duration": 43,
    "start_time": "2021-10-14T21:54:08.835Z"
   },
   {
    "duration": 31,
    "start_time": "2021-10-14T21:54:11.367Z"
   },
   {
    "duration": 18,
    "start_time": "2021-10-14T21:54:34.014Z"
   },
   {
    "duration": 75,
    "start_time": "2021-10-14T22:49:31.153Z"
   },
   {
    "duration": 46,
    "start_time": "2021-10-14T22:49:31.230Z"
   },
   {
    "duration": 19,
    "start_time": "2021-10-14T22:49:31.278Z"
   },
   {
    "duration": 21,
    "start_time": "2021-10-14T23:04:10.197Z"
   },
   {
    "duration": 2928,
    "start_time": "2021-10-14T23:09:03.631Z"
   },
   {
    "duration": 2216,
    "start_time": "2021-10-14T23:10:02.860Z"
   },
   {
    "duration": 1884,
    "start_time": "2021-10-14T23:10:35.243Z"
   },
   {
    "duration": 2944,
    "start_time": "2021-10-14T23:11:28.376Z"
   },
   {
    "duration": 1996,
    "start_time": "2021-10-14T23:11:42.674Z"
   },
   {
    "duration": 1744,
    "start_time": "2021-10-14T23:12:22.282Z"
   },
   {
    "duration": 95,
    "start_time": "2021-10-14T23:13:07.489Z"
   },
   {
    "duration": 2246,
    "start_time": "2021-10-14T23:13:22.812Z"
   },
   {
    "duration": 1983,
    "start_time": "2021-10-14T23:13:43.984Z"
   },
   {
    "duration": 1706,
    "start_time": "2021-10-14T23:15:21.053Z"
   },
   {
    "duration": 1722,
    "start_time": "2021-10-14T23:16:32.847Z"
   },
   {
    "duration": 79,
    "start_time": "2021-10-14T23:20:20.260Z"
   },
   {
    "duration": 98,
    "start_time": "2021-10-14T23:28:06.946Z"
   },
   {
    "duration": 491,
    "start_time": "2021-10-14T23:28:23.103Z"
   },
   {
    "duration": 2045,
    "start_time": "2021-10-14T23:28:34.174Z"
   },
   {
    "duration": 2054,
    "start_time": "2021-10-14T23:28:53.197Z"
   },
   {
    "duration": 1827,
    "start_time": "2021-10-14T23:29:21.447Z"
   },
   {
    "duration": 1928,
    "start_time": "2021-10-14T23:29:51.961Z"
   },
   {
    "duration": 1862,
    "start_time": "2021-10-14T23:33:22.456Z"
   },
   {
    "duration": 2067,
    "start_time": "2021-10-14T23:34:08.996Z"
   },
   {
    "duration": 1719,
    "start_time": "2021-10-14T23:34:55.519Z"
   },
   {
    "duration": 1994,
    "start_time": "2021-10-14T23:35:45.521Z"
   },
   {
    "duration": 81,
    "start_time": "2021-10-14T23:37:22.613Z"
   },
   {
    "duration": 1831,
    "start_time": "2021-10-14T23:37:27.437Z"
   },
   {
    "duration": 1737,
    "start_time": "2021-10-14T23:41:31.453Z"
   },
   {
    "duration": 1710,
    "start_time": "2021-10-14T23:41:52.189Z"
   },
   {
    "duration": 1695,
    "start_time": "2021-10-14T23:42:24.938Z"
   },
   {
    "duration": 1798,
    "start_time": "2021-10-14T23:42:48.039Z"
   },
   {
    "duration": 1751,
    "start_time": "2021-10-14T23:45:09.396Z"
   },
   {
    "duration": 4367,
    "start_time": "2021-10-14T23:47:27.328Z"
   },
   {
    "duration": 4119,
    "start_time": "2021-10-14T23:47:41.089Z"
   },
   {
    "duration": 3923,
    "start_time": "2021-10-14T23:48:48.670Z"
   },
   {
    "duration": 4388,
    "start_time": "2021-10-14T23:52:34.513Z"
   },
   {
    "duration": 4105,
    "start_time": "2021-10-14T23:53:28.171Z"
   },
   {
    "duration": 1706,
    "start_time": "2021-10-14T23:57:49.331Z"
   },
   {
    "duration": 1996,
    "start_time": "2021-10-14T23:58:07.727Z"
   },
   {
    "duration": 1712,
    "start_time": "2021-10-14T23:58:36.442Z"
   },
   {
    "duration": 1747,
    "start_time": "2021-10-15T00:00:10.785Z"
   },
   {
    "duration": 77,
    "start_time": "2021-10-15T00:01:37.129Z"
   },
   {
    "duration": 48,
    "start_time": "2021-10-15T00:01:39.355Z"
   },
   {
    "duration": 1789,
    "start_time": "2021-10-15T00:03:03.917Z"
   },
   {
    "duration": 2051,
    "start_time": "2021-10-15T00:05:11.460Z"
   },
   {
    "duration": 2011,
    "start_time": "2021-10-15T00:05:29.767Z"
   },
   {
    "duration": 1952,
    "start_time": "2021-10-15T00:05:39.327Z"
   },
   {
    "duration": 1976,
    "start_time": "2021-10-15T00:07:16.736Z"
   },
   {
    "duration": 1800,
    "start_time": "2021-10-15T00:07:40.623Z"
   },
   {
    "duration": 1734,
    "start_time": "2021-10-15T00:08:37.705Z"
   },
   {
    "duration": 89,
    "start_time": "2021-10-15T00:10:29.948Z"
   },
   {
    "duration": 1924,
    "start_time": "2021-10-15T00:10:33.077Z"
   },
   {
    "duration": 1700,
    "start_time": "2021-10-15T00:10:55.186Z"
   },
   {
    "duration": 74,
    "start_time": "2021-10-15T00:22:46.473Z"
   },
   {
    "duration": 48,
    "start_time": "2021-10-15T00:22:49.336Z"
   },
   {
    "duration": 38314,
    "start_time": "2021-10-15T00:23:37.679Z"
   },
   {
    "duration": 43303,
    "start_time": "2021-10-15T00:24:32.533Z"
   },
   {
    "duration": 40147,
    "start_time": "2021-10-15T00:25:38.769Z"
   },
   {
    "duration": 37718,
    "start_time": "2021-10-15T00:26:40.865Z"
   },
   {
    "duration": 88,
    "start_time": "2021-10-15T00:29:15.736Z"
   },
   {
    "duration": 2885,
    "start_time": "2021-10-15T00:29:23.790Z"
   },
   {
    "duration": 92,
    "start_time": "2021-10-15T00:30:17.815Z"
   },
   {
    "duration": 2640,
    "start_time": "2021-10-15T00:32:44.533Z"
   },
   {
    "duration": 1986,
    "start_time": "2021-10-15T00:33:10.894Z"
   },
   {
    "duration": 42417,
    "start_time": "2021-10-15T00:33:30.065Z"
   },
   {
    "duration": 2890,
    "start_time": "2021-10-15T00:34:16.757Z"
   },
   {
    "duration": 86,
    "start_time": "2021-10-15T00:34:32.901Z"
   },
   {
    "duration": 43288,
    "start_time": "2021-10-15T00:34:37.175Z"
   },
   {
    "duration": 38029,
    "start_time": "2021-10-15T00:35:38.687Z"
   },
   {
    "duration": 38784,
    "start_time": "2021-10-15T00:37:01.846Z"
   },
   {
    "duration": 37480,
    "start_time": "2021-10-15T00:38:45.663Z"
   },
   {
    "duration": 38364,
    "start_time": "2021-10-15T00:42:05.269Z"
   },
   {
    "duration": 42226,
    "start_time": "2021-10-15T00:43:15.686Z"
   },
   {
    "duration": 38507,
    "start_time": "2021-10-15T00:44:08.587Z"
   },
   {
    "duration": 39173,
    "start_time": "2021-10-15T00:46:41.737Z"
   },
   {
    "duration": 37823,
    "start_time": "2021-10-15T00:47:50.475Z"
   },
   {
    "duration": 37934,
    "start_time": "2021-10-15T00:48:58.018Z"
   },
   {
    "duration": 38292,
    "start_time": "2021-10-15T00:50:01.471Z"
   },
   {
    "duration": 38113,
    "start_time": "2021-10-15T00:51:53.507Z"
   },
   {
    "duration": 38045,
    "start_time": "2021-10-15T01:16:51.395Z"
   },
   {
    "duration": 2927,
    "start_time": "2021-10-15T01:18:33.326Z"
   },
   {
    "duration": 2885,
    "start_time": "2021-10-15T01:22:33.903Z"
   },
   {
    "duration": 42594,
    "start_time": "2021-10-15T01:23:24.258Z"
   },
   {
    "duration": 3871,
    "start_time": "2021-10-15T01:24:44.997Z"
   },
   {
    "duration": 4241,
    "start_time": "2021-10-15T01:25:32.306Z"
   },
   {
    "duration": 42196,
    "start_time": "2021-10-15T01:26:11.446Z"
   },
   {
    "duration": 38700,
    "start_time": "2021-10-15T01:28:48.907Z"
   },
   {
    "duration": 38016,
    "start_time": "2021-10-15T01:30:52.091Z"
   },
   {
    "duration": 37984,
    "start_time": "2021-10-15T01:32:13.482Z"
   },
   {
    "duration": 333,
    "start_time": "2021-10-15T01:34:03.451Z"
   },
   {
    "duration": 34697,
    "start_time": "2021-10-15T01:34:20.387Z"
   },
   {
    "duration": 73,
    "start_time": "2021-10-15T01:35:11.028Z"
   },
   {
    "duration": 47,
    "start_time": "2021-10-15T01:35:13.116Z"
   },
   {
    "duration": 35647,
    "start_time": "2021-10-15T01:35:14.075Z"
   },
   {
    "duration": 38452,
    "start_time": "2021-10-15T01:36:00.977Z"
   },
   {
    "duration": 43455,
    "start_time": "2021-10-15T01:38:00.055Z"
   },
   {
    "duration": 44430,
    "start_time": "2021-10-15T01:43:03.548Z"
   },
   {
    "duration": 46267,
    "start_time": "2021-10-15T01:48:58.482Z"
   },
   {
    "duration": 81,
    "start_time": "2021-10-15T01:58:27.017Z"
   },
   {
    "duration": 71,
    "start_time": "2021-10-15T01:58:29.528Z"
   },
   {
    "duration": 117,
    "start_time": "2021-10-15T03:33:26.756Z"
   },
   {
    "duration": 88,
    "start_time": "2021-10-15T03:33:26.876Z"
   },
   {
    "duration": 254,
    "start_time": "2021-10-15T03:34:11.147Z"
   },
   {
    "duration": -580,
    "start_time": "2021-10-15T03:34:11.983Z"
   },
   {
    "duration": -586,
    "start_time": "2021-10-15T03:34:11.991Z"
   },
   {
    "duration": 79,
    "start_time": "2021-10-15T03:34:25.431Z"
   },
   {
    "duration": 59,
    "start_time": "2021-10-15T03:34:25.512Z"
   },
   {
    "duration": 43252,
    "start_time": "2021-10-15T03:34:25.574Z"
   },
   {
    "duration": -112,
    "start_time": "2021-10-15T03:35:09.200Z"
   },
   {
    "duration": 245,
    "start_time": "2021-10-15T03:35:36.258Z"
   },
   {
    "duration": 19,
    "start_time": "2021-10-15T03:38:04.878Z"
   },
   {
    "duration": 254,
    "start_time": "2021-10-15T03:39:09.117Z"
   },
   {
    "duration": 20,
    "start_time": "2021-10-15T03:39:39.033Z"
   },
   {
    "duration": 23,
    "start_time": "2021-10-15T03:40:18.597Z"
   },
   {
    "duration": 18,
    "start_time": "2021-10-15T03:40:31.141Z"
   },
   {
    "duration": 16,
    "start_time": "2021-10-15T03:45:47.439Z"
   },
   {
    "duration": 26,
    "start_time": "2021-10-15T03:46:15.134Z"
   },
   {
    "duration": 16,
    "start_time": "2021-10-15T03:47:26.031Z"
   },
   {
    "duration": 30,
    "start_time": "2021-10-15T03:55:47.454Z"
   },
   {
    "duration": 1166,
    "start_time": "2021-10-15T03:57:00.153Z"
   },
   {
    "duration": 64,
    "start_time": "2021-10-15T03:59:06.626Z"
   },
   {
    "duration": 2006,
    "start_time": "2021-10-15T04:03:42.595Z"
   },
   {
    "duration": 1301,
    "start_time": "2021-10-15T04:04:10.248Z"
   },
   {
    "duration": 91,
    "start_time": "2021-10-15T04:05:11.997Z"
   },
   {
    "duration": 2166,
    "start_time": "2021-10-15T04:05:37.997Z"
   },
   {
    "duration": 1145,
    "start_time": "2021-10-15T04:06:37.626Z"
   },
   {
    "duration": 99,
    "start_time": "2021-10-15T04:19:02.348Z"
   },
   {
    "duration": 82,
    "start_time": "2021-10-15T04:19:17.431Z"
   },
   {
    "duration": 966,
    "start_time": "2021-10-15T04:19:27.256Z"
   },
   {
    "duration": 1283,
    "start_time": "2021-10-15T04:20:14.294Z"
   },
   {
    "duration": 1227,
    "start_time": "2021-10-15T04:21:15.924Z"
   },
   {
    "duration": 90,
    "start_time": "2021-10-15T04:21:28.057Z"
   },
   {
    "duration": 51,
    "start_time": "2021-10-15T04:21:28.762Z"
   },
   {
    "duration": 82,
    "start_time": "2021-10-15T17:54:38.324Z"
   },
   {
    "duration": 333,
    "start_time": "2021-10-15T17:55:03.699Z"
   },
   {
    "duration": 80,
    "start_time": "2021-10-15T17:57:51.344Z"
   },
   {
    "duration": 113,
    "start_time": "2021-10-15T17:58:00.067Z"
   },
   {
    "duration": 267,
    "start_time": "2021-10-15T17:58:11.696Z"
   },
   {
    "duration": 86,
    "start_time": "2021-10-15T17:58:20.128Z"
   },
   {
    "duration": 1632,
    "start_time": "2021-10-15T17:59:05.299Z"
   },
   {
    "duration": 284,
    "start_time": "2021-10-15T17:59:22.829Z"
   },
   {
    "duration": 798,
    "start_time": "2021-10-15T17:59:29.551Z"
   },
   {
    "duration": 46,
    "start_time": "2021-10-15T17:59:30.351Z"
   },
   {
    "duration": 30916,
    "start_time": "2021-10-15T17:59:30.400Z"
   },
   {
    "duration": -948,
    "start_time": "2021-10-15T18:00:03.628Z"
   },
   {
    "duration": 1161,
    "start_time": "2021-10-15T18:00:57.189Z"
   },
   {
    "duration": 72,
    "start_time": "2021-10-15T18:02:53.592Z"
   },
   {
    "duration": 46,
    "start_time": "2021-10-15T18:02:56.448Z"
   },
   {
    "duration": 32185,
    "start_time": "2021-10-15T18:02:59.847Z"
   },
   {
    "duration": 1181,
    "start_time": "2021-10-15T18:03:32.034Z"
   },
   {
    "duration": 1353,
    "start_time": "2021-10-15T18:09:39.664Z"
   },
   {
    "duration": 494,
    "start_time": "2021-10-15T18:10:13.964Z"
   },
   {
    "duration": 450,
    "start_time": "2021-10-15T18:14:55.683Z"
   },
   {
    "duration": 475,
    "start_time": "2021-10-15T18:15:07.930Z"
   },
   {
    "duration": 504,
    "start_time": "2021-10-15T18:15:14.290Z"
   },
   {
    "duration": 191,
    "start_time": "2021-10-15T18:24:00.658Z"
   },
   {
    "duration": 191,
    "start_time": "2021-10-15T18:25:54.484Z"
   },
   {
    "duration": 26,
    "start_time": "2021-10-15T18:26:38.347Z"
   },
   {
    "duration": 72,
    "start_time": "2021-10-15T18:26:45.616Z"
   },
   {
    "duration": 44,
    "start_time": "2021-10-15T18:26:46.297Z"
   },
   {
    "duration": 34275,
    "start_time": "2021-10-15T18:26:46.488Z"
   },
   {
    "duration": 37,
    "start_time": "2021-10-15T18:27:20.765Z"
   },
   {
    "duration": 1846,
    "start_time": "2021-10-15T18:28:19.645Z"
   },
   {
    "duration": 3472,
    "start_time": "2021-10-15T18:28:32.121Z"
   },
   {
    "duration": 993,
    "start_time": "2021-10-15T18:30:34.026Z"
   },
   {
    "duration": 196,
    "start_time": "2021-10-15T18:30:46.454Z"
   },
   {
    "duration": 323,
    "start_time": "2021-10-15T18:34:05.357Z"
   },
   {
    "duration": 82,
    "start_time": "2021-10-15T18:37:11.405Z"
   },
   {
    "duration": 191,
    "start_time": "2021-10-15T18:37:19.775Z"
   },
   {
    "duration": 3441,
    "start_time": "2021-10-15T18:38:24.431Z"
   },
   {
    "duration": 613,
    "start_time": "2021-10-15T18:47:41.510Z"
   },
   {
    "duration": 564,
    "start_time": "2021-10-15T18:53:09.975Z"
   },
   {
    "duration": 571,
    "start_time": "2021-10-15T18:53:21.182Z"
   },
   {
    "duration": 559,
    "start_time": "2021-10-15T18:57:48.199Z"
   },
   {
    "duration": 605,
    "start_time": "2021-10-15T18:58:06.788Z"
   },
   {
    "duration": 71,
    "start_time": "2021-10-15T19:18:37.709Z"
   },
   {
    "duration": 44,
    "start_time": "2021-10-15T19:18:39.720Z"
   },
   {
    "duration": 33364,
    "start_time": "2021-10-15T19:18:39.766Z"
   },
   {
    "duration": 650,
    "start_time": "2021-10-15T19:19:13.133Z"
   },
   {
    "duration": 680,
    "start_time": "2021-10-15T19:21:01.285Z"
   },
   {
    "duration": 671,
    "start_time": "2021-10-15T19:21:22.876Z"
   },
   {
    "duration": 655,
    "start_time": "2021-10-15T19:22:17.580Z"
   },
   {
    "duration": 605,
    "start_time": "2021-10-15T19:22:43.560Z"
   },
   {
    "duration": 540,
    "start_time": "2021-10-15T20:24:43.777Z"
   },
   {
    "duration": 47,
    "start_time": "2021-10-15T20:37:18.249Z"
   },
   {
    "duration": 81,
    "start_time": "2021-10-15T20:37:37.224Z"
   },
   {
    "duration": 47,
    "start_time": "2021-10-15T20:37:37.485Z"
   },
   {
    "duration": 36406,
    "start_time": "2021-10-15T20:37:37.792Z"
   },
   {
    "duration": 627,
    "start_time": "2021-10-15T20:38:14.200Z"
   },
   {
    "duration": 25,
    "start_time": "2021-10-15T20:38:14.867Z"
   },
   {
    "duration": 21,
    "start_time": "2021-10-15T20:38:23.484Z"
   },
   {
    "duration": 11,
    "start_time": "2021-10-15T22:47:42.322Z"
   },
   {
    "duration": 353,
    "start_time": "2021-10-15T22:57:11.865Z"
   },
   {
    "duration": 240,
    "start_time": "2021-10-15T22:57:20.374Z"
   },
   {
    "duration": 258,
    "start_time": "2021-10-15T22:57:56.422Z"
   },
   {
    "duration": 74,
    "start_time": "2021-10-15T22:58:13.261Z"
   },
   {
    "duration": 59,
    "start_time": "2021-10-15T22:58:17.877Z"
   },
   {
    "duration": 36062,
    "start_time": "2021-10-15T22:58:21.163Z"
   },
   {
    "duration": 665,
    "start_time": "2021-10-15T22:58:57.227Z"
   },
   {
    "duration": 251,
    "start_time": "2021-10-15T22:58:57.894Z"
   },
   {
    "duration": 263,
    "start_time": "2021-10-15T22:59:56.505Z"
   },
   {
    "duration": 1120,
    "start_time": "2021-10-15T23:00:09.264Z"
   },
   {
    "duration": 995,
    "start_time": "2021-10-15T23:00:48.719Z"
   },
   {
    "duration": 848,
    "start_time": "2021-10-15T23:01:10.151Z"
   },
   {
    "duration": 826,
    "start_time": "2021-10-15T23:01:39.681Z"
   },
   {
    "duration": 1177,
    "start_time": "2021-10-15T23:01:49.617Z"
   },
   {
    "duration": 336,
    "start_time": "2021-10-15T23:02:05.779Z"
   },
   {
    "duration": 1048,
    "start_time": "2021-10-15T23:02:13.722Z"
   },
   {
    "duration": 389,
    "start_time": "2021-10-15T23:02:36.553Z"
   },
   {
    "duration": 1886,
    "start_time": "2021-10-15T23:02:43.889Z"
   },
   {
    "duration": 255,
    "start_time": "2021-10-15T23:02:51.653Z"
   },
   {
    "duration": 377,
    "start_time": "2021-10-15T23:02:58.686Z"
   },
   {
    "duration": 244,
    "start_time": "2021-10-15T23:04:24.335Z"
   },
   {
    "duration": 262,
    "start_time": "2021-10-15T23:04:34.468Z"
   },
   {
    "duration": 632,
    "start_time": "2021-10-15T23:04:47.010Z"
   },
   {
    "duration": 610,
    "start_time": "2021-10-15T23:04:56.737Z"
   },
   {
    "duration": 82,
    "start_time": "2021-10-15T23:07:16.391Z"
   },
   {
    "duration": 129,
    "start_time": "2021-10-15T23:07:38.433Z"
   },
   {
    "duration": 81,
    "start_time": "2021-10-15T23:07:44.573Z"
   },
   {
    "duration": 636,
    "start_time": "2021-10-15T23:07:57.861Z"
   },
   {
    "duration": 386,
    "start_time": "2021-10-15T23:08:21.852Z"
   },
   {
    "duration": 404,
    "start_time": "2021-10-15T23:08:56.842Z"
   },
   {
    "duration": 403,
    "start_time": "2021-10-15T23:09:05.323Z"
   },
   {
    "duration": 390,
    "start_time": "2021-10-15T23:09:27.707Z"
   },
   {
    "duration": 475,
    "start_time": "2021-10-15T23:09:40.502Z"
   },
   {
    "duration": 400,
    "start_time": "2021-10-15T23:10:30.718Z"
   },
   {
    "duration": 397,
    "start_time": "2021-10-15T23:10:40.901Z"
   },
   {
    "duration": 497,
    "start_time": "2021-10-15T23:11:00.509Z"
   },
   {
    "duration": 394,
    "start_time": "2021-10-15T23:11:10.174Z"
   },
   {
    "duration": 617,
    "start_time": "2021-10-15T23:12:00.492Z"
   },
   {
    "duration": 443,
    "start_time": "2021-10-15T23:12:08.983Z"
   },
   {
    "duration": 504,
    "start_time": "2021-10-16T00:52:42.396Z"
   },
   {
    "duration": 415,
    "start_time": "2021-10-16T00:53:50.015Z"
   },
   {
    "duration": 410,
    "start_time": "2021-10-16T00:54:10.947Z"
   },
   {
    "duration": 410,
    "start_time": "2021-10-16T00:54:22.957Z"
   },
   {
    "duration": 855,
    "start_time": "2021-10-16T00:54:42.778Z"
   },
   {
    "duration": 437,
    "start_time": "2021-10-16T00:55:16.628Z"
   },
   {
    "duration": 419,
    "start_time": "2021-10-16T00:57:20.416Z"
   },
   {
    "duration": 1020,
    "start_time": "2021-10-16T00:58:11.721Z"
   },
   {
    "duration": 398,
    "start_time": "2021-10-16T00:58:40.217Z"
   },
   {
    "duration": 491,
    "start_time": "2021-10-16T00:58:57.999Z"
   },
   {
    "duration": 394,
    "start_time": "2021-10-16T00:59:07.342Z"
   },
   {
    "duration": 243,
    "start_time": "2021-10-16T00:59:17.696Z"
   },
   {
    "duration": 255,
    "start_time": "2021-10-16T00:59:37.345Z"
   },
   {
    "duration": 252,
    "start_time": "2021-10-16T00:59:51.034Z"
   },
   {
    "duration": 387,
    "start_time": "2021-10-16T00:59:57.063Z"
   },
   {
    "duration": 1847,
    "start_time": "2021-10-16T01:00:11.193Z"
   },
   {
    "duration": 1954,
    "start_time": "2021-10-16T01:01:49.467Z"
   },
   {
    "duration": 396,
    "start_time": "2021-10-16T01:02:13.127Z"
   },
   {
    "duration": 86,
    "start_time": "2021-10-16T01:02:24.854Z"
   },
   {
    "duration": 47,
    "start_time": "2021-10-16T01:02:25.736Z"
   },
   {
    "duration": 32626,
    "start_time": "2021-10-16T01:02:25.880Z"
   },
   {
    "duration": 592,
    "start_time": "2021-10-16T01:02:58.509Z"
   },
   {
    "duration": 32,
    "start_time": "2021-10-16T01:02:59.103Z"
   },
   {
    "duration": 541,
    "start_time": "2021-10-16T01:02:59.137Z"
   },
   {
    "duration": 415,
    "start_time": "2021-10-16T01:07:55.564Z"
   },
   {
    "duration": 413,
    "start_time": "2021-10-16T01:08:54.078Z"
   },
   {
    "duration": 275,
    "start_time": "2021-10-16T01:09:20.097Z"
   },
   {
    "duration": 389,
    "start_time": "2021-10-16T01:09:52.861Z"
   },
   {
    "duration": 258,
    "start_time": "2021-10-16T01:10:09.906Z"
   },
   {
    "duration": 395,
    "start_time": "2021-10-16T01:10:35.768Z"
   },
   {
    "duration": 79,
    "start_time": "2021-10-16T01:10:59.923Z"
   },
   {
    "duration": 47,
    "start_time": "2021-10-16T01:11:03.857Z"
   },
   {
    "duration": 35828,
    "start_time": "2021-10-16T01:11:07.140Z"
   },
   {
    "duration": 21,
    "start_time": "2021-10-16T01:12:01.469Z"
   },
   {
    "duration": 34,
    "start_time": "2021-10-16T01:12:03.672Z"
   },
   {
    "duration": 39652,
    "start_time": "2021-10-16T01:12:07.534Z"
   },
   {
    "duration": 16,
    "start_time": "2021-10-16T01:12:47.188Z"
   },
   {
    "duration": 74,
    "start_time": "2021-10-16T01:12:50.836Z"
   },
   {
    "duration": 15,
    "start_time": "2021-10-16T01:12:52.379Z"
   },
   {
    "duration": 39,
    "start_time": "2021-10-16T01:12:53.301Z"
   },
   {
    "duration": 23,
    "start_time": "2021-10-16T01:12:54.320Z"
   },
   {
    "duration": 37909,
    "start_time": "2021-10-16T01:12:55.259Z"
   },
   {
    "duration": 603,
    "start_time": "2021-10-16T01:13:33.170Z"
   },
   {
    "duration": 74,
    "start_time": "2021-10-16T01:13:49.477Z"
   },
   {
    "duration": 16,
    "start_time": "2021-10-16T01:13:53.254Z"
   },
   {
    "duration": 35,
    "start_time": "2021-10-16T01:13:58.222Z"
   },
   {
    "duration": 32,
    "start_time": "2021-10-16T01:14:04.110Z"
   },
   {
    "duration": 39746,
    "start_time": "2021-10-16T01:14:09.625Z"
   },
   {
    "duration": 37798,
    "start_time": "2021-10-16T01:15:01.805Z"
   },
   {
    "duration": 584,
    "start_time": "2021-10-16T01:15:45.222Z"
   },
   {
    "duration": 406,
    "start_time": "2021-10-16T01:15:53.745Z"
   },
   {
    "duration": 380,
    "start_time": "2021-10-16T01:16:55.104Z"
   },
   {
    "duration": 32,
    "start_time": "2021-10-16T01:17:48.263Z"
   },
   {
    "duration": 36,
    "start_time": "2021-10-16T01:18:32.918Z"
   },
   {
    "duration": 226,
    "start_time": "2021-10-16T01:19:24.376Z"
   },
   {
    "duration": 86,
    "start_time": "2021-10-16T01:19:33.473Z"
   },
   {
    "duration": 263,
    "start_time": "2021-10-16T01:19:43.450Z"
   },
   {
    "duration": 285,
    "start_time": "2021-10-16T01:19:49.430Z"
   },
   {
    "duration": 960,
    "start_time": "2021-10-16T01:19:56.935Z"
   },
   {
    "duration": 16,
    "start_time": "2021-10-16T01:20:39.279Z"
   },
   {
    "duration": 4,
    "start_time": "2021-10-16T01:20:45.388Z"
   },
   {
    "duration": 4,
    "start_time": "2021-10-16T01:20:55.900Z"
   },
   {
    "duration": 848,
    "start_time": "2021-10-16T01:26:23.055Z"
   },
   {
    "duration": 5382,
    "start_time": "2021-10-16T01:26:54.492Z"
   },
   {
    "duration": 800,
    "start_time": "2021-10-16T01:27:26.236Z"
   },
   {
    "duration": 5692,
    "start_time": "2021-10-16T01:27:39.036Z"
   },
   {
    "duration": 1167,
    "start_time": "2021-10-16T01:27:56.472Z"
   },
   {
    "duration": 5709,
    "start_time": "2021-10-16T01:28:22.909Z"
   },
   {
    "duration": 370,
    "start_time": "2021-10-16T01:28:40.032Z"
   },
   {
    "duration": 164,
    "start_time": "2021-10-16T01:29:01.945Z"
   },
   {
    "duration": 810,
    "start_time": "2021-10-16T01:29:11.707Z"
   },
   {
    "duration": 1246,
    "start_time": "2021-10-16T01:29:26.804Z"
   },
   {
    "duration": 170,
    "start_time": "2021-10-16T01:29:52.463Z"
   },
   {
    "duration": 257,
    "start_time": "2021-10-16T01:30:21.108Z"
   },
   {
    "duration": 5611,
    "start_time": "2021-10-16T01:30:57.141Z"
   },
   {
    "duration": 5853,
    "start_time": "2021-10-16T01:31:03.235Z"
   },
   {
    "duration": 395,
    "start_time": "2021-10-16T01:31:24.542Z"
   },
   {
    "duration": 5401,
    "start_time": "2021-10-16T01:31:37.703Z"
   },
   {
    "duration": 1057,
    "start_time": "2021-10-16T01:43:45.056Z"
   },
   {
    "duration": 1040,
    "start_time": "2021-10-16T01:45:01.883Z"
   },
   {
    "duration": 474,
    "start_time": "2021-10-16T01:46:16.611Z"
   },
   {
    "duration": 458,
    "start_time": "2021-10-16T01:46:36.594Z"
   },
   {
    "duration": 443,
    "start_time": "2021-10-16T01:46:45.470Z"
   },
   {
    "duration": 457,
    "start_time": "2021-10-16T01:46:58.415Z"
   },
   {
    "duration": 5803,
    "start_time": "2021-10-16T01:47:21.294Z"
   },
   {
    "duration": 5892,
    "start_time": "2021-10-16T01:48:06.346Z"
   },
   {
    "duration": 5591,
    "start_time": "2021-10-16T01:48:54.874Z"
   },
   {
    "duration": 5838,
    "start_time": "2021-10-16T01:49:11.614Z"
   },
   {
    "duration": 4686,
    "start_time": "2021-10-16T01:49:24.881Z"
   },
   {
    "duration": 86,
    "start_time": "2021-10-16T01:50:35.372Z"
   },
   {
    "duration": 80,
    "start_time": "2021-10-16T01:52:03.436Z"
   },
   {
    "duration": 15,
    "start_time": "2021-10-16T01:52:07.575Z"
   },
   {
    "duration": 33,
    "start_time": "2021-10-16T01:52:10.403Z"
   },
   {
    "duration": 33,
    "start_time": "2021-10-16T01:52:21.536Z"
   },
   {
    "duration": 36071,
    "start_time": "2021-10-16T01:52:22.473Z"
   },
   {
    "duration": 584,
    "start_time": "2021-10-16T01:52:58.547Z"
   },
   {
    "duration": 4769,
    "start_time": "2021-10-16T01:52:59.133Z"
   },
   {
    "duration": 33,
    "start_time": "2021-10-16T01:53:34.993Z"
   },
   {
    "duration": 41623,
    "start_time": "2021-10-16T01:53:39.807Z"
   },
   {
    "duration": 596,
    "start_time": "2021-10-16T01:54:21.432Z"
   },
   {
    "duration": 4656,
    "start_time": "2021-10-16T01:54:22.030Z"
   },
   {
    "duration": 487,
    "start_time": "2021-10-16T01:55:02.653Z"
   },
   {
    "duration": 1520,
    "start_time": "2021-10-16T01:55:45.285Z"
   },
   {
    "duration": 401,
    "start_time": "2021-10-16T01:55:54.017Z"
   },
   {
    "duration": 395,
    "start_time": "2021-10-16T01:56:05.237Z"
   },
   {
    "duration": 396,
    "start_time": "2021-10-16T01:56:17.799Z"
   },
   {
    "duration": 240,
    "start_time": "2021-10-16T01:56:25.423Z"
   },
   {
    "duration": 374,
    "start_time": "2021-10-16T01:56:33.523Z"
   },
   {
    "duration": 655,
    "start_time": "2021-10-16T01:56:40.897Z"
   },
   {
    "duration": 366,
    "start_time": "2021-10-16T01:57:06.922Z"
   },
   {
    "duration": 392,
    "start_time": "2021-10-16T01:57:16.923Z"
   },
   {
    "duration": 260,
    "start_time": "2021-10-16T01:57:50.106Z"
   },
   {
    "duration": 251,
    "start_time": "2021-10-16T01:57:53.537Z"
   },
   {
    "duration": 85,
    "start_time": "2021-10-16T02:00:10.468Z"
   },
   {
    "duration": 17,
    "start_time": "2021-10-16T02:00:15.077Z"
   },
   {
    "duration": 36,
    "start_time": "2021-10-16T02:00:18.743Z"
   },
   {
    "duration": 32,
    "start_time": "2021-10-16T02:00:50.162Z"
   },
   {
    "duration": 38209,
    "start_time": "2021-10-16T02:00:54.860Z"
   },
   {
    "duration": 591,
    "start_time": "2021-10-16T02:01:37.195Z"
   },
   {
    "duration": 85,
    "start_time": "2021-10-16T02:03:02.561Z"
   },
   {
    "duration": 98,
    "start_time": "2021-10-16T02:03:48.787Z"
   },
   {
    "duration": 5,
    "start_time": "2021-10-16T02:03:54.995Z"
   },
   {
    "duration": 84,
    "start_time": "2021-10-16T02:04:53.677Z"
   },
   {
    "duration": 443,
    "start_time": "2021-10-16T02:04:59.887Z"
   },
   {
    "duration": 247,
    "start_time": "2021-10-16T02:05:11.482Z"
   },
   {
    "duration": 330,
    "start_time": "2021-10-16T02:05:18.188Z"
   },
   {
    "duration": 326,
    "start_time": "2021-10-16T02:06:13.384Z"
   },
   {
    "duration": 256,
    "start_time": "2021-10-16T02:06:22.607Z"
   },
   {
    "duration": 301,
    "start_time": "2021-10-16T02:06:32.090Z"
   },
   {
    "duration": 397,
    "start_time": "2021-10-16T02:06:55.528Z"
   },
   {
    "duration": 557,
    "start_time": "2021-10-16T02:09:17.846Z"
   },
   {
    "duration": 388,
    "start_time": "2021-10-16T02:09:27.434Z"
   },
   {
    "duration": 317,
    "start_time": "2021-10-16T02:09:35.374Z"
   },
   {
    "duration": 308,
    "start_time": "2021-10-16T02:09:51.410Z"
   },
   {
    "duration": 300,
    "start_time": "2021-10-16T02:11:08.613Z"
   },
   {
    "duration": 83,
    "start_time": "2021-10-16T02:27:12.756Z"
   },
   {
    "duration": 15,
    "start_time": "2021-10-16T02:27:17.149Z"
   },
   {
    "duration": 34,
    "start_time": "2021-10-16T02:27:17.830Z"
   },
   {
    "duration": 28,
    "start_time": "2021-10-16T02:27:18.868Z"
   },
   {
    "duration": 31753,
    "start_time": "2021-10-16T02:27:19.499Z"
   },
   {
    "duration": 596,
    "start_time": "2021-10-16T02:27:51.255Z"
   },
   {
    "duration": 407,
    "start_time": "2021-10-16T02:27:51.853Z"
   },
   {
    "duration": 1264,
    "start_time": "2021-10-16T02:27:52.263Z"
   },
   {
    "duration": 269,
    "start_time": "2021-10-16T02:27:53.529Z"
   },
   {
    "duration": 259,
    "start_time": "2021-10-16T02:27:53.800Z"
   },
   {
    "duration": 81,
    "start_time": "2021-10-16T02:34:56.357Z"
   },
   {
    "duration": 17,
    "start_time": "2021-10-16T02:35:00.914Z"
   },
   {
    "duration": 36,
    "start_time": "2021-10-16T02:35:03.065Z"
   },
   {
    "duration": 36,
    "start_time": "2021-10-16T02:35:03.730Z"
   },
   {
    "duration": 43687,
    "start_time": "2021-10-16T02:35:04.431Z"
   },
   {
    "duration": 584,
    "start_time": "2021-10-16T02:35:48.120Z"
   },
   {
    "duration": 410,
    "start_time": "2021-10-16T02:35:48.707Z"
   },
   {
    "duration": 327,
    "start_time": "2021-10-16T02:35:49.119Z"
   },
   {
    "duration": 272,
    "start_time": "2021-10-16T02:35:49.448Z"
   },
   {
    "duration": 257,
    "start_time": "2021-10-16T02:35:49.721Z"
   },
   {
    "duration": 8,
    "start_time": "2021-10-16T02:38:42.795Z"
   },
   {
    "duration": 78,
    "start_time": "2021-10-16T02:40:16.081Z"
   },
   {
    "duration": 435,
    "start_time": "2021-10-16T02:40:21.200Z"
   },
   {
    "duration": 359,
    "start_time": "2021-10-16T02:40:33.158Z"
   },
   {
    "duration": 182,
    "start_time": "2021-10-16T02:40:40.214Z"
   },
   {
    "duration": 330,
    "start_time": "2021-10-16T02:40:45.626Z"
   },
   {
    "duration": 309,
    "start_time": "2021-10-16T02:40:53.658Z"
   },
   {
    "duration": 301,
    "start_time": "2021-10-16T02:41:12.021Z"
   },
   {
    "duration": 302,
    "start_time": "2021-10-16T02:41:20.267Z"
   },
   {
    "duration": 449,
    "start_time": "2021-10-16T02:41:36.648Z"
   },
   {
    "duration": 278,
    "start_time": "2021-10-16T02:41:43.508Z"
   },
   {
    "duration": 277,
    "start_time": "2021-10-16T02:41:52.399Z"
   },
   {
    "duration": 424,
    "start_time": "2021-10-16T02:42:06.940Z"
   },
   {
    "duration": 313,
    "start_time": "2021-10-16T02:42:13.858Z"
   },
   {
    "duration": 296,
    "start_time": "2021-10-16T02:42:43.578Z"
   },
   {
    "duration": 277,
    "start_time": "2021-10-16T02:43:27.074Z"
   },
   {
    "duration": 286,
    "start_time": "2021-10-16T02:44:00.258Z"
   },
   {
    "duration": 8,
    "start_time": "2021-10-16T02:45:27.298Z"
   },
   {
    "duration": 8,
    "start_time": "2021-10-16T02:45:56.607Z"
   },
   {
    "duration": 9,
    "start_time": "2021-10-16T02:49:21.248Z"
   },
   {
    "duration": 10,
    "start_time": "2021-10-16T02:50:04.280Z"
   },
   {
    "duration": 245,
    "start_time": "2021-10-16T02:50:28.730Z"
   },
   {
    "duration": 267,
    "start_time": "2021-10-16T02:50:57.933Z"
   },
   {
    "duration": 408,
    "start_time": "2021-10-16T02:51:15.999Z"
   },
   {
    "duration": 324,
    "start_time": "2021-10-16T02:51:35.193Z"
   },
   {
    "duration": 297,
    "start_time": "2021-10-16T03:12:45.802Z"
   },
   {
    "duration": 296,
    "start_time": "2021-10-16T03:12:59.782Z"
   },
   {
    "duration": 314,
    "start_time": "2021-10-16T03:13:13.684Z"
   },
   {
    "duration": 389,
    "start_time": "2021-10-16T03:13:21.612Z"
   },
   {
    "duration": 434,
    "start_time": "2021-10-16T03:13:43.001Z"
   },
   {
    "duration": 381,
    "start_time": "2021-10-16T03:16:52.382Z"
   },
   {
    "duration": 384,
    "start_time": "2021-10-16T03:16:59.783Z"
   },
   {
    "duration": 612,
    "start_time": "2021-10-16T03:18:11.297Z"
   },
   {
    "duration": 463,
    "start_time": "2021-10-16T03:18:18.110Z"
   },
   {
    "duration": 383,
    "start_time": "2021-10-16T03:18:36.038Z"
   },
   {
    "duration": 399,
    "start_time": "2021-10-16T03:19:10.864Z"
   },
   {
    "duration": 413,
    "start_time": "2021-10-16T03:19:43.453Z"
   },
   {
    "duration": 401,
    "start_time": "2021-10-16T03:20:14.224Z"
   },
   {
    "duration": 390,
    "start_time": "2021-10-16T03:20:37.101Z"
   },
   {
    "duration": 527,
    "start_time": "2021-10-16T03:21:01.686Z"
   },
   {
    "duration": 310,
    "start_time": "2021-10-16T03:21:08.514Z"
   },
   {
    "duration": 380,
    "start_time": "2021-10-16T03:21:14.624Z"
   },
   {
    "duration": 406,
    "start_time": "2021-10-16T03:21:31.381Z"
   },
   {
    "duration": 1507,
    "start_time": "2021-10-16T03:21:56.658Z"
   },
   {
    "duration": 402,
    "start_time": "2021-10-16T03:22:33.771Z"
   },
   {
    "duration": 381,
    "start_time": "2021-10-16T03:22:42.464Z"
   },
   {
    "duration": 406,
    "start_time": "2021-10-16T03:24:54.028Z"
   },
   {
    "duration": 425,
    "start_time": "2021-10-16T03:25:15.931Z"
   },
   {
    "duration": 386,
    "start_time": "2021-10-16T03:25:56.779Z"
   },
   {
    "duration": 397,
    "start_time": "2021-10-16T03:26:10.298Z"
   },
   {
    "duration": 502,
    "start_time": "2021-10-16T03:26:17.532Z"
   },
   {
    "duration": 399,
    "start_time": "2021-10-16T03:29:09.453Z"
   },
   {
    "duration": 543,
    "start_time": "2021-10-16T03:29:33.538Z"
   },
   {
    "duration": 660,
    "start_time": "2021-10-16T03:29:44.403Z"
   },
   {
    "duration": 591,
    "start_time": "2021-10-16T03:29:59.328Z"
   },
   {
    "duration": 582,
    "start_time": "2021-10-16T03:30:07.137Z"
   },
   {
    "duration": 603,
    "start_time": "2021-10-16T03:33:19.701Z"
   },
   {
    "duration": 426,
    "start_time": "2021-10-16T04:16:02.249Z"
   },
   {
    "duration": 291,
    "start_time": "2021-10-16T04:16:11.059Z"
   },
   {
    "duration": 20,
    "start_time": "2021-10-16T04:20:31.523Z"
   },
   {
    "duration": 1694,
    "start_time": "2021-10-16T04:20:53.528Z"
   },
   {
    "duration": 190,
    "start_time": "2021-10-16T04:24:29.280Z"
   },
   {
    "duration": 5299,
    "start_time": "2021-10-16T04:24:34.298Z"
   },
   {
    "duration": 5420,
    "start_time": "2021-10-16T04:25:15.183Z"
   },
   {
    "duration": 5575,
    "start_time": "2021-10-16T04:26:26.139Z"
   },
   {
    "duration": 5491,
    "start_time": "2021-10-16T04:26:54.405Z"
   },
   {
    "duration": 5490,
    "start_time": "2021-10-16T04:27:07.607Z"
   },
   {
    "duration": 7544,
    "start_time": "2021-10-16T04:27:23.023Z"
   },
   {
    "duration": 5834,
    "start_time": "2021-10-16T04:29:37.744Z"
   },
   {
    "duration": 6531,
    "start_time": "2021-10-16T04:29:57.184Z"
   },
   {
    "duration": 5550,
    "start_time": "2021-10-16T04:32:22.594Z"
   },
   {
    "duration": 6300,
    "start_time": "2021-10-16T04:35:48.622Z"
   },
   {
    "duration": 5457,
    "start_time": "2021-10-16T04:36:15.461Z"
   },
   {
    "duration": 285,
    "start_time": "2021-10-16T04:38:23.322Z"
   },
   {
    "duration": 14,
    "start_time": "2021-10-16T05:08:36.834Z"
   },
   {
    "duration": 13,
    "start_time": "2021-10-16T05:09:20.878Z"
   },
   {
    "duration": 13,
    "start_time": "2021-10-16T05:09:44.535Z"
   },
   {
    "duration": 12,
    "start_time": "2021-10-16T05:10:16.958Z"
   },
   {
    "duration": 28,
    "start_time": "2021-10-16T05:11:04.925Z"
   },
   {
    "duration": 799,
    "start_time": "2021-10-16T05:16:29.907Z"
   },
   {
    "duration": 243,
    "start_time": "2021-10-16T05:24:57.911Z"
   },
   {
    "duration": 241,
    "start_time": "2021-10-16T05:26:43.177Z"
   },
   {
    "duration": 14,
    "start_time": "2021-10-16T05:27:22.355Z"
   },
   {
    "duration": 12,
    "start_time": "2021-10-16T05:27:33.602Z"
   },
   {
    "duration": 90,
    "start_time": "2021-10-16T05:29:11.070Z"
   },
   {
    "duration": 251,
    "start_time": "2021-10-16T05:29:20.239Z"
   },
   {
    "duration": 13,
    "start_time": "2021-10-16T05:29:28.443Z"
   },
   {
    "duration": 515,
    "start_time": "2021-10-16T05:43:28.151Z"
   },
   {
    "duration": 5564,
    "start_time": "2021-10-16T05:44:32.532Z"
   },
   {
    "duration": 658,
    "start_time": "2021-10-16T05:45:44.588Z"
   },
   {
    "duration": 557,
    "start_time": "2021-10-16T05:45:51.562Z"
   },
   {
    "duration": 5430,
    "start_time": "2021-10-16T05:46:49.278Z"
   },
   {
    "duration": 408,
    "start_time": "2021-10-16T10:42:15.094Z"
   },
   {
    "duration": 1024,
    "start_time": "2021-10-16T10:42:27.657Z"
   },
   {
    "duration": 22,
    "start_time": "2021-10-16T10:42:28.684Z"
   },
   {
    "duration": 76,
    "start_time": "2021-10-16T10:42:28.709Z"
   },
   {
    "duration": 74,
    "start_time": "2021-10-16T10:42:28.788Z"
   },
   {
    "duration": 45789,
    "start_time": "2021-10-16T10:42:28.866Z"
   },
   {
    "duration": 1121,
    "start_time": "2021-10-16T10:43:14.658Z"
   },
   {
    "duration": 24,
    "start_time": "2021-10-16T10:43:15.781Z"
   },
   {
    "duration": 862,
    "start_time": "2021-10-16T10:43:15.810Z"
   },
   {
    "duration": 661,
    "start_time": "2021-10-16T10:43:16.675Z"
   },
   {
    "duration": 527,
    "start_time": "2021-10-16T10:43:17.339Z"
   },
   {
    "duration": 464,
    "start_time": "2021-10-16T10:43:17.868Z"
   },
   {
    "duration": 663,
    "start_time": "2021-10-16T10:43:18.335Z"
   },
   {
    "duration": 1156,
    "start_time": "2021-10-16T10:43:19.001Z"
   },
   {
    "duration": 6,
    "start_time": "2021-10-16T10:43:20.171Z"
   },
   {
    "duration": 1447,
    "start_time": "2021-10-16T10:43:20.179Z"
   },
   {
    "duration": 4,
    "start_time": "2021-10-16T10:43:21.630Z"
   },
   {
    "duration": 33,
    "start_time": "2021-10-16T10:43:21.636Z"
   },
   {
    "duration": 325,
    "start_time": "2021-10-16T11:31:18.524Z"
   },
   {
    "duration": 15,
    "start_time": "2021-10-16T11:31:29.175Z"
   },
   {
    "duration": 9370,
    "start_time": "2021-10-16T11:31:51.544Z"
   },
   {
    "duration": 10148,
    "start_time": "2021-10-16T11:32:24.362Z"
   },
   {
    "duration": 10146,
    "start_time": "2021-10-16T11:54:31.306Z"
   },
   {
    "duration": 312,
    "start_time": "2021-10-16T11:55:04.533Z"
   },
   {
    "duration": 10175,
    "start_time": "2021-10-16T11:55:29.797Z"
   },
   {
    "duration": 43,
    "start_time": "2021-10-16T11:58:12.394Z"
   },
   {
    "duration": 9023,
    "start_time": "2021-10-16T12:02:30.163Z"
   },
   {
    "duration": 7757,
    "start_time": "2021-10-16T12:03:10.507Z"
   },
   {
    "duration": 7928,
    "start_time": "2021-10-16T12:04:47.856Z"
   },
   {
    "duration": 117,
    "start_time": "2021-10-16T12:05:05.345Z"
   },
   {
    "duration": 21,
    "start_time": "2021-10-16T12:05:10.287Z"
   },
   {
    "duration": 76,
    "start_time": "2021-10-16T12:05:11.188Z"
   },
   {
    "duration": 44,
    "start_time": "2021-10-16T12:05:12.324Z"
   },
   {
    "duration": 45414,
    "start_time": "2021-10-16T12:05:13.815Z"
   },
   {
    "duration": 998,
    "start_time": "2021-10-16T12:05:59.232Z"
   },
   {
    "duration": 715,
    "start_time": "2021-10-16T12:06:00.233Z"
   },
   {
    "duration": 542,
    "start_time": "2021-10-16T12:06:00.951Z"
   },
   {
    "duration": 469,
    "start_time": "2021-10-16T12:06:01.495Z"
   },
   {
    "duration": 440,
    "start_time": "2021-10-16T12:06:01.967Z"
   },
   {
    "duration": 697,
    "start_time": "2021-10-16T12:06:02.410Z"
   },
   {
    "duration": 1484,
    "start_time": "2021-10-16T12:06:03.110Z"
   },
   {
    "duration": 9242,
    "start_time": "2021-10-16T12:06:04.597Z"
   },
   {
    "duration": 7709,
    "start_time": "2021-10-16T12:06:13.842Z"
   },
   {
    "duration": 8228,
    "start_time": "2021-10-16T12:07:37.389Z"
   },
   {
    "duration": 7813,
    "start_time": "2021-10-16T12:08:09.420Z"
   },
   {
    "duration": 318,
    "start_time": "2021-10-16T12:11:06.948Z"
   },
   {
    "duration": 102,
    "start_time": "2021-10-16T12:13:27.766Z"
   },
   {
    "duration": 7576,
    "start_time": "2021-10-16T12:13:36.118Z"
   },
   {
    "duration": 47,
    "start_time": "2021-10-16T12:16:14.538Z"
   },
   {
    "duration": 48,
    "start_time": "2021-10-16T12:16:30.240Z"
   },
   {
    "duration": 920,
    "start_time": "2021-10-16T12:17:01.294Z"
   },
   {
    "duration": 46,
    "start_time": "2021-10-16T12:17:13.531Z"
   },
   {
    "duration": 10139,
    "start_time": "2021-10-16T12:20:08.196Z"
   },
   {
    "duration": 927,
    "start_time": "2021-10-16T12:44:51.781Z"
   },
   {
    "duration": 28,
    "start_time": "2021-10-16T12:45:37.746Z"
   },
   {
    "duration": 95,
    "start_time": "2021-10-16T12:47:26.057Z"
   },
   {
    "duration": 21,
    "start_time": "2021-10-16T12:47:27.305Z"
   },
   {
    "duration": 53,
    "start_time": "2021-10-16T12:47:27.722Z"
   },
   {
    "duration": 43,
    "start_time": "2021-10-16T12:47:28.017Z"
   },
   {
    "duration": 50061,
    "start_time": "2021-10-16T12:47:28.295Z"
   },
   {
    "duration": 1095,
    "start_time": "2021-10-16T12:48:18.361Z"
   },
   {
    "duration": 73,
    "start_time": "2021-10-16T12:48:19.463Z"
   },
   {
    "duration": 780,
    "start_time": "2021-10-16T12:48:19.539Z"
   },
   {
    "duration": 623,
    "start_time": "2021-10-16T12:48:20.322Z"
   },
   {
    "duration": 481,
    "start_time": "2021-10-16T12:48:20.949Z"
   },
   {
    "duration": 508,
    "start_time": "2021-10-16T12:48:21.432Z"
   },
   {
    "duration": 697,
    "start_time": "2021-10-16T12:48:21.944Z"
   },
   {
    "duration": 1343,
    "start_time": "2021-10-16T12:48:22.644Z"
   },
   {
    "duration": 9214,
    "start_time": "2021-10-16T12:48:23.989Z"
   },
   {
    "duration": 62,
    "start_time": "2021-10-16T12:48:33.205Z"
   },
   {
    "duration": 9953,
    "start_time": "2021-10-16T12:48:33.270Z"
   },
   {
    "duration": 43,
    "start_time": "2021-10-16T12:48:43.226Z"
   },
   {
    "duration": 27,
    "start_time": "2021-10-16T12:52:11.204Z"
   },
   {
    "duration": 345,
    "start_time": "2021-10-16T12:55:44.220Z"
   },
   {
    "duration": 18,
    "start_time": "2021-10-16T12:55:56.342Z"
   },
   {
    "duration": 20,
    "start_time": "2021-10-16T12:56:56.608Z"
   },
   {
    "duration": 21,
    "start_time": "2021-10-16T12:57:33.110Z"
   },
   {
    "duration": 29,
    "start_time": "2021-10-16T12:57:58.995Z"
   },
   {
    "duration": 23,
    "start_time": "2021-10-16T12:58:58.203Z"
   },
   {
    "duration": 21,
    "start_time": "2021-10-16T13:00:40.537Z"
   },
   {
    "duration": 25,
    "start_time": "2021-10-16T13:01:12.732Z"
   },
   {
    "duration": 314,
    "start_time": "2021-10-16T13:17:35.425Z"
   },
   {
    "duration": 332,
    "start_time": "2021-10-16T13:17:43.560Z"
   },
   {
    "duration": 461,
    "start_time": "2021-10-16T13:18:15.415Z"
   },
   {
    "duration": 24,
    "start_time": "2021-10-16T13:18:42.754Z"
   },
   {
    "duration": 14,
    "start_time": "2021-10-16T13:19:53.608Z"
   },
   {
    "duration": 37,
    "start_time": "2021-10-16T13:24:08.037Z"
   },
   {
    "duration": 38,
    "start_time": "2021-10-16T13:24:50.624Z"
   },
   {
    "duration": 36,
    "start_time": "2021-10-16T13:24:58.314Z"
   },
   {
    "duration": 37,
    "start_time": "2021-10-16T13:28:18.959Z"
   },
   {
    "duration": 37,
    "start_time": "2021-10-16T13:28:27.401Z"
   },
   {
    "duration": 34,
    "start_time": "2021-10-16T13:28:50.192Z"
   },
   {
    "duration": 26,
    "start_time": "2021-10-16T13:30:30.578Z"
   },
   {
    "duration": 36,
    "start_time": "2021-10-16T13:32:18.223Z"
   },
   {
    "duration": 1135,
    "start_time": "2021-10-16T13:33:10.573Z"
   },
   {
    "duration": 1336,
    "start_time": "2021-10-16T13:33:27.187Z"
   },
   {
    "duration": 1195,
    "start_time": "2021-10-16T13:33:55.741Z"
   },
   {
    "duration": 964,
    "start_time": "2021-10-16T13:34:07.150Z"
   },
   {
    "duration": 631,
    "start_time": "2021-10-16T13:35:20.270Z"
   },
   {
    "duration": 1200,
    "start_time": "2021-10-16T13:35:29.055Z"
   },
   {
    "duration": 1072,
    "start_time": "2021-10-16T13:35:42.660Z"
   },
   {
    "duration": 766,
    "start_time": "2021-10-16T13:37:04.775Z"
   },
   {
    "duration": 7862,
    "start_time": "2021-10-16T14:23:40.236Z"
   },
   {
    "duration": 495,
    "start_time": "2021-10-16T14:25:24.865Z"
   },
   {
    "duration": 46,
    "start_time": "2021-10-16T14:26:02.481Z"
   },
   {
    "duration": 35,
    "start_time": "2021-10-16T14:27:57.673Z"
   },
   {
    "duration": 33,
    "start_time": "2021-10-16T14:28:06.728Z"
   },
   {
    "duration": 7997,
    "start_time": "2021-10-16T14:28:29.085Z"
   },
   {
    "duration": 298,
    "start_time": "2021-10-16T14:29:09.348Z"
   },
   {
    "duration": 8015,
    "start_time": "2021-10-16T14:29:29.083Z"
   },
   {
    "duration": 495,
    "start_time": "2021-10-16T14:30:24.366Z"
   },
   {
    "duration": 103,
    "start_time": "2021-10-16T14:31:38.519Z"
   },
   {
    "duration": 687,
    "start_time": "2021-10-16T14:31:50.602Z"
   },
   {
    "duration": 34,
    "start_time": "2021-10-16T14:32:46.201Z"
   },
   {
    "duration": 100,
    "start_time": "2021-10-16T14:34:38.302Z"
   },
   {
    "duration": 295,
    "start_time": "2021-10-16T14:34:58.362Z"
   },
   {
    "duration": 35,
    "start_time": "2021-10-16T14:35:35.715Z"
   },
   {
    "duration": 33,
    "start_time": "2021-10-16T14:35:52.443Z"
   },
   {
    "duration": 701,
    "start_time": "2021-10-16T15:31:25.456Z"
   },
   {
    "duration": 465,
    "start_time": "2021-10-16T15:31:41.329Z"
   },
   {
    "duration": 267,
    "start_time": "2021-10-16T16:01:18.713Z"
   },
   {
    "duration": 28,
    "start_time": "2021-10-16T16:03:54.343Z"
   },
   {
    "duration": 105,
    "start_time": "2021-10-16T16:04:26.119Z"
   },
   {
    "duration": 48,
    "start_time": "2021-10-16T16:04:26.228Z"
   },
   {
    "duration": 82,
    "start_time": "2021-10-16T16:04:26.280Z"
   },
   {
    "duration": 47,
    "start_time": "2021-10-16T16:04:26.366Z"
   },
   {
    "duration": 47432,
    "start_time": "2021-10-16T16:04:26.416Z"
   },
   {
    "duration": 1141,
    "start_time": "2021-10-16T16:05:13.851Z"
   },
   {
    "duration": 37,
    "start_time": "2021-10-16T16:05:14.995Z"
   },
   {
    "duration": 742,
    "start_time": "2021-10-16T16:05:15.066Z"
   },
   {
    "duration": 565,
    "start_time": "2021-10-16T16:05:15.811Z"
   },
   {
    "duration": 467,
    "start_time": "2021-10-16T16:05:16.379Z"
   },
   {
    "duration": 450,
    "start_time": "2021-10-16T16:05:16.848Z"
   },
   {
    "duration": 668,
    "start_time": "2021-10-16T16:05:17.300Z"
   },
   {
    "duration": 1071,
    "start_time": "2021-10-16T16:05:17.971Z"
   },
   {
    "duration": 9338,
    "start_time": "2021-10-16T16:05:19.045Z"
   },
   {
    "duration": 43,
    "start_time": "2021-10-16T16:05:28.385Z"
   },
   {
    "duration": 9550,
    "start_time": "2021-10-16T16:05:28.462Z"
   },
   {
    "duration": 24,
    "start_time": "2021-10-16T16:05:38.015Z"
   },
   {
    "duration": 44,
    "start_time": "2021-10-16T16:05:38.041Z"
   },
   {
    "duration": 300,
    "start_time": "2021-10-16T16:06:32.218Z"
   },
   {
    "duration": 212,
    "start_time": "2021-10-16T16:11:22.813Z"
   },
   {
    "duration": 98,
    "start_time": "2021-10-16T16:52:37.612Z"
   },
   {
    "duration": 21,
    "start_time": "2021-10-16T16:52:37.713Z"
   },
   {
    "duration": 67,
    "start_time": "2021-10-16T16:52:37.737Z"
   },
   {
    "duration": 67,
    "start_time": "2021-10-16T16:52:37.807Z"
   },
   {
    "duration": 45171,
    "start_time": "2021-10-16T16:52:37.876Z"
   },
   {
    "duration": 1015,
    "start_time": "2021-10-16T16:53:23.050Z"
   },
   {
    "duration": 45,
    "start_time": "2021-10-16T16:53:24.068Z"
   },
   {
    "duration": 763,
    "start_time": "2021-10-16T16:53:24.117Z"
   },
   {
    "duration": 569,
    "start_time": "2021-10-16T16:53:24.883Z"
   },
   {
    "duration": 460,
    "start_time": "2021-10-16T16:53:25.462Z"
   },
   {
    "duration": 481,
    "start_time": "2021-10-16T16:53:25.924Z"
   },
   {
    "duration": 671,
    "start_time": "2021-10-16T16:53:26.408Z"
   },
   {
    "duration": 1100,
    "start_time": "2021-10-16T16:53:27.081Z"
   },
   {
    "duration": 9801,
    "start_time": "2021-10-16T16:53:28.183Z"
   },
   {
    "duration": 42,
    "start_time": "2021-10-16T16:53:37.987Z"
   },
   {
    "duration": 10217,
    "start_time": "2021-10-16T16:53:38.032Z"
   },
   {
    "duration": 31,
    "start_time": "2021-10-16T16:53:48.252Z"
   },
   {
    "duration": 128,
    "start_time": "2021-10-16T16:53:48.286Z"
   },
   {
    "duration": 304,
    "start_time": "2021-10-16T16:54:26.715Z"
   },
   {
    "duration": 293,
    "start_time": "2021-10-16T16:54:35.985Z"
   },
   {
    "duration": 22,
    "start_time": "2021-10-16T16:55:14.384Z"
   },
   {
    "duration": 96,
    "start_time": "2021-10-16T16:57:09.781Z"
   },
   {
    "duration": 1818,
    "start_time": "2021-10-16T16:57:17.355Z"
   },
   {
    "duration": 1904,
    "start_time": "2021-10-16T16:59:27.358Z"
   },
   {
    "duration": 570,
    "start_time": "2021-10-16T17:00:48.272Z"
   },
   {
    "duration": 590,
    "start_time": "2021-10-16T17:01:30.138Z"
   },
   {
    "duration": 1107,
    "start_time": "2021-10-16T17:06:47.197Z"
   },
   {
    "duration": 678,
    "start_time": "2021-10-16T17:07:42.508Z"
   },
   {
    "duration": -541,
    "start_time": "2021-10-16T17:18:23.577Z"
   },
   {
    "duration": -543,
    "start_time": "2021-10-16T17:18:23.581Z"
   },
   {
    "duration": -542,
    "start_time": "2021-10-16T17:18:23.583Z"
   },
   {
    "duration": -649,
    "start_time": "2021-10-16T17:18:23.693Z"
   },
   {
    "duration": -658,
    "start_time": "2021-10-16T17:18:23.705Z"
   },
   {
    "duration": -659,
    "start_time": "2021-10-16T17:18:23.708Z"
   },
   {
    "duration": -659,
    "start_time": "2021-10-16T17:18:23.711Z"
   },
   {
    "duration": -658,
    "start_time": "2021-10-16T17:18:23.713Z"
   },
   {
    "duration": -657,
    "start_time": "2021-10-16T17:18:23.715Z"
   },
   {
    "duration": -657,
    "start_time": "2021-10-16T17:18:23.717Z"
   },
   {
    "duration": -657,
    "start_time": "2021-10-16T17:18:23.720Z"
   },
   {
    "duration": -657,
    "start_time": "2021-10-16T17:18:23.723Z"
   },
   {
    "duration": -657,
    "start_time": "2021-10-16T17:18:23.725Z"
   },
   {
    "duration": -658,
    "start_time": "2021-10-16T17:18:23.729Z"
   },
   {
    "duration": -659,
    "start_time": "2021-10-16T17:18:23.732Z"
   },
   {
    "duration": -660,
    "start_time": "2021-10-16T17:18:23.736Z"
   },
   {
    "duration": -662,
    "start_time": "2021-10-16T17:18:23.740Z"
   },
   {
    "duration": -661,
    "start_time": "2021-10-16T17:18:23.742Z"
   },
   {
    "duration": 827,
    "start_time": "2021-10-16T17:19:51.799Z"
   },
   {
    "duration": 404,
    "start_time": "2021-10-16T17:20:01.207Z"
   },
   {
    "duration": 7317,
    "start_time": "2021-10-16T17:20:27.016Z"
   },
   {
    "duration": 329,
    "start_time": "2021-10-16T17:20:38.144Z"
   },
   {
    "duration": 386,
    "start_time": "2021-10-16T17:20:59.626Z"
   },
   {
    "duration": 410,
    "start_time": "2021-10-16T17:21:31.149Z"
   },
   {
    "duration": 418,
    "start_time": "2021-10-16T17:21:43.665Z"
   },
   {
    "duration": 397,
    "start_time": "2021-10-16T17:21:52.042Z"
   },
   {
    "duration": 733,
    "start_time": "2021-10-16T17:31:05.309Z"
   },
   {
    "duration": 568,
    "start_time": "2021-10-16T17:31:11.590Z"
   },
   {
    "duration": 459,
    "start_time": "2021-10-16T17:31:14.462Z"
   },
   {
    "duration": 464,
    "start_time": "2021-10-16T17:31:16.146Z"
   },
   {
    "duration": 727,
    "start_time": "2021-10-16T17:31:19.695Z"
   },
   {
    "duration": 1146,
    "start_time": "2021-10-16T17:31:25.122Z"
   },
   {
    "duration": 10310,
    "start_time": "2021-10-16T17:31:28.245Z"
   },
   {
    "duration": 9830,
    "start_time": "2021-10-16T17:31:53.700Z"
   },
   {
    "duration": 61,
    "start_time": "2021-10-16T17:32:03.533Z"
   },
   {
    "duration": 10002,
    "start_time": "2021-10-16T17:32:03.597Z"
   },
   {
    "duration": 22,
    "start_time": "2021-10-16T17:32:13.601Z"
   },
   {
    "duration": 442,
    "start_time": "2021-10-16T17:32:13.626Z"
   },
   {
    "duration": 330,
    "start_time": "2021-10-16T17:35:37.431Z"
   },
   {
    "duration": 2454,
    "start_time": "2021-10-16T17:36:18.223Z"
   },
   {
    "duration": 2431,
    "start_time": "2021-10-16T17:36:38.971Z"
   },
   {
    "duration": 2588,
    "start_time": "2021-10-16T17:37:05.677Z"
   },
   {
    "duration": 2125,
    "start_time": "2021-10-16T17:37:36.136Z"
   },
   {
    "duration": 9032,
    "start_time": "2021-10-16T17:41:45.998Z"
   },
   {
    "duration": 3293,
    "start_time": "2021-10-16T17:44:16.288Z"
   },
   {
    "duration": 306,
    "start_time": "2021-10-16T17:46:59.295Z"
   },
   {
    "duration": 2163,
    "start_time": "2021-10-16T17:47:24.992Z"
   },
   {
    "duration": 2461,
    "start_time": "2021-10-16T17:48:52.189Z"
   },
   {
    "duration": 2229,
    "start_time": "2021-10-16T17:49:19.524Z"
   },
   {
    "duration": 2183,
    "start_time": "2021-10-16T17:50:39.361Z"
   },
   {
    "duration": 2770,
    "start_time": "2021-10-16T17:51:08.812Z"
   },
   {
    "duration": 9538,
    "start_time": "2021-10-16T18:23:05.602Z"
   },
   {
    "duration": 95,
    "start_time": "2021-10-16T18:27:02.561Z"
   },
   {
    "duration": 112,
    "start_time": "2021-10-16T18:27:24.261Z"
   },
   {
    "duration": 102,
    "start_time": "2021-10-16T18:27:44.410Z"
   },
   {
    "duration": 9359,
    "start_time": "2021-10-16T18:27:53.452Z"
   },
   {
    "duration": 979,
    "start_time": "2021-10-17T07:55:09.559Z"
   },
   {
    "duration": 32,
    "start_time": "2021-10-17T07:55:10.541Z"
   },
   {
    "duration": 52,
    "start_time": "2021-10-17T07:55:10.576Z"
   },
   {
    "duration": 63,
    "start_time": "2021-10-17T07:55:10.631Z"
   },
   {
    "duration": 44772,
    "start_time": "2021-10-17T07:55:10.697Z"
   },
   {
    "duration": 1093,
    "start_time": "2021-10-17T07:55:55.472Z"
   },
   {
    "duration": 20,
    "start_time": "2021-10-17T07:55:56.568Z"
   },
   {
    "duration": 746,
    "start_time": "2021-10-17T07:55:56.591Z"
   },
   {
    "duration": 567,
    "start_time": "2021-10-17T07:55:57.342Z"
   },
   {
    "duration": 452,
    "start_time": "2021-10-17T07:55:57.912Z"
   },
   {
    "duration": 441,
    "start_time": "2021-10-17T07:55:58.367Z"
   },
   {
    "duration": 646,
    "start_time": "2021-10-17T07:55:58.810Z"
   },
   {
    "duration": 1143,
    "start_time": "2021-10-17T07:55:59.461Z"
   },
   {
    "duration": 9214,
    "start_time": "2021-10-17T07:56:00.606Z"
   },
   {
    "duration": 58,
    "start_time": "2021-10-17T07:56:09.822Z"
   },
   {
    "duration": 377,
    "start_time": "2021-10-17T07:56:09.882Z"
   },
   {
    "duration": 16,
    "start_time": "2021-10-17T07:56:10.246Z"
   },
   {
    "duration": 17,
    "start_time": "2021-10-17T07:56:10.247Z"
   },
   {
    "duration": 18,
    "start_time": "2021-10-17T07:56:10.248Z"
   },
   {
    "duration": 342,
    "start_time": "2021-10-17T14:38:49.461Z"
   },
   {
    "duration": 967,
    "start_time": "2021-10-17T14:39:00.326Z"
   },
   {
    "duration": 20,
    "start_time": "2021-10-17T14:39:05.419Z"
   },
   {
    "duration": 51,
    "start_time": "2021-10-17T14:39:09.897Z"
   },
   {
    "duration": 40,
    "start_time": "2021-10-17T14:39:15.347Z"
   },
   {
    "duration": 43327,
    "start_time": "2021-10-17T14:39:16.401Z"
   },
   {
    "duration": 1039,
    "start_time": "2021-10-17T14:39:59.731Z"
   },
   {
    "duration": 25,
    "start_time": "2021-10-17T14:40:00.773Z"
   },
   {
    "duration": 752,
    "start_time": "2021-10-17T14:40:00.801Z"
   },
   {
    "duration": 545,
    "start_time": "2021-10-17T14:40:01.555Z"
   },
   {
    "duration": 473,
    "start_time": "2021-10-17T14:40:02.103Z"
   },
   {
    "duration": 447,
    "start_time": "2021-10-17T14:40:02.578Z"
   },
   {
    "duration": 678,
    "start_time": "2021-10-17T14:40:03.030Z"
   },
   {
    "duration": 1117,
    "start_time": "2021-10-17T14:40:03.711Z"
   },
   {
    "duration": 8854,
    "start_time": "2021-10-17T14:40:04.831Z"
   },
   {
    "duration": 66,
    "start_time": "2021-10-17T14:40:13.688Z"
   },
   {
    "duration": 9335,
    "start_time": "2021-10-17T14:40:13.757Z"
   },
   {
    "duration": 34,
    "start_time": "2021-10-17T14:40:23.095Z"
   },
   {
    "duration": 409,
    "start_time": "2021-10-17T14:40:23.131Z"
   },
   {
    "duration": 2570,
    "start_time": "2021-10-17T14:40:23.542Z"
   },
   {
    "duration": 102,
    "start_time": "2021-10-17T15:23:07.831Z"
   },
   {
    "duration": 1875,
    "start_time": "2021-10-17T15:23:13.752Z"
   },
   {
    "duration": 1050,
    "start_time": "2021-10-17T15:24:19.659Z"
   },
   {
    "duration": 884,
    "start_time": "2021-10-17T15:24:33.917Z"
   },
   {
    "duration": 955,
    "start_time": "2021-10-17T15:24:56.748Z"
   },
   {
    "duration": 874,
    "start_time": "2021-10-17T15:25:18.628Z"
   },
   {
    "duration": 114,
    "start_time": "2021-10-17T15:25:36.317Z"
   },
   {
    "duration": 22,
    "start_time": "2021-10-17T15:25:36.434Z"
   },
   {
    "duration": 86,
    "start_time": "2021-10-17T15:25:36.459Z"
   },
   {
    "duration": 44,
    "start_time": "2021-10-17T15:25:36.548Z"
   },
   {
    "duration": 46479,
    "start_time": "2021-10-17T15:25:36.594Z"
   },
   {
    "duration": 998,
    "start_time": "2021-10-17T15:26:23.076Z"
   },
   {
    "duration": 22,
    "start_time": "2021-10-17T15:26:24.076Z"
   },
   {
    "duration": 773,
    "start_time": "2021-10-17T15:26:24.103Z"
   },
   {
    "duration": 4,
    "start_time": "2021-10-17T15:26:24.879Z"
   },
   {
    "duration": 12,
    "start_time": "2021-10-17T15:26:24.884Z"
   },
   {
    "duration": 441,
    "start_time": "2021-10-17T15:26:24.899Z"
   },
   {
    "duration": 664,
    "start_time": "2021-10-17T15:26:25.343Z"
   },
   {
    "duration": 1278,
    "start_time": "2021-10-17T15:26:26.010Z"
   },
   {
    "duration": 9406,
    "start_time": "2021-10-17T15:26:27.291Z"
   },
   {
    "duration": 58,
    "start_time": "2021-10-17T15:26:36.699Z"
   },
   {
    "duration": 8901,
    "start_time": "2021-10-17T15:26:36.759Z"
   },
   {
    "duration": 23,
    "start_time": "2021-10-17T15:26:45.662Z"
   },
   {
    "duration": 420,
    "start_time": "2021-10-17T15:26:45.688Z"
   },
   {
    "duration": 2604,
    "start_time": "2021-10-17T15:26:46.110Z"
   },
   {
    "duration": 683,
    "start_time": "2021-10-17T15:34:48.700Z"
   },
   {
    "duration": 733,
    "start_time": "2021-10-17T15:35:27.261Z"
   },
   {
    "duration": 438,
    "start_time": "2021-10-17T15:37:53.463Z"
   },
   {
    "duration": 563,
    "start_time": "2021-10-17T15:40:27.807Z"
   },
   {
    "duration": 603,
    "start_time": "2021-10-17T15:42:08.919Z"
   },
   {
    "duration": 454,
    "start_time": "2021-10-17T15:43:46.908Z"
   },
   {
    "duration": 96,
    "start_time": "2021-10-17T15:45:39.923Z"
   },
   {
    "duration": 443,
    "start_time": "2021-10-17T15:45:51.333Z"
   },
   {
    "duration": 269,
    "start_time": "2021-10-17T15:50:04.101Z"
   },
   {
    "duration": 13755,
    "start_time": "2021-10-17T15:50:11.463Z"
   },
   {
    "duration": 8950,
    "start_time": "2021-10-17T15:50:46.037Z"
   },
   {
    "duration": 9017,
    "start_time": "2021-10-17T15:51:28.936Z"
   },
   {
    "duration": 1122,
    "start_time": "2021-10-17T15:58:01.390Z"
   },
   {
    "duration": 963,
    "start_time": "2021-10-17T15:58:18.404Z"
   },
   {
    "duration": 787,
    "start_time": "2021-10-17T15:59:20.193Z"
   },
   {
    "duration": 2664,
    "start_time": "2021-10-17T16:00:17.121Z"
   },
   {
    "duration": 4061,
    "start_time": "2021-10-17T16:00:32.744Z"
   },
   {
    "duration": 2637,
    "start_time": "2021-10-17T16:02:54.138Z"
   },
   {
    "duration": 760,
    "start_time": "2021-10-18T06:54:53.286Z"
   },
   {
    "duration": 18,
    "start_time": "2021-10-18T06:54:54.048Z"
   },
   {
    "duration": 208,
    "start_time": "2021-10-18T06:54:54.069Z"
   },
   {
    "duration": 35,
    "start_time": "2021-10-18T06:54:54.279Z"
   },
   {
    "duration": 31163,
    "start_time": "2021-10-18T06:54:54.316Z"
   },
   {
    "duration": 757,
    "start_time": "2021-10-18T06:55:25.481Z"
   },
   {
    "duration": 31,
    "start_time": "2021-10-18T06:55:26.240Z"
   },
   {
    "duration": 455,
    "start_time": "2021-10-18T06:55:26.273Z"
   },
   {
    "duration": 346,
    "start_time": "2021-10-18T06:55:26.730Z"
   },
   {
    "duration": 296,
    "start_time": "2021-10-18T06:55:27.078Z"
   },
   {
    "duration": 287,
    "start_time": "2021-10-18T06:55:27.376Z"
   },
   {
    "duration": 1039,
    "start_time": "2021-10-18T06:55:27.665Z"
   },
   {
    "duration": 387,
    "start_time": "2021-10-18T06:55:28.706Z"
   },
   {
    "duration": 632,
    "start_time": "2021-10-18T06:55:29.095Z"
   },
   {
    "duration": 1437,
    "start_time": "2021-10-18T06:55:29.729Z"
   },
   {
    "duration": 30,
    "start_time": "2021-10-18T06:55:31.168Z"
   },
   {
    "duration": 5715,
    "start_time": "2021-10-18T06:55:31.200Z"
   },
   {
    "duration": 17,
    "start_time": "2021-10-18T06:55:36.917Z"
   },
   {
    "duration": 273,
    "start_time": "2021-10-18T06:55:36.936Z"
   },
   {
    "duration": 1359,
    "start_time": "2021-10-18T06:55:37.210Z"
   },
   {
    "duration": 663,
    "start_time": "2021-10-18T06:56:23.014Z"
   },
   {
    "duration": 724,
    "start_time": "2021-10-18T06:56:42.893Z"
   },
   {
    "duration": 1200,
    "start_time": "2021-10-18T06:57:20.663Z"
   },
   {
    "duration": 775,
    "start_time": "2021-10-18T06:58:10.185Z"
   },
   {
    "duration": 52,
    "start_time": "2021-10-18T06:58:35.513Z"
   },
   {
    "duration": 1012,
    "start_time": "2021-10-18T06:59:37.653Z"
   },
   {
    "duration": 1227,
    "start_time": "2021-10-18T06:59:47.469Z"
   },
   {
    "duration": 919,
    "start_time": "2021-10-20T00:08:08.068Z"
   },
   {
    "duration": 94,
    "start_time": "2021-10-20T00:36:52.492Z"
   },
   {
    "duration": 374,
    "start_time": "2021-10-20T01:49:36.186Z"
   },
   {
    "duration": 92,
    "start_time": "2021-10-20T01:49:42.395Z"
   },
   {
    "duration": 20,
    "start_time": "2021-10-20T01:49:42.489Z"
   },
   {
    "duration": 78,
    "start_time": "2021-10-20T01:49:42.512Z"
   },
   {
    "duration": 39,
    "start_time": "2021-10-20T01:49:42.593Z"
   },
   {
    "duration": 42917,
    "start_time": "2021-10-20T01:49:42.635Z"
   },
   {
    "duration": 981,
    "start_time": "2021-10-20T01:50:25.555Z"
   },
   {
    "duration": 29,
    "start_time": "2021-10-20T01:50:26.538Z"
   },
   {
    "duration": 702,
    "start_time": "2021-10-20T01:50:26.584Z"
   },
   {
    "duration": 572,
    "start_time": "2021-10-20T01:50:27.289Z"
   },
   {
    "duration": 471,
    "start_time": "2021-10-20T01:50:27.863Z"
   },
   {
    "duration": 448,
    "start_time": "2021-10-20T01:50:28.337Z"
   },
   {
    "duration": 1474,
    "start_time": "2021-10-20T01:50:28.788Z"
   },
   {
    "duration": 1720,
    "start_time": "2021-10-20T01:50:30.265Z"
   },
   {
    "duration": 620,
    "start_time": "2021-10-20T01:50:31.988Z"
   },
   {
    "duration": 1154,
    "start_time": "2021-10-20T01:50:32.612Z"
   },
   {
    "duration": 2114,
    "start_time": "2021-10-20T01:50:33.769Z"
   },
   {
    "duration": 41,
    "start_time": "2021-10-20T01:50:35.886Z"
   },
   {
    "duration": 8857,
    "start_time": "2021-10-20T01:50:35.929Z"
   },
   {
    "duration": 23,
    "start_time": "2021-10-20T01:50:44.788Z"
   },
   {
    "duration": 526,
    "start_time": "2021-10-20T01:50:44.814Z"
   },
   {
    "duration": 2030,
    "start_time": "2021-10-20T01:50:45.343Z"
   }
  ],
  "kernelspec": {
   "display_name": "Python 3",
   "language": "python",
   "name": "python3"
  },
  "language_info": {
   "codemirror_mode": {
    "name": "ipython",
    "version": 3
   },
   "file_extension": ".py",
   "mimetype": "text/x-python",
   "name": "python",
   "nbconvert_exporter": "python",
   "pygments_lexer": "ipython3",
   "version": "3.10.2"
  },
  "toc": {
   "base_numbering": 1,
   "nav_menu": {},
   "number_sections": true,
   "sideBar": true,
   "skip_h1_title": true,
   "title_cell": "Содержание",
   "title_sidebar": "Contents",
   "toc_cell": true,
   "toc_position": {
    "height": "calc(100% - 180px)",
    "left": "10px",
    "top": "150px",
    "width": "235.181px"
   },
   "toc_section_display": true,
   "toc_window_display": true
  }
 },
 "nbformat": 4,
 "nbformat_minor": 2
}
